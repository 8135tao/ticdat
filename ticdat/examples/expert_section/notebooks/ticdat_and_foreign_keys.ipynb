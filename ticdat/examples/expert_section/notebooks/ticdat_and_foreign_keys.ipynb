{
 "cells": [
  {
   "cell_type": "markdown",
   "metadata": {},
   "source": [
    "# Foreign keys and ticdat\n",
    "\n",
    "In my opinion the most important thing about foreign keys is checking them for referential integrity and handling the results in a sophisticated way. I think creating data structures that map between tables in Python code is relatively easy to do even without an ORM. So please bear with me while I discuss both topics together.\n",
    "\n",
    "## one-many - the more common case\n",
    "\n",
    "Here is a one-many foreign key (which is surely the most common type of foreign-key)."
   ]
  },
  {
   "cell_type": "code",
   "execution_count": 1,
   "metadata": {},
   "outputs": [],
   "source": [
    "from ticdat import TicDatFactory, Slicer\n",
    "tdf = TicDatFactory(parent_one = [[\"Name\"], [\"Data One\", \"Data Two\"]],\n",
    "                    child = [[\"Parent One\", \"Parent Two\"], [\"Data\"]])\n",
    "tdf.add_foreign_key( \"child\", \"parent_one\", [\"Parent One\", \"Name\"])"
   ]
  },
  {
   "cell_type": "markdown",
   "metadata": {},
   "source": [
    "I'm ommitting the \"Parent Two\" table for brevity - the \"Child\" table obviously has two parents, but there is a one-many relationship between \"Parent One\" and \"Child\".\n",
    "\n",
    "This is a non-default setting that slows things down a little bit on data load, in exchange for more easy table cross references."
   ]
  },
  {
   "cell_type": "code",
   "execution_count": 2,
   "metadata": {},
   "outputs": [],
   "source": [
    "tdf.enable_foreign_key_links()"
   ]
  },
  {
   "cell_type": "markdown",
   "metadata": {},
   "source": [
    "Could just as easily load data from any number of data sources (csv, Excel, PostGres, SQLite, Access, JSON) but I'll just build some right here for demonstration."
   ]
  },
  {
   "cell_type": "code",
   "execution_count": 3,
   "metadata": {},
   "outputs": [],
   "source": [
    "dat = tdf.TicDat(parent_one = [[f\"p_{i}\", i+10, i%3 * (i+1)] for i in range(5)], \n",
    "                 child = [[f\"p_{i}\", f\"q_{j}\", i*j] for i in range(5) for j in range(2,6)])"
   ]
  },
  {
   "cell_type": "code",
   "execution_count": 4,
   "metadata": {},
   "outputs": [
    {
     "data": {
      "text/plain": [
       "_td:{'Data One': 11, 'Data Two': 2}"
      ]
     },
     "execution_count": 4,
     "metadata": {},
     "output_type": "execute_result"
    }
   ],
   "source": [
    "dat.parent_one['p_1']"
   ]
  },
  {
   "cell_type": "markdown",
   "metadata": {},
   "source": [
    "This is the link."
   ]
  },
  {
   "cell_type": "code",
   "execution_count": 5,
   "metadata": {},
   "outputs": [
    {
     "data": {
      "text/plain": [
       "{'q_2': _td:{'Data': 2},\n",
       " 'q_3': _td:{'Data': 3},\n",
       " 'q_4': _td:{'Data': 4},\n",
       " 'q_5': _td:{'Data': 5}}"
      ]
     },
     "execution_count": 5,
     "metadata": {},
     "output_type": "execute_result"
    }
   ],
   "source": [
    "dat.parent_one['p_1'].child"
   ]
  },
  {
   "cell_type": "markdown",
   "metadata": {},
   "source": [
    "The other technique I like to use is the `Slicer` object.  This first `slice` call will iterate over the entire \"Child\" table."
   ]
  },
  {
   "cell_type": "code",
   "execution_count": 6,
   "metadata": {},
   "outputs": [
    {
     "data": {
      "text/plain": [
       "[(('p_1', 'q_2'), _td:{'Data': 2}),\n",
       " (('p_1', 'q_3'), _td:{'Data': 3}),\n",
       " (('p_1', 'q_4'), _td:{'Data': 4}),\n",
       " (('p_1', 'q_5'), _td:{'Data': 5})]"
      ]
     },
     "execution_count": 6,
     "metadata": {},
     "output_type": "execute_result"
    }
   ],
   "source": [
    "child_sliced = Slicer(dat.child)\n",
    "[(p_q, dat.child[p_q]) for p_q in child_sliced.slice('p_1', '*')]"
   ]
  },
  {
   "cell_type": "markdown",
   "metadata": {},
   "source": [
    "This second `slice` call is very fast, it only iterates over the subsection of the \"Child\" table that matches."
   ]
  },
  {
   "cell_type": "code",
   "execution_count": 7,
   "metadata": {},
   "outputs": [
    {
     "data": {
      "text/plain": [
       "[(('p_2', 'q_2'), _td:{'Data': 4}),\n",
       " (('p_2', 'q_3'), _td:{'Data': 6}),\n",
       " (('p_2', 'q_4'), _td:{'Data': 8}),\n",
       " (('p_2', 'q_5'), _td:{'Data': 10})]"
      ]
     },
     "execution_count": 7,
     "metadata": {},
     "output_type": "execute_result"
    }
   ],
   "source": [
    "[(p_q, dat.child[p_q]) for p_q in child_sliced.slice('p_2', '*')]"
   ]
  },
  {
   "cell_type": "markdown",
   "metadata": {},
   "source": [
    "`Slicer` is fairly consistent with how the modeling languges work, and is based on the `gurobipy.tuplelist` object, which was Gurobi's original recommendation for how to handle such things.\n",
    "\n",
    "Of course, integrity checking is the more important thing. You can't just pretend that every child record has a match in the parent table."
   ]
  },
  {
   "cell_type": "code",
   "execution_count": 8,
   "metadata": {},
   "outputs": [
    {
     "data": {
      "text/plain": [
       "{}"
      ]
     },
     "execution_count": 8,
     "metadata": {},
     "output_type": "execute_result"
    }
   ],
   "source": [
    "tdf.find_foreign_key_failures(dat)"
   ]
  },
  {
   "cell_type": "markdown",
   "metadata": {},
   "source": [
    "So I remove the 'p_1' record...."
   ]
  },
  {
   "cell_type": "code",
   "execution_count": 9,
   "metadata": {},
   "outputs": [
    {
     "data": {
      "text/plain": [
       "_td:{'Data One': 11, 'Data Two': 2}"
      ]
     },
     "execution_count": 9,
     "metadata": {},
     "output_type": "execute_result"
    }
   ],
   "source": [
    "dat.parent_one.pop('p_1')"
   ]
  },
  {
   "cell_type": "markdown",
   "metadata": {},
   "source": [
    "And this is how `ticdat` tells you its missing."
   ]
  },
  {
   "cell_type": "code",
   "execution_count": 10,
   "metadata": {},
   "outputs": [
    {
     "data": {
      "text/plain": [
       "{('child', 'parent_one', ('Parent One', 'Name')): (('p_1',),\n",
       "  (('p_1', 'q_3'), ('p_1', 'q_4'), ('p_1', 'q_5'), ('p_1', 'q_2')))}"
      ]
     },
     "execution_count": 10,
     "metadata": {},
     "output_type": "execute_result"
    }
   ],
   "source": [
    "tdf.find_foreign_key_failures(dat, verbosity=\"Low\")"
   ]
  },
  {
   "cell_type": "markdown",
   "metadata": {},
   "source": [
    "## many-many - the less common case\n",
    "\n",
    "So the many-many relationship is of course worth considering. `ticdat` handles the integrity checking part the same way, but it doesn't yet have `enable_foreign_key_links` turned on."
   ]
  },
  {
   "cell_type": "code",
   "execution_count": 11,
   "metadata": {},
   "outputs": [],
   "source": [
    "tdf = TicDatFactory(parent_one = [[\"Name\"], [\"Label\", \"Data\"]],\n",
    "                    child = [[\"Name\"], [\"Label\", \"Data\"]])\n",
    "tdf.add_foreign_key( \"child\", \"parent_one\", [\"Label\", \"Label\"])"
   ]
  },
  {
   "cell_type": "markdown",
   "metadata": {},
   "source": [
    "Not going to `enable_foreign_key_links` because it would lead to a \"complex foreign key\" exception. I can address this if needed."
   ]
  },
  {
   "cell_type": "code",
   "execution_count": 12,
   "metadata": {},
   "outputs": [],
   "source": [
    "dat = tdf.TicDat(parent_one = [[f\"p_{i}\", i%3, i+10] for i in range(5)], \n",
    "           child = [[ f\"q_{j}\", j%3, j+2] for j in range(2,7)])"
   ]
  },
  {
   "cell_type": "markdown",
   "metadata": {},
   "source": [
    "To cross reference the two tables, I would probably write something like this."
   ]
  },
  {
   "cell_type": "code",
   "execution_count": 13,
   "metadata": {},
   "outputs": [
    {
     "data": {
      "text/plain": [
       "[('q_2', _td:{'Label': 2, 'Data': 4}), ('q_5', _td:{'Label': 2, 'Data': 7})]"
      ]
     },
     "execution_count": 13,
     "metadata": {},
     "output_type": "execute_result"
    }
   ],
   "source": [
    "from collections import defaultdict\n",
    "child_sliced = defaultdict(set)\n",
    "for key, row in dat.child.items():\n",
    "    child_sliced[row[\"Label\"]].add(key)\n",
    "child_sliced = dict(child_sliced)\n",
    "[(_, dat.child[_]) for _ in child_sliced[2]]"
   ]
  },
  {
   "cell_type": "markdown",
   "metadata": {},
   "source": [
    "You can do something similar for looking up the \"Parent One\" table based on the value of \"label\".\n",
    "\n",
    "It wouldn't be hard to extend `ticdat` so that the many-many foreign keys have foreign key links for many-many relationships. In this case both you would create links from \"Parent One\" to \"Child\" and vice-versa. If this was enabled code like\n",
    "\n",
    "`dat.parent_one['p_2'].child`\n",
    "\n",
    "would evaluate to a sub-table of `dat.child` that had \"Label\"=2 (which is the \"Label\" for \"p_2\"). This same sub-table would be created for `dat.parent_one['p_4'].child`, `dat.parent_one['p_6'].child`, etc. since they also have \"Label\"=2.\n",
    "\n",
    "Now, the more important but less sexy integrity checking that everyone likes to pretend is unimportant. For many-many, as for one-many, the there are integrity failures if a child row can't find at least one parent row, but the converse isn't a problem."
   ]
  },
  {
   "cell_type": "code",
   "execution_count": 14,
   "metadata": {},
   "outputs": [
    {
     "data": {
      "text/plain": [
       "{}"
      ]
     },
     "execution_count": 14,
     "metadata": {},
     "output_type": "execute_result"
    }
   ],
   "source": [
    "tdf.find_foreign_key_failures(dat)"
   ]
  },
  {
   "cell_type": "code",
   "execution_count": 15,
   "metadata": {},
   "outputs": [
    {
     "data": {
      "text/plain": [
       "{}"
      ]
     },
     "execution_count": 15,
     "metadata": {},
     "output_type": "execute_result"
    }
   ],
   "source": [
    "dat.parent_one['p_1'][\"Label\"] = 10101\n",
    "tdf.find_foreign_key_failures(dat)"
   ]
  },
  {
   "cell_type": "code",
   "execution_count": 16,
   "metadata": {},
   "outputs": [
    {
     "data": {
      "text/plain": [
       "{('child', 'parent_one', ('Label', 'Label')): ((80085,), ('q_2',))}"
      ]
     },
     "execution_count": 16,
     "metadata": {},
     "output_type": "execute_result"
    }
   ],
   "source": [
    "dat.child['q_2'][\"Label\"] = 80085\n",
    "tdf.find_foreign_key_failures(dat, verbosity=\"Low\")"
   ]
  },
  {
   "cell_type": "code",
   "execution_count": null,
   "metadata": {},
   "outputs": [],
   "source": []
  }
 ],
 "metadata": {
  "kernelspec": {
   "display_name": "Python 3",
   "language": "python",
   "name": "python3"
  },
  "language_info": {
   "codemirror_mode": {
    "name": "ipython",
    "version": 3
   },
   "file_extension": ".py",
   "mimetype": "text/x-python",
   "name": "python",
   "nbconvert_exporter": "python",
   "pygments_lexer": "ipython3",
   "version": "3.7.0"
  }
 },
 "nbformat": 4,
 "nbformat_minor": 2
}
