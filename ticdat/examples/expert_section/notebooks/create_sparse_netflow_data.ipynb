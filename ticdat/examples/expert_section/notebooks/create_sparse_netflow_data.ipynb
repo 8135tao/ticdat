{
 "cells": [
  {
   "cell_type": "markdown",
   "metadata": {},
   "source": [
    "Create a more interesting network flow model that exercises slicing and sparsity."
   ]
  },
  {
   "cell_type": "code",
   "execution_count": 1,
   "metadata": {},
   "outputs": [],
   "source": [
    "from netflow import input_schema"
   ]
  },
  {
   "cell_type": "code",
   "execution_count": 2,
   "metadata": {},
   "outputs": [],
   "source": [
    "inf = float(\"inf\")\n",
    "dat = input_schema.TicDat(**{'arcs': [[u'warehouse_0', u'customer_4', inf],\n",
    "  [u'plant_12', u'warehouse_1', inf],\n",
    "  [u'warehouse_2', u'customer_8', inf],\n",
    "  [u'warehouse_1', u'customer_3', inf],\n",
    "  [u'warehouse_2', u'customer_6', inf],\n",
    "  [u'plant_6', u'warehouse_1', inf],\n",
    "  [u'warehouse_0', u'customer_9', inf],\n",
    "  [u'warehouse_1', u'customer_7', inf],\n",
    "  [u'warehouse_1', u'customer_5', inf],\n",
    "  [u'plant_4', u'warehouse_2', inf],\n",
    "  [u'plant_9', u'warehouse_0', inf],\n",
    "  [u'warehouse_0', u'customer_7', inf],\n",
    "  [u'warehouse_1', u'customer_2', inf],\n",
    "  [u'warehouse_1', u'customer_0', inf],\n",
    "  [u'warehouse_0', u'customer_1', inf],\n",
    "  [u'warehouse_0', u'customer_6', inf],\n",
    "  [u'warehouse_2', u'customer_3', inf],\n",
    "  [u'plant_14', u'warehouse_0', inf],\n",
    "  [u'plant_1', u'warehouse_1', inf],\n",
    "  [u'plant_5', u'warehouse_0', inf],\n",
    "  [u'warehouse_0', u'customer_2', inf],\n",
    "  [u'plant_13', u'warehouse_2', inf],\n",
    "  [u'plant_0', u'warehouse_0', inf],\n",
    "  [u'warehouse_2', u'customer_1', inf],\n",
    "  [u'warehouse_1', u'customer_8', inf]],\n",
    " 'commodities': [[u'P2'], [u'P3'], [u'P0'], [u'P1'], [u'P4']],\n",
    " 'cost': [[u'P2', u'plant_13', u'warehouse_2', 1.0],\n",
    "  [u'P2', u'warehouse_2', u'customer_8', 1.0],\n",
    "  [u'P1', u'warehouse_1', u'customer_0', 1.0],\n",
    "  [u'P3', u'warehouse_0', u'customer_4', 1.0],\n",
    "  [u'P4', u'warehouse_1', u'customer_3', 1.0],\n",
    "  [u'P1', u'plant_1', u'warehouse_1', 1.0],\n",
    "  [u'P2', u'warehouse_2', u'customer_6', 1.0],\n",
    "  [u'P2', u'plant_4', u'warehouse_2', 1.0],\n",
    "  [u'P0', u'warehouse_0', u'customer_1', 1.0],\n",
    "  [u'P1', u'warehouse_1', u'customer_2', 1.0],\n",
    "  [u'P1', u'plant_6', u'warehouse_1', 1.0],\n",
    "  [u'P0', u'warehouse_0', u'customer_9', 1.0],\n",
    "  [u'P1', u'warehouse_1', u'customer_5', 1.0],\n",
    "  [u'P3', u'warehouse_0', u'customer_7', 1.0],\n",
    "  [u'P4', u'plant_12', u'warehouse_1', 1.0],\n",
    "  [u'P4', u'warehouse_1', u'customer_5', 1.0],\n",
    "  [u'P1', u'warehouse_1', u'customer_7', 1.0],\n",
    "  [u'P0', u'plant_0', u'warehouse_0', 1.0],\n",
    "  [u'P0', u'plant_14', u'warehouse_0', 1.0],\n",
    "  [u'P2', u'warehouse_2', u'customer_3', 1.0],\n",
    "  [u'P4', u'plant_1', u'warehouse_1', 1.0],\n",
    "  [u'P3', u'plant_5', u'warehouse_0', 1.0],\n",
    "  [u'P0', u'warehouse_0', u'customer_6', 1.0],\n",
    "  [u'P3', u'warehouse_0', u'customer_2', 1.0],\n",
    "  [u'P3', u'plant_9', u'warehouse_0', 1.0],\n",
    "  [u'P4', u'warehouse_1', u'customer_0', 1.0],\n",
    "  [u'P2', u'warehouse_2', u'customer_1', 1.0],\n",
    "  [u'P0', u'warehouse_0', u'customer_4', 1.0],\n",
    "  [u'P4', u'warehouse_1', u'customer_8', 1.0],\n",
    "  [u'P3', u'warehouse_0', u'customer_9', 1.0]],\n",
    " 'inflow': [[u'P1', u'customer_0', -10.0],\n",
    "  [u'P0', u'customer_9', -10.0],\n",
    "  [u'P4', u'plant_1', 20.0],\n",
    "  [u'P0', u'plant_0', 20.0],\n",
    "  [u'P1', u'customer_2', -10.0],\n",
    "  [u'P2', u'customer_1', -10.0],\n",
    "  [u'P2', u'plant_4', 20.0],\n",
    "  [u'P2', u'customer_8', -10.0],\n",
    "  [u'P2', u'customer_3', -10.0],\n",
    "  [u'P1', u'plant_1', 20.0],\n",
    "  [u'P1', u'plant_6', 20.0],\n",
    "  [u'P3', u'customer_9', -10.0],\n",
    "  [u'P4', u'customer_3', -10.0],\n",
    "  [u'P3', u'customer_4', -10.0],\n",
    "  [u'P2', u'plant_13', 20.0],\n",
    "  [u'P0', u'customer_1', -10.0],\n",
    "  [u'P4', u'customer_8', -10.0],\n",
    "  [u'P3', u'plant_5', 20.0],\n",
    "  [u'P0', u'customer_6', -10.0],\n",
    "  [u'P1', u'customer_5', -10.0],\n",
    "  [u'P4', u'customer_5', -10.0],\n",
    "  [u'P0', u'customer_4', -10.0],\n",
    "  [u'P1', u'customer_7', -10.0],\n",
    "  [u'P3', u'customer_7', -10.0],\n",
    "  [u'P4', u'plant_12', 20.0],\n",
    "  [u'P3', u'customer_2', -10.0],\n",
    "  [u'P2', u'customer_6', -10.0],\n",
    "  [u'P3', u'plant_9', 20.0],\n",
    "  [u'P4', u'customer_0', -10.0],\n",
    "  [u'P0', u'plant_14', 20.0]],\n",
    " 'nodes': [[u'customer_9'],\n",
    "  [u'customer_8'],\n",
    "  [u'customer_7'],\n",
    "  [u'customer_6'],\n",
    "  [u'customer_5'],\n",
    "  [u'customer_4'],\n",
    "  [u'customer_3'],\n",
    "  [u'customer_2'],\n",
    "  [u'customer_1'],\n",
    "  [u'customer_0'],\n",
    "  [u'warehouse_2'],\n",
    "  [u'warehouse_1'],\n",
    "  [u'warehouse_0'],\n",
    "  [u'plant_9'],\n",
    "  [u'plant_8'],\n",
    "  [u'plant_1'],\n",
    "  [u'plant_0'],\n",
    "  [u'plant_3'],\n",
    "  [u'plant_2'],\n",
    "  [u'plant_5'],\n",
    "  [u'plant_4'],\n",
    "  [u'plant_7'],\n",
    "  [u'plant_6'],\n",
    "  [u'plant_14'],\n",
    "  [u'plant_11'],\n",
    "  [u'plant_10'],\n",
    "  [u'plant_13'],\n",
    "  [u'plant_12']]})"
   ]
  },
  {
   "cell_type": "markdown",
   "metadata": {},
   "source": [
    "Bear in mind the Inflow table isn't fully populated."
   ]
  },
  {
   "cell_type": "code",
   "execution_count": 3,
   "metadata": {},
   "outputs": [
    {
     "data": {
      "text/plain": [
       "(30, 140)"
      ]
     },
     "execution_count": 3,
     "metadata": {},
     "output_type": "execute_result"
    }
   ],
   "source": [
    "len(dat.inflow), len(dat.commodities) * len(dat.nodes)"
   ]
  },
  {
   "cell_type": "code",
   "execution_count": 4,
   "metadata": {},
   "outputs": [
    {
     "name": "stdout",
     "output_type": "stream",
     "text": [
      "env: PATH=PATH:/Users/XXXXX/ampl/ampl\n"
     ]
    }
   ],
   "source": [
    "# using the locally installed engine on my computer, comment this out for reproducing\n",
    "%env PATH = PATH:/Users/XXXXXX/ampl/ampl"
   ]
  },
  {
   "cell_type": "code",
   "execution_count": 5,
   "metadata": {},
   "outputs": [
    {
     "name": "stdout",
     "output_type": "stream",
     "text": [
      "Solution determined by presolve;\n",
      "objective TotalCost = 400.\n"
     ]
    }
   ],
   "source": [
    "from netflow import solve\n",
    "sln = solve(dat)"
   ]
  },
  {
   "cell_type": "code",
   "execution_count": 6,
   "metadata": {},
   "outputs": [
    {
     "data": {
      "text/plain": [
       "{'Total Cost': _td:{'Value': 400.0}}"
      ]
     },
     "execution_count": 6,
     "metadata": {},
     "output_type": "execute_result"
    }
   ],
   "source": [
    "sln.parameters"
   ]
  }
 ],
 "metadata": {
  "kernelspec": {
   "display_name": "Python 2",
   "language": "python",
   "name": "python2"
  },
  "language_info": {
   "codemirror_mode": {
    "name": "ipython",
    "version": 2
   },
   "file_extension": ".py",
   "mimetype": "text/x-python",
   "name": "python",
   "nbconvert_exporter": "python",
   "pygments_lexer": "ipython2",
   "version": "2.7.11"
  }
 },
 "nbformat": 4,
 "nbformat_minor": 2
}
