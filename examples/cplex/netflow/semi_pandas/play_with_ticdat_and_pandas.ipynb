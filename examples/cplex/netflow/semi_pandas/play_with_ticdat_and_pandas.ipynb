{
 "cells": [
  {
   "cell_type": "code",
   "execution_count": 1,
   "metadata": {
    "collapsed": false
   },
   "outputs": [],
   "source": [
    "from netflowpandasmodel import dataFactory"
   ]
  },
  {
   "cell_type": "code",
   "execution_count": 2,
   "metadata": {
    "collapsed": false
   },
   "outputs": [],
   "source": [
    "assert not dataFactory.csv.get_duplicates(\"csv_data\")\n",
    "dat = dataFactory.csv.create_tic_dat(\"csv_data\", freeze_it=True)"
   ]
  },
  {
   "cell_type": "markdown",
   "metadata": {},
   "source": [
    "`dat` now has the data in `TicDat` format (i.e. just dicts of dicts). For example - "
   ]
  },
  {
   "cell_type": "code",
   "execution_count": 3,
   "metadata": {
    "collapsed": false
   },
   "outputs": [
    {
     "data": {
      "text/plain": [
       "{('Pencils', 'Denver', 'Boston'): _td:{'cost': 40.0},\n",
       " ('Pencils', 'Denver', 'New York'): _td:{'cost': 40.0},\n",
       " ('Pencils', 'Denver', 'Seattle'): _td:{'cost': 30.0},\n",
       " ('Pencils', 'Detroit', 'Boston'): _td:{'cost': 10.0},\n",
       " ('Pencils', 'Detroit', 'New York'): _td:{'cost': 20.0},\n",
       " ('Pencils', 'Detroit', 'Seattle'): _td:{'cost': 60.0},\n",
       " ('Pens', 'Denver', 'Boston'): _td:{'cost': 60.0},\n",
       " ('Pens', 'Denver', 'New York'): _td:{'cost': 70.0},\n",
       " ('Pens', 'Denver', 'Seattle'): _td:{'cost': 30.0},\n",
       " ('Pens', 'Detroit', 'Boston'): _td:{'cost': 20.0},\n",
       " ('Pens', 'Detroit', 'New York'): _td:{'cost': 20.0},\n",
       " ('Pens', 'Detroit', 'Seattle'): _td:{'cost': 80.0}}"
      ]
     },
     "execution_count": 3,
     "metadata": {},
     "output_type": "execute_result"
    }
   ],
   "source": [
    "dat.cost"
   ]
  },
  {
   "cell_type": "markdown",
   "metadata": {},
   "source": [
    "We can easily create a copy where each table is a `pandas.DataFrame`."
   ]
  },
  {
   "cell_type": "code",
   "execution_count": 4,
   "metadata": {
    "collapsed": false
   },
   "outputs": [],
   "source": [
    " pandat = dataFactory.copy_to_pandas(dat)"
   ]
  },
  {
   "cell_type": "markdown",
   "metadata": {},
   "source": [
    "By default, the primary key fields are represented in the index of the tables and not the columns of the tables."
   ]
  },
  {
   "cell_type": "code",
   "execution_count": 5,
   "metadata": {
    "collapsed": false
   },
   "outputs": [
    {
     "data": {
      "text/html": [
       "<div>\n",
       "<table border=\"1\" class=\"dataframe\">\n",
       "  <thead>\n",
       "    <tr style=\"text-align: right;\">\n",
       "      <th></th>\n",
       "      <th></th>\n",
       "      <th></th>\n",
       "      <th>cost</th>\n",
       "    </tr>\n",
       "    <tr>\n",
       "      <th>commodity</th>\n",
       "      <th>source</th>\n",
       "      <th>destination</th>\n",
       "      <th></th>\n",
       "    </tr>\n",
       "  </thead>\n",
       "  <tbody>\n",
       "    <tr>\n",
       "      <th rowspan=\"6\" valign=\"top\">Pencils</th>\n",
       "      <th rowspan=\"3\" valign=\"top\">Denver</th>\n",
       "      <th>Boston</th>\n",
       "      <td>40</td>\n",
       "    </tr>\n",
       "    <tr>\n",
       "      <th>New York</th>\n",
       "      <td>40</td>\n",
       "    </tr>\n",
       "    <tr>\n",
       "      <th>Seattle</th>\n",
       "      <td>30</td>\n",
       "    </tr>\n",
       "    <tr>\n",
       "      <th rowspan=\"3\" valign=\"top\">Detroit</th>\n",
       "      <th>Boston</th>\n",
       "      <td>10</td>\n",
       "    </tr>\n",
       "    <tr>\n",
       "      <th>New York</th>\n",
       "      <td>20</td>\n",
       "    </tr>\n",
       "    <tr>\n",
       "      <th>Seattle</th>\n",
       "      <td>60</td>\n",
       "    </tr>\n",
       "    <tr>\n",
       "      <th rowspan=\"6\" valign=\"top\">Pens</th>\n",
       "      <th rowspan=\"3\" valign=\"top\">Denver</th>\n",
       "      <th>Boston</th>\n",
       "      <td>60</td>\n",
       "    </tr>\n",
       "    <tr>\n",
       "      <th>New York</th>\n",
       "      <td>70</td>\n",
       "    </tr>\n",
       "    <tr>\n",
       "      <th>Seattle</th>\n",
       "      <td>30</td>\n",
       "    </tr>\n",
       "    <tr>\n",
       "      <th rowspan=\"3\" valign=\"top\">Detroit</th>\n",
       "      <th>Boston</th>\n",
       "      <td>20</td>\n",
       "    </tr>\n",
       "    <tr>\n",
       "      <th>New York</th>\n",
       "      <td>20</td>\n",
       "    </tr>\n",
       "    <tr>\n",
       "      <th>Seattle</th>\n",
       "      <td>80</td>\n",
       "    </tr>\n",
       "  </tbody>\n",
       "</table>\n",
       "</div>"
      ],
      "text/plain": [
       "                               cost\n",
       "commodity source  destination      \n",
       "Pencils   Denver  Boston         40\n",
       "                  New York       40\n",
       "                  Seattle        30\n",
       "          Detroit Boston         10\n",
       "                  New York       20\n",
       "                  Seattle        60\n",
       "Pens      Denver  Boston         60\n",
       "                  New York       70\n",
       "                  Seattle        30\n",
       "          Detroit Boston         20\n",
       "                  New York       20\n",
       "                  Seattle        80"
      ]
     },
     "execution_count": 5,
     "metadata": {},
     "output_type": "execute_result"
    }
   ],
   "source": [
    "pandat.cost"
   ]
  },
  {
   "cell_type": "markdown",
   "metadata": {},
   "source": [
    "However, this is easy to change if you'd rather none of the columns be dropped."
   ]
  },
  {
   "cell_type": "code",
   "execution_count": 6,
   "metadata": {
    "collapsed": false
   },
   "outputs": [
    {
     "data": {
      "text/html": [
       "<div>\n",
       "<table border=\"1\" class=\"dataframe\">\n",
       "  <thead>\n",
       "    <tr style=\"text-align: right;\">\n",
       "      <th></th>\n",
       "      <th></th>\n",
       "      <th></th>\n",
       "      <th>commodity</th>\n",
       "      <th>source</th>\n",
       "      <th>destination</th>\n",
       "      <th>cost</th>\n",
       "    </tr>\n",
       "    <tr>\n",
       "      <th>commodity</th>\n",
       "      <th>source</th>\n",
       "      <th>destination</th>\n",
       "      <th></th>\n",
       "      <th></th>\n",
       "      <th></th>\n",
       "      <th></th>\n",
       "    </tr>\n",
       "  </thead>\n",
       "  <tbody>\n",
       "    <tr>\n",
       "      <th rowspan=\"6\" valign=\"top\">Pencils</th>\n",
       "      <th rowspan=\"3\" valign=\"top\">Denver</th>\n",
       "      <th>Boston</th>\n",
       "      <td>Pencils</td>\n",
       "      <td>Denver</td>\n",
       "      <td>Boston</td>\n",
       "      <td>40</td>\n",
       "    </tr>\n",
       "    <tr>\n",
       "      <th>New York</th>\n",
       "      <td>Pencils</td>\n",
       "      <td>Denver</td>\n",
       "      <td>New York</td>\n",
       "      <td>40</td>\n",
       "    </tr>\n",
       "    <tr>\n",
       "      <th>Seattle</th>\n",
       "      <td>Pencils</td>\n",
       "      <td>Denver</td>\n",
       "      <td>Seattle</td>\n",
       "      <td>30</td>\n",
       "    </tr>\n",
       "    <tr>\n",
       "      <th rowspan=\"3\" valign=\"top\">Detroit</th>\n",
       "      <th>Boston</th>\n",
       "      <td>Pencils</td>\n",
       "      <td>Detroit</td>\n",
       "      <td>Boston</td>\n",
       "      <td>10</td>\n",
       "    </tr>\n",
       "    <tr>\n",
       "      <th>New York</th>\n",
       "      <td>Pencils</td>\n",
       "      <td>Detroit</td>\n",
       "      <td>New York</td>\n",
       "      <td>20</td>\n",
       "    </tr>\n",
       "    <tr>\n",
       "      <th>Seattle</th>\n",
       "      <td>Pencils</td>\n",
       "      <td>Detroit</td>\n",
       "      <td>Seattle</td>\n",
       "      <td>60</td>\n",
       "    </tr>\n",
       "    <tr>\n",
       "      <th rowspan=\"6\" valign=\"top\">Pens</th>\n",
       "      <th rowspan=\"3\" valign=\"top\">Denver</th>\n",
       "      <th>Boston</th>\n",
       "      <td>Pens</td>\n",
       "      <td>Denver</td>\n",
       "      <td>Boston</td>\n",
       "      <td>60</td>\n",
       "    </tr>\n",
       "    <tr>\n",
       "      <th>New York</th>\n",
       "      <td>Pens</td>\n",
       "      <td>Denver</td>\n",
       "      <td>New York</td>\n",
       "      <td>70</td>\n",
       "    </tr>\n",
       "    <tr>\n",
       "      <th>Seattle</th>\n",
       "      <td>Pens</td>\n",
       "      <td>Denver</td>\n",
       "      <td>Seattle</td>\n",
       "      <td>30</td>\n",
       "    </tr>\n",
       "    <tr>\n",
       "      <th rowspan=\"3\" valign=\"top\">Detroit</th>\n",
       "      <th>Boston</th>\n",
       "      <td>Pens</td>\n",
       "      <td>Detroit</td>\n",
       "      <td>Boston</td>\n",
       "      <td>20</td>\n",
       "    </tr>\n",
       "    <tr>\n",
       "      <th>New York</th>\n",
       "      <td>Pens</td>\n",
       "      <td>Detroit</td>\n",
       "      <td>New York</td>\n",
       "      <td>20</td>\n",
       "    </tr>\n",
       "    <tr>\n",
       "      <th>Seattle</th>\n",
       "      <td>Pens</td>\n",
       "      <td>Detroit</td>\n",
       "      <td>Seattle</td>\n",
       "      <td>80</td>\n",
       "    </tr>\n",
       "  </tbody>\n",
       "</table>\n",
       "</div>"
      ],
      "text/plain": [
       "                              commodity   source destination  cost\n",
       "commodity source  destination                                     \n",
       "Pencils   Denver  Boston        Pencils   Denver      Boston    40\n",
       "                  New York      Pencils   Denver    New York    40\n",
       "                  Seattle       Pencils   Denver     Seattle    30\n",
       "          Detroit Boston        Pencils  Detroit      Boston    10\n",
       "                  New York      Pencils  Detroit    New York    20\n",
       "                  Seattle       Pencils  Detroit     Seattle    60\n",
       "Pens      Denver  Boston           Pens   Denver      Boston    60\n",
       "                  New York         Pens   Denver    New York    70\n",
       "                  Seattle          Pens   Denver     Seattle    30\n",
       "          Detroit Boston           Pens  Detroit      Boston    20\n",
       "                  New York         Pens  Detroit    New York    20\n",
       "                  Seattle          Pens  Detroit     Seattle    80"
      ]
     },
     "execution_count": 6,
     "metadata": {},
     "output_type": "execute_result"
    }
   ],
   "source": [
    "pandat = dataFactory.copy_to_pandas(dat, drop_pk_columns=False)\n",
    "pandat.cost"
   ]
  }
 ],
 "metadata": {
  "kernelspec": {
   "display_name": "Python 2",
   "language": "python",
   "name": "python2"
  },
  "language_info": {
   "codemirror_mode": {
    "name": "ipython",
    "version": 2
   },
   "file_extension": ".py",
   "mimetype": "text/x-python",
   "name": "python",
   "nbconvert_exporter": "python",
   "pygments_lexer": "ipython2",
   "version": "2.7.11"
  }
 },
 "nbformat": 4,
 "nbformat_minor": 0
}
