{
 "metadata": {
  "name": ""
 },
 "nbformat": 3,
 "nbformat_minor": 0,
 "worksheets": [
  {
   "cells": [
    {
     "cell_type": "code",
     "collapsed": false,
     "input": [
      "from netflowmodel import dataFactory, solve"
     ],
     "language": "python",
     "metadata": {},
     "outputs": [],
     "prompt_number": 1
    },
    {
     "cell_type": "markdown",
     "metadata": {},
     "source": [
      "`ticdat` has so many cool overrides that I can cut-and-paste gurobis hardcoded data with just a couple of edits and the `TicDat` object knows what I mean from context."
     ]
    },
    {
     "cell_type": "code",
     "collapsed": false,
     "input": [
      "gurobisData = dataFactory.TicDat(\n",
      "commodities = ['Pencils', 'Pens'],\n",
      "nodes = ['Detroit', 'Denver', 'Boston', 'New York', 'Seattle'],\n",
      "\n",
      "arcs = {\n",
      "  ('Detroit', 'Boston'):   100,\n",
      "  ('Detroit', 'New York'):  80,\n",
      "  ('Detroit', 'Seattle'):  120,\n",
      "  ('Denver',  'Boston'):   120,\n",
      "  ('Denver',  'New York'): 120,\n",
      "  ('Denver',  'Seattle'):  120 },\n",
      "\n",
      "cost = {\n",
      "  ('Pencils', 'Detroit', 'Boston'):   10,\n",
      "  ('Pencils', 'Detroit', 'New York'): 20,\n",
      "  ('Pencils', 'Detroit', 'Seattle'):  60,\n",
      "  ('Pencils', 'Denver',  'Boston'):   40,\n",
      "  ('Pencils', 'Denver',  'New York'): 40,\n",
      "  ('Pencils', 'Denver',  'Seattle'):  30,\n",
      "  ('Pens',    'Detroit', 'Boston'):   20,\n",
      "  ('Pens',    'Detroit', 'New York'): 20,\n",
      "  ('Pens',    'Detroit', 'Seattle'):  80,\n",
      "  ('Pens',    'Denver',  'Boston'):   60,\n",
      "  ('Pens',    'Denver',  'New York'): 70,\n",
      "  ('Pens',    'Denver',  'Seattle'):  30 },\n",
      "\n",
      "inflow = {\n",
      "  ('Pencils', 'Detroit'):   50,\n",
      "  ('Pencils', 'Denver'):    60,\n",
      "  ('Pencils', 'Boston'):   -50,\n",
      "  ('Pencils', 'New York'): -50,\n",
      "  ('Pencils', 'Seattle'):  -10,\n",
      "  ('Pens',    'Detroit'):   60,\n",
      "  ('Pens',    'Denver'):    40,\n",
      "  ('Pens',    'Boston'):   -40,\n",
      "  ('Pens',    'New York'): -30,\n",
      "  ('Pens',    'Seattle'):  -30 },\n",
      ")"
     ],
     "language": "python",
     "metadata": {},
     "outputs": [],
     "prompt_number": 2
    },
    {
     "cell_type": "code",
     "collapsed": false,
     "input": [
      "solution = solve(gurobisData)"
     ],
     "language": "python",
     "metadata": {},
     "outputs": [
      {
       "output_type": "stream",
       "stream": "stdout",
       "text": [
        "Optimize a model with 16 rows, 13 columns and 46 nonzeros\n"
       ]
      },
      {
       "output_type": "stream",
       "stream": "stdout",
       "text": [
        "Presolve removed 16 rows and 13 columns\n"
       ]
      },
      {
       "output_type": "stream",
       "stream": "stdout",
       "text": [
        "Presolve time: 0.00s\n"
       ]
      },
      {
       "output_type": "stream",
       "stream": "stdout",
       "text": [
        "Presolve: All rows and columns removed\n"
       ]
      },
      {
       "output_type": "stream",
       "stream": "stdout",
       "text": [
        "Iteration    Objective       Primal Inf.    Dual Inf.      Time\n"
       ]
      },
      {
       "output_type": "stream",
       "stream": "stdout",
       "text": [
        "       0    5.5000000e+03   0.000000e+00   0.000000e+00      0s\n"
       ]
      },
      {
       "output_type": "stream",
       "stream": "stdout",
       "text": [
        "\n"
       ]
      },
      {
       "output_type": "stream",
       "stream": "stdout",
       "text": [
        "Solved in 0 iterations and 0.00 seconds\n"
       ]
      },
      {
       "output_type": "stream",
       "stream": "stdout",
       "text": [
        "Optimal objective  5.500000000e+03\n"
       ]
      }
     ],
     "prompt_number": 3
    },
    {
     "cell_type": "code",
     "collapsed": false,
     "input": [
      "solution.flow"
     ],
     "language": "python",
     "metadata": {},
     "outputs": [
      {
       "metadata": {},
       "output_type": "pyout",
       "prompt_number": 4,
       "text": [
        "{('Pencils', 'Denver', 'New York'): _td:{'quantity': 50.0},\n",
        " ('Pencils', 'Denver', 'Seattle'): _td:{'quantity': 10.0},\n",
        " ('Pencils', 'Detroit', 'Boston'): _td:{'quantity': 50.0},\n",
        " ('Pens', 'Denver', 'Boston'): _td:{'quantity': 10.0},\n",
        " ('Pens', 'Denver', 'Seattle'): _td:{'quantity': 30.0},\n",
        " ('Pens', 'Detroit', 'Boston'): _td:{'quantity': 30.0},\n",
        " ('Pens', 'Detroit', 'New York'): _td:{'quantity': 30.0}}"
       ]
      }
     ],
     "prompt_number": 4
    },
    {
     "cell_type": "markdown",
     "metadata": {},
     "source": [
      "I just copied the gurobi `netflow.py` script into the `gurobinetflow.py` file. Lets run that for comparison."
     ]
    },
    {
     "cell_type": "code",
     "collapsed": false,
     "input": [
      "run gurobinetflow.py"
     ],
     "language": "python",
     "metadata": {},
     "outputs": [
      {
       "output_type": "stream",
       "stream": "stdout",
       "text": [
        "Optimize a model with 16 rows, 12 columns and 36 nonzeros\n"
       ]
      },
      {
       "output_type": "stream",
       "stream": "stdout",
       "text": [
        "Presolve removed 16 rows and 12 columns\n"
       ]
      },
      {
       "output_type": "stream",
       "stream": "stdout",
       "text": [
        "Presolve time: 0.00s\n"
       ]
      },
      {
       "output_type": "stream",
       "stream": "stdout",
       "text": [
        "Presolve: All rows and columns removed\n"
       ]
      },
      {
       "output_type": "stream",
       "stream": "stdout",
       "text": [
        "Iteration    Objective       Primal Inf.    Dual Inf.      Time\n"
       ]
      },
      {
       "output_type": "stream",
       "stream": "stdout",
       "text": [
        "       0    5.5000000e+03   0.000000e+00   0.000000e+00      0s\n"
       ]
      },
      {
       "output_type": "stream",
       "stream": "stdout",
       "text": [
        "\n"
       ]
      },
      {
       "output_type": "stream",
       "stream": "stdout",
       "text": [
        "Solved in 0 iterations and 0.00 seconds\n"
       ]
      },
      {
       "output_type": "stream",
       "stream": "stdout",
       "text": [
        "Optimal objective  5.500000000e+03\n"
       ]
      },
      {
       "output_type": "stream",
       "stream": "stdout",
       "text": [
        "\n",
        "Optimal flows for Pencils:\n",
        "Denver -> Seattle: 10\n",
        "Denver -> New York: 50\n",
        "Detroit -> Boston: 50\n",
        "\n",
        "Optimal flows for Pens:\n",
        "Denver -> Seattle: 30\n",
        "Detroit -> New York: 30\n",
        "Detroit -> Boston: 30\n",
        "Denver -> Boston: 10\n"
       ]
      }
     ],
     "prompt_number": 5
    },
    {
     "cell_type": "markdown",
     "metadata": {},
     "source": [
      "So for real work I'd obviously have a test bigger than one, but for our purposes I think getting the same 7 record result is sufficient.\n",
      "\n",
      "Let's dump the .csv files you want."
     ]
    },
    {
     "cell_type": "code",
     "collapsed": false,
     "input": [
      "dataFactory.csv.write_directory(gurobisData, \"csv_data\", allow_overwrite=True)"
     ],
     "language": "python",
     "metadata": {},
     "outputs": [],
     "prompt_number": 7
    }
   ],
   "metadata": {}
  }
 ]
}