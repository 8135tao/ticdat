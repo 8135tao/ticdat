{
 "metadata": {
  "name": ""
 },
 "nbformat": 3,
 "nbformat_minor": 0,
 "worksheets": [
  {
   "cells": [
    {
     "cell_type": "heading",
     "level": 1,
     "metadata": {},
     "source": [
      "pandas, numpy and ticdat interpret dict of dicts differnetly\n"
     ]
    },
    {
     "cell_type": "markdown",
     "metadata": {},
     "source": [
      "`pandas` and `ticdat` interpret dict of dict in opposite ways. `pandas` treats each outer key as a column name, and each inner dict as itself a column, with the inner keys indexed the rows. `ticdat` uses the transpose of this - each outer key idenifies a row (i.e. they are the values of the unnamed primary key values) and each inner dict is itself a row. `ticdat` can enforce that the inner dicts all contain common keys. \n",
      "\n",
      "I don't think this inconsistency is a huge problem, but it is worth pointing out."
     ]
    },
    {
     "cell_type": "code",
     "collapsed": false,
     "input": [
      "from pandas import Series, DataFrame"
     ],
     "language": "python",
     "metadata": {},
     "outputs": [],
     "prompt_number": 1
    },
    {
     "cell_type": "code",
     "collapsed": false,
     "input": [
      "import pandas as pd"
     ],
     "language": "python",
     "metadata": {},
     "outputs": [],
     "prompt_number": 2
    },
    {
     "cell_type": "code",
     "collapsed": false,
     "input": [
      "import ticdat\n"
     ],
     "language": "python",
     "metadata": {},
     "outputs": [],
     "prompt_number": 3
    },
    {
     "cell_type": "code",
     "collapsed": false,
     "input": [
      "import ticdat.testing.ticdattestutils as ttu"
     ],
     "language": "python",
     "metadata": {},
     "outputs": [],
     "prompt_number": 4
    },
    {
     "cell_type": "code",
     "collapsed": false,
     "input": [
      "tdf = ticdat.TicDatFactory(**ttu.dietSchema())\n"
     ],
     "language": "python",
     "metadata": {},
     "outputs": [],
     "prompt_number": 5
    },
    {
     "cell_type": "code",
     "collapsed": false,
     "input": [
      "dietdat = tdf.copy_tic_dat(ttu.dietData())"
     ],
     "language": "python",
     "metadata": {},
     "outputs": [],
     "prompt_number": 6
    },
    {
     "cell_type": "code",
     "collapsed": false,
     "input": [
      "dietdat"
     ],
     "language": "python",
     "metadata": {},
     "outputs": [
      {
       "metadata": {},
       "output_type": "pyout",
       "prompt_number": 7,
       "text": [
        "td:('nutritionQuantities', 'foods', 'categories')"
       ]
      }
     ],
     "prompt_number": 7
    },
    {
     "cell_type": "markdown",
     "metadata": {},
     "source": [
      "`ticdat.foods` and `ticdat.categories` are effectively dicts of dicts. Here is Wes McKinney's dict of dicts example.\n"
     ]
    },
    {
     "cell_type": "code",
     "collapsed": false,
     "input": [
      "pop = {'Nevada':{2001:2.4,2002:2.9}, 'Ohio':{2000:1.5, 2001:1.7, 2002:3.6}}"
     ],
     "language": "python",
     "metadata": {},
     "outputs": [],
     "prompt_number": 8
    },
    {
     "cell_type": "code",
     "collapsed": false,
     "input": [
      "frame3 = DataFrame(pop)"
     ],
     "language": "python",
     "metadata": {},
     "outputs": [],
     "prompt_number": 9
    },
    {
     "cell_type": "code",
     "collapsed": false,
     "input": [
      "frame3"
     ],
     "language": "python",
     "metadata": {},
     "outputs": [
      {
       "html": [
        "<div style=\"max-height:1000px;max-width:1500px;overflow:auto;\">\n",
        "<table border=\"1\" class=\"dataframe\">\n",
        "  <thead>\n",
        "    <tr style=\"text-align: right;\">\n",
        "      <th></th>\n",
        "      <th>Nevada</th>\n",
        "      <th>Ohio</th>\n",
        "    </tr>\n",
        "  </thead>\n",
        "  <tbody>\n",
        "    <tr>\n",
        "      <th>2000</th>\n",
        "      <td> NaN</td>\n",
        "      <td> 1.5</td>\n",
        "    </tr>\n",
        "    <tr>\n",
        "      <th>2001</th>\n",
        "      <td> 2.4</td>\n",
        "      <td> 1.7</td>\n",
        "    </tr>\n",
        "    <tr>\n",
        "      <th>2002</th>\n",
        "      <td> 2.9</td>\n",
        "      <td> 3.6</td>\n",
        "    </tr>\n",
        "  </tbody>\n",
        "</table>\n",
        "</div>"
       ],
       "metadata": {},
       "output_type": "pyout",
       "prompt_number": 10,
       "text": [
        "      Nevada  Ohio\n",
        "2000     NaN   1.5\n",
        "2001     2.4   1.7\n",
        "2002     2.9   3.6"
       ]
      }
     ],
     "prompt_number": 10
    },
    {
     "cell_type": "code",
     "collapsed": false,
     "input": [
      "frame3.T"
     ],
     "language": "python",
     "metadata": {},
     "outputs": [
      {
       "html": [
        "<div style=\"max-height:1000px;max-width:1500px;overflow:auto;\">\n",
        "<table border=\"1\" class=\"dataframe\">\n",
        "  <thead>\n",
        "    <tr style=\"text-align: right;\">\n",
        "      <th></th>\n",
        "      <th>2000</th>\n",
        "      <th>2001</th>\n",
        "      <th>2002</th>\n",
        "    </tr>\n",
        "  </thead>\n",
        "  <tbody>\n",
        "    <tr>\n",
        "      <th>Nevada</th>\n",
        "      <td> NaN</td>\n",
        "      <td> 2.4</td>\n",
        "      <td> 2.9</td>\n",
        "    </tr>\n",
        "    <tr>\n",
        "      <th>Ohio</th>\n",
        "      <td> 1.5</td>\n",
        "      <td> 1.7</td>\n",
        "      <td> 3.6</td>\n",
        "    </tr>\n",
        "  </tbody>\n",
        "</table>\n",
        "</div>"
       ],
       "metadata": {},
       "output_type": "pyout",
       "prompt_number": 11,
       "text": [
        "        2000  2001  2002\n",
        "Nevada   NaN   2.4   2.9\n",
        "Ohio     1.5   1.7   3.6"
       ]
      }
     ],
     "prompt_number": 11
    },
    {
     "cell_type": "markdown",
     "metadata": {},
     "source": [
      "The transposed copy is more consistent with how `ticdat` does things, as it it treats the inner dict keys as columns names and the outer dict keys as ways to look up a row. So, for example, this feels right to me.\n",
      "\n",
      "(Aside, there is some coercien required to get pandas to recognize my objects as dictish)"
     ]
    },
    {
     "cell_type": "code",
     "collapsed": false,
     "input": [
      "DataFrame({k:dict(v) for k,v in dietdat.foods.items()})\n"
     ],
     "language": "python",
     "metadata": {},
     "outputs": [
      {
       "html": [
        "<div style=\"max-height:1000px;max-width:1500px;overflow:auto;\">\n",
        "<table border=\"1\" class=\"dataframe\">\n",
        "  <thead>\n",
        "    <tr style=\"text-align: right;\">\n",
        "      <th></th>\n",
        "      <th>chicken</th>\n",
        "      <th>fries</th>\n",
        "      <th>hamburger</th>\n",
        "      <th>hot dog</th>\n",
        "      <th>ice cream</th>\n",
        "      <th>macaroni</th>\n",
        "      <th>milk</th>\n",
        "      <th>pizza</th>\n",
        "      <th>salad</th>\n",
        "    </tr>\n",
        "  </thead>\n",
        "  <tbody>\n",
        "    <tr>\n",
        "      <th>cost</th>\n",
        "      <td> 2.89</td>\n",
        "      <td> 1.89</td>\n",
        "      <td> 2.49</td>\n",
        "      <td> 1.5</td>\n",
        "      <td> 1.59</td>\n",
        "      <td> 2.09</td>\n",
        "      <td> 0.89</td>\n",
        "      <td> 1.99</td>\n",
        "      <td> 2.49</td>\n",
        "    </tr>\n",
        "  </tbody>\n",
        "</table>\n",
        "</div>"
       ],
       "metadata": {},
       "output_type": "pyout",
       "prompt_number": 12,
       "text": [
        "      chicken  fries  hamburger  hot dog  ice cream  macaroni  milk  pizza  \\\n",
        "cost     2.89   1.89       2.49      1.5       1.59      2.09  0.89   1.99   \n",
        "\n",
        "      salad  \n",
        "cost   2.49  "
       ]
      }
     ],
     "prompt_number": 12
    },
    {
     "cell_type": "code",
     "collapsed": false,
     "input": [
      "DataFrame({k:dict(v) for k,v in dietdat.foods.items()}).T\n"
     ],
     "language": "python",
     "metadata": {},
     "outputs": [
      {
       "html": [
        "<div style=\"max-height:1000px;max-width:1500px;overflow:auto;\">\n",
        "<table border=\"1\" class=\"dataframe\">\n",
        "  <thead>\n",
        "    <tr style=\"text-align: right;\">\n",
        "      <th></th>\n",
        "      <th>cost</th>\n",
        "    </tr>\n",
        "  </thead>\n",
        "  <tbody>\n",
        "    <tr>\n",
        "      <th>chicken</th>\n",
        "      <td> 2.89</td>\n",
        "    </tr>\n",
        "    <tr>\n",
        "      <th>fries</th>\n",
        "      <td> 1.89</td>\n",
        "    </tr>\n",
        "    <tr>\n",
        "      <th>hamburger</th>\n",
        "      <td> 2.49</td>\n",
        "    </tr>\n",
        "    <tr>\n",
        "      <th>hot dog</th>\n",
        "      <td> 1.50</td>\n",
        "    </tr>\n",
        "    <tr>\n",
        "      <th>ice cream</th>\n",
        "      <td> 1.59</td>\n",
        "    </tr>\n",
        "    <tr>\n",
        "      <th>macaroni</th>\n",
        "      <td> 2.09</td>\n",
        "    </tr>\n",
        "    <tr>\n",
        "      <th>milk</th>\n",
        "      <td> 0.89</td>\n",
        "    </tr>\n",
        "    <tr>\n",
        "      <th>pizza</th>\n",
        "      <td> 1.99</td>\n",
        "    </tr>\n",
        "    <tr>\n",
        "      <th>salad</th>\n",
        "      <td> 2.49</td>\n",
        "    </tr>\n",
        "  </tbody>\n",
        "</table>\n",
        "</div>"
       ],
       "metadata": {},
       "output_type": "pyout",
       "prompt_number": 13,
       "text": [
        "           cost\n",
        "chicken    2.89\n",
        "fries      1.89\n",
        "hamburger  2.49\n",
        "hot dog    1.50\n",
        "ice cream  1.59\n",
        "macaroni   2.09\n",
        "milk       0.89\n",
        "pizza      1.99\n",
        "salad      2.49"
       ]
      }
     ],
     "prompt_number": 13
    },
    {
     "cell_type": "markdown",
     "metadata": {},
     "source": [
      "This same trick can work well for `categories` (the other single primary key field table)."
     ]
    },
    {
     "cell_type": "code",
     "collapsed": false,
     "input": [
      "DataFrame({k:dict(v) for k,v in dietdat.categories.items()}).T"
     ],
     "language": "python",
     "metadata": {},
     "outputs": [
      {
       "html": [
        "<div style=\"max-height:1000px;max-width:1500px;overflow:auto;\">\n",
        "<table border=\"1\" class=\"dataframe\">\n",
        "  <thead>\n",
        "    <tr style=\"text-align: right;\">\n",
        "      <th></th>\n",
        "      <th>maxNutrition</th>\n",
        "      <th>minNutrition</th>\n",
        "    </tr>\n",
        "  </thead>\n",
        "  <tbody>\n",
        "    <tr>\n",
        "      <th>calories</th>\n",
        "      <td> 2200.000000</td>\n",
        "      <td> 1800</td>\n",
        "    </tr>\n",
        "    <tr>\n",
        "      <th>fat</th>\n",
        "      <td>   65.000000</td>\n",
        "      <td>    0</td>\n",
        "    </tr>\n",
        "    <tr>\n",
        "      <th>protein</th>\n",
        "      <td>         inf</td>\n",
        "      <td>   91</td>\n",
        "    </tr>\n",
        "    <tr>\n",
        "      <th>sodium</th>\n",
        "      <td> 1779.000000</td>\n",
        "      <td>    0</td>\n",
        "    </tr>\n",
        "  </tbody>\n",
        "</table>\n",
        "</div>"
       ],
       "metadata": {},
       "output_type": "pyout",
       "prompt_number": 14,
       "text": [
        "          maxNutrition  minNutrition\n",
        "calories   2200.000000          1800\n",
        "fat          65.000000             0\n",
        "protein            inf            91\n",
        "sodium     1779.000000             0"
       ]
      }
     ],
     "prompt_number": 14
    },
    {
     "cell_type": "markdown",
     "metadata": {},
     "source": [
      "It actually even kind of works for multiple primary key field tables (but its not great).\n"
     ]
    },
    {
     "cell_type": "code",
     "collapsed": false,
     "input": [
      "DataFrame({k:dict(v) for k,v in dietdat.nutritionQuantities.items()}).T"
     ],
     "language": "python",
     "metadata": {},
     "outputs": [
      {
       "html": [
        "<div style=\"max-height:1000px;max-width:1500px;overflow:auto;\">\n",
        "<table border=\"1\" class=\"dataframe\">\n",
        "  <thead>\n",
        "    <tr style=\"text-align: right;\">\n",
        "      <th></th>\n",
        "      <th>qty</th>\n",
        "    </tr>\n",
        "  </thead>\n",
        "  <tbody>\n",
        "    <tr>\n",
        "      <th>(chicken, calories)</th>\n",
        "      <td>  420.0</td>\n",
        "    </tr>\n",
        "    <tr>\n",
        "      <th>(chicken, fat)</th>\n",
        "      <td>   10.0</td>\n",
        "    </tr>\n",
        "    <tr>\n",
        "      <th>(chicken, protein)</th>\n",
        "      <td>   32.0</td>\n",
        "    </tr>\n",
        "    <tr>\n",
        "      <th>(chicken, sodium)</th>\n",
        "      <td> 1190.0</td>\n",
        "    </tr>\n",
        "    <tr>\n",
        "      <th>(fries, calories)</th>\n",
        "      <td>  380.0</td>\n",
        "    </tr>\n",
        "    <tr>\n",
        "      <th>(fries, fat)</th>\n",
        "      <td>   19.0</td>\n",
        "    </tr>\n",
        "    <tr>\n",
        "      <th>(fries, protein)</th>\n",
        "      <td>    4.0</td>\n",
        "    </tr>\n",
        "    <tr>\n",
        "      <th>(fries, sodium)</th>\n",
        "      <td>  270.0</td>\n",
        "    </tr>\n",
        "    <tr>\n",
        "      <th>(hamburger, calories)</th>\n",
        "      <td>  410.0</td>\n",
        "    </tr>\n",
        "    <tr>\n",
        "      <th>(hamburger, fat)</th>\n",
        "      <td>   26.0</td>\n",
        "    </tr>\n",
        "    <tr>\n",
        "      <th>(hamburger, protein)</th>\n",
        "      <td>   24.0</td>\n",
        "    </tr>\n",
        "    <tr>\n",
        "      <th>(hamburger, sodium)</th>\n",
        "      <td>  730.0</td>\n",
        "    </tr>\n",
        "    <tr>\n",
        "      <th>(hot dog, calories)</th>\n",
        "      <td>  560.0</td>\n",
        "    </tr>\n",
        "    <tr>\n",
        "      <th>(hot dog, fat)</th>\n",
        "      <td>   32.0</td>\n",
        "    </tr>\n",
        "    <tr>\n",
        "      <th>(hot dog, protein)</th>\n",
        "      <td>   20.0</td>\n",
        "    </tr>\n",
        "    <tr>\n",
        "      <th>(hot dog, sodium)</th>\n",
        "      <td> 1800.0</td>\n",
        "    </tr>\n",
        "    <tr>\n",
        "      <th>(ice cream, calories)</th>\n",
        "      <td>  330.0</td>\n",
        "    </tr>\n",
        "    <tr>\n",
        "      <th>(ice cream, fat)</th>\n",
        "      <td>   10.0</td>\n",
        "    </tr>\n",
        "    <tr>\n",
        "      <th>(ice cream, protein)</th>\n",
        "      <td>    8.0</td>\n",
        "    </tr>\n",
        "    <tr>\n",
        "      <th>(ice cream, sodium)</th>\n",
        "      <td>  180.0</td>\n",
        "    </tr>\n",
        "    <tr>\n",
        "      <th>(macaroni, calories)</th>\n",
        "      <td>  320.0</td>\n",
        "    </tr>\n",
        "    <tr>\n",
        "      <th>(macaroni, fat)</th>\n",
        "      <td>   10.0</td>\n",
        "    </tr>\n",
        "    <tr>\n",
        "      <th>(macaroni, protein)</th>\n",
        "      <td>   12.0</td>\n",
        "    </tr>\n",
        "    <tr>\n",
        "      <th>(macaroni, sodium)</th>\n",
        "      <td>  930.0</td>\n",
        "    </tr>\n",
        "    <tr>\n",
        "      <th>(milk, calories)</th>\n",
        "      <td>  100.0</td>\n",
        "    </tr>\n",
        "    <tr>\n",
        "      <th>(milk, fat)</th>\n",
        "      <td>    2.5</td>\n",
        "    </tr>\n",
        "    <tr>\n",
        "      <th>(milk, protein)</th>\n",
        "      <td>    8.0</td>\n",
        "    </tr>\n",
        "    <tr>\n",
        "      <th>(milk, sodium)</th>\n",
        "      <td>  125.0</td>\n",
        "    </tr>\n",
        "    <tr>\n",
        "      <th>(pizza, calories)</th>\n",
        "      <td>  320.0</td>\n",
        "    </tr>\n",
        "    <tr>\n",
        "      <th>(pizza, fat)</th>\n",
        "      <td>   12.0</td>\n",
        "    </tr>\n",
        "    <tr>\n",
        "      <th>(pizza, protein)</th>\n",
        "      <td>   15.0</td>\n",
        "    </tr>\n",
        "    <tr>\n",
        "      <th>(pizza, sodium)</th>\n",
        "      <td>  820.0</td>\n",
        "    </tr>\n",
        "    <tr>\n",
        "      <th>(salad, calories)</th>\n",
        "      <td>  320.0</td>\n",
        "    </tr>\n",
        "    <tr>\n",
        "      <th>(salad, fat)</th>\n",
        "      <td>   12.0</td>\n",
        "    </tr>\n",
        "    <tr>\n",
        "      <th>(salad, protein)</th>\n",
        "      <td>   31.0</td>\n",
        "    </tr>\n",
        "    <tr>\n",
        "      <th>(salad, sodium)</th>\n",
        "      <td> 1230.0</td>\n",
        "    </tr>\n",
        "  </tbody>\n",
        "</table>\n",
        "</div>"
       ],
       "metadata": {},
       "output_type": "pyout",
       "prompt_number": 15,
       "text": [
        "                          qty\n",
        "(chicken, calories)     420.0\n",
        "(chicken, fat)           10.0\n",
        "(chicken, protein)       32.0\n",
        "(chicken, sodium)      1190.0\n",
        "(fries, calories)       380.0\n",
        "(fries, fat)             19.0\n",
        "(fries, protein)          4.0\n",
        "(fries, sodium)         270.0\n",
        "(hamburger, calories)   410.0\n",
        "(hamburger, fat)         26.0\n",
        "(hamburger, protein)     24.0\n",
        "(hamburger, sodium)     730.0\n",
        "(hot dog, calories)     560.0\n",
        "(hot dog, fat)           32.0\n",
        "(hot dog, protein)       20.0\n",
        "(hot dog, sodium)      1800.0\n",
        "(ice cream, calories)   330.0\n",
        "(ice cream, fat)         10.0\n",
        "(ice cream, protein)      8.0\n",
        "(ice cream, sodium)     180.0\n",
        "(macaroni, calories)    320.0\n",
        "(macaroni, fat)          10.0\n",
        "(macaroni, protein)      12.0\n",
        "(macaroni, sodium)      930.0\n",
        "(milk, calories)        100.0\n",
        "(milk, fat)               2.5\n",
        "(milk, protein)           8.0\n",
        "(milk, sodium)          125.0\n",
        "(pizza, calories)       320.0\n",
        "(pizza, fat)             12.0\n",
        "(pizza, protein)         15.0\n",
        "(pizza, sodium)         820.0\n",
        "(salad, calories)       320.0\n",
        "(salad, fat)             12.0\n",
        "(salad, protein)         31.0\n",
        "(salad, sodium)        1230.0"
       ]
      }
     ],
     "prompt_number": 15
    },
    {
     "cell_type": "code",
     "collapsed": false,
     "input": [],
     "language": "python",
     "metadata": {},
     "outputs": []
    }
   ],
   "metadata": {}
  }
 ]
}