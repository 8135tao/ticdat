{
 "cells": [
  {
   "cell_type": "markdown",
   "metadata": {},
   "source": [
    "# Machine Learning Section\n",
    "### Load and explore historical data"
   ]
  },
  {
   "cell_type": "code",
   "execution_count": 1,
   "metadata": {
    "collapsed": false
   },
   "outputs": [],
   "source": [
    "import pandas\n",
    "from pandas import DataFrame, get_dummies\n",
    "from sklearn.tree import DecisionTreeRegressor\n",
    "from sklearn.ensemble import RandomForestRegressor\n",
    "from sklearn.linear_model import LinearRegression\n",
    "from sklearn.ensemble import BaggingRegressor\n",
    "from sklearn import model_selection"
   ]
  },
  {
   "cell_type": "code",
   "execution_count": 2,
   "metadata": {
    "collapsed": false
   },
   "outputs": [],
   "source": [
    "df_hist = pandas.read_excel(\"beer_sales_historical_data.xlsx\")"
   ]
  },
  {
   "cell_type": "code",
   "execution_count": 3,
   "metadata": {
    "collapsed": false
   },
   "outputs": [
    {
     "data": {
      "text/html": [
       "<div>\n",
       "<table border=\"1\" class=\"dataframe\">\n",
       "  <thead>\n",
       "    <tr style=\"text-align: right;\">\n",
       "      <th></th>\n",
       "      <th>Product</th>\n",
       "      <th>Sales</th>\n",
       "      <th>Cost Per Unit</th>\n",
       "      <th>Easter Included</th>\n",
       "      <th>Carnival Included</th>\n",
       "      <th>Christmas Included</th>\n",
       "      <th>Some Other Holiday?</th>\n",
       "      <th>4 Wk Avg Temp</th>\n",
       "      <th>4 Wk Avg Humidity</th>\n",
       "      <th>Sales M-1 weeks</th>\n",
       "      <th>Sales M-2 weeks</th>\n",
       "      <th>Sales M-3 weeks</th>\n",
       "      <th>Sales M-4 Weeks</th>\n",
       "      <th>Sales M-5 weeks</th>\n",
       "    </tr>\n",
       "  </thead>\n",
       "  <tbody>\n",
       "    <tr>\n",
       "      <th>0</th>\n",
       "      <td>American Lager</td>\n",
       "      <td>51.9</td>\n",
       "      <td>1.6625</td>\n",
       "      <td>No</td>\n",
       "      <td>No</td>\n",
       "      <td>Yes</td>\n",
       "      <td>No</td>\n",
       "      <td>80.69</td>\n",
       "      <td>69.19</td>\n",
       "      <td>17.0</td>\n",
       "      <td>22.4</td>\n",
       "      <td>13.5</td>\n",
       "      <td>14.5</td>\n",
       "      <td>28.0</td>\n",
       "    </tr>\n",
       "    <tr>\n",
       "      <th>1</th>\n",
       "      <td>Pilsner</td>\n",
       "      <td>55.8</td>\n",
       "      <td>2.2725</td>\n",
       "      <td>No</td>\n",
       "      <td>No</td>\n",
       "      <td>Yes</td>\n",
       "      <td>No</td>\n",
       "      <td>80.69</td>\n",
       "      <td>69.19</td>\n",
       "      <td>2.4</td>\n",
       "      <td>2.2</td>\n",
       "      <td>2.0</td>\n",
       "      <td>1.4</td>\n",
       "      <td>0.5</td>\n",
       "    </tr>\n",
       "    <tr>\n",
       "      <th>2</th>\n",
       "      <td>Oktoberfest</td>\n",
       "      <td>3385.6</td>\n",
       "      <td>1.3475</td>\n",
       "      <td>No</td>\n",
       "      <td>No</td>\n",
       "      <td>Yes</td>\n",
       "      <td>No</td>\n",
       "      <td>80.69</td>\n",
       "      <td>69.19</td>\n",
       "      <td>301.8</td>\n",
       "      <td>188.8</td>\n",
       "      <td>101.4</td>\n",
       "      <td>81.6</td>\n",
       "      <td>213.8</td>\n",
       "    </tr>\n",
       "    <tr>\n",
       "      <th>3</th>\n",
       "      <td>Schwarzbier</td>\n",
       "      <td>63.5</td>\n",
       "      <td>1.6600</td>\n",
       "      <td>No</td>\n",
       "      <td>No</td>\n",
       "      <td>Yes</td>\n",
       "      <td>No</td>\n",
       "      <td>80.69</td>\n",
       "      <td>69.19</td>\n",
       "      <td>73.8</td>\n",
       "      <td>69.4</td>\n",
       "      <td>72.8</td>\n",
       "      <td>75.4</td>\n",
       "      <td>57.4</td>\n",
       "    </tr>\n",
       "    <tr>\n",
       "      <th>4</th>\n",
       "      <td>Amber Ale</td>\n",
       "      <td>181.1</td>\n",
       "      <td>1.8725</td>\n",
       "      <td>No</td>\n",
       "      <td>No</td>\n",
       "      <td>Yes</td>\n",
       "      <td>No</td>\n",
       "      <td>80.69</td>\n",
       "      <td>69.19</td>\n",
       "      <td>23.1</td>\n",
       "      <td>22.6</td>\n",
       "      <td>22.1</td>\n",
       "      <td>19.9</td>\n",
       "      <td>23.2</td>\n",
       "    </tr>\n",
       "  </tbody>\n",
       "</table>\n",
       "</div>"
      ],
      "text/plain": [
       "          Product   Sales  Cost Per Unit Easter Included Carnival Included  \\\n",
       "0  American Lager    51.9         1.6625              No                No   \n",
       "1         Pilsner    55.8         2.2725              No                No   \n",
       "2     Oktoberfest  3385.6         1.3475              No                No   \n",
       "3     Schwarzbier    63.5         1.6600              No                No   \n",
       "4       Amber Ale   181.1         1.8725              No                No   \n",
       "\n",
       "  Christmas Included Some Other Holiday?  4 Wk Avg Temp  4 Wk Avg Humidity  \\\n",
       "0                Yes                  No          80.69              69.19   \n",
       "1                Yes                  No          80.69              69.19   \n",
       "2                Yes                  No          80.69              69.19   \n",
       "3                Yes                  No          80.69              69.19   \n",
       "4                Yes                  No          80.69              69.19   \n",
       "\n",
       "   Sales M-1 weeks  Sales M-2 weeks  Sales M-3 weeks  Sales M-4 Weeks  \\\n",
       "0             17.0             22.4             13.5             14.5   \n",
       "1              2.4              2.2              2.0              1.4   \n",
       "2            301.8            188.8            101.4             81.6   \n",
       "3             73.8             69.4             72.8             75.4   \n",
       "4             23.1             22.6             22.1             19.9   \n",
       "\n",
       "   Sales M-5 weeks  \n",
       "0             28.0  \n",
       "1              0.5  \n",
       "2            213.8  \n",
       "3             57.4  \n",
       "4             23.2  "
      ]
     },
     "execution_count": 3,
     "metadata": {},
     "output_type": "execute_result"
    }
   ],
   "source": [
    "df_hist[:5]"
   ]
  },
  {
   "cell_type": "code",
   "execution_count": 4,
   "metadata": {
    "collapsed": false
   },
   "outputs": [
    {
     "data": {
      "text/plain": [
       "596"
      ]
     },
     "execution_count": 4,
     "metadata": {},
     "output_type": "execute_result"
    }
   ],
   "source": [
    "len(df_hist)"
   ]
  },
  {
   "cell_type": "markdown",
   "metadata": {},
   "source": [
    "### Experiment (aka Cross Fold)"
   ]
  },
  {
   "cell_type": "code",
   "execution_count": 5,
   "metadata": {
    "collapsed": true
   },
   "outputs": [],
   "source": [
    "categorical_columns = ['Product','Easter Included','Carnival Included', 'Christmas Included',\n",
    "                       'Some Other Holiday?']"
   ]
  },
  {
   "cell_type": "code",
   "execution_count": 6,
   "metadata": {
    "collapsed": true
   },
   "outputs": [],
   "source": [
    "df_hist = get_dummies(df_hist, prefix={k:\"dmy_%s\"%k for k in categorical_columns},\n",
    "                      columns = list(categorical_columns))"
   ]
  },
  {
   "cell_type": "code",
   "execution_count": 7,
   "metadata": {
    "collapsed": false
   },
   "outputs": [],
   "source": [
    "experiments = {\"Algorithm\":[\"Ordinary Least Squares\", \"Regression Tree\", \"Random Forest\", \n",
    "                            \"Bagging\"], \n",
    "               \"Objects\" : [LinearRegression(), DecisionTreeRegressor(), \n",
    "                            RandomForestRegressor(), BaggingRegressor()], \n",
    "               \"Results\":[]}"
   ]
  },
  {
   "cell_type": "code",
   "execution_count": 8,
   "metadata": {
    "collapsed": true
   },
   "outputs": [],
   "source": [
    "for o in experiments[\"Objects\"]:\n",
    "    experiments[\"Results\"].append(\n",
    "        model_selection.cross_val_score(o, y=df_hist[\"Sales\"], \n",
    "                                        X=df_hist.drop(\"Sales\", axis=1)).mean())"
   ]
  },
  {
   "cell_type": "code",
   "execution_count": 9,
   "metadata": {
    "collapsed": false
   },
   "outputs": [
    {
     "data": {
      "text/html": [
       "<div>\n",
       "<table border=\"1\" class=\"dataframe\">\n",
       "  <thead>\n",
       "    <tr style=\"text-align: right;\">\n",
       "      <th></th>\n",
       "      <th>Results</th>\n",
       "    </tr>\n",
       "    <tr>\n",
       "      <th>Algorithm</th>\n",
       "      <th></th>\n",
       "    </tr>\n",
       "  </thead>\n",
       "  <tbody>\n",
       "    <tr>\n",
       "      <th>Ordinary Least Squares</th>\n",
       "      <td>0.446870</td>\n",
       "    </tr>\n",
       "    <tr>\n",
       "      <th>Regression Tree</th>\n",
       "      <td>0.755152</td>\n",
       "    </tr>\n",
       "    <tr>\n",
       "      <th>Random Forest</th>\n",
       "      <td>0.824913</td>\n",
       "    </tr>\n",
       "    <tr>\n",
       "      <th>Bagging</th>\n",
       "      <td>0.809650</td>\n",
       "    </tr>\n",
       "  </tbody>\n",
       "</table>\n",
       "</div>"
      ],
      "text/plain": [
       "                         Results\n",
       "Algorithm                       \n",
       "Ordinary Least Squares  0.446870\n",
       "Regression Tree         0.755152\n",
       "Random Forest           0.824913\n",
       "Bagging                 0.809650"
      ]
     },
     "execution_count": 9,
     "metadata": {},
     "output_type": "execute_result"
    }
   ],
   "source": [
    "DataFrame(experiments).drop(\"Objects\", axis=1).set_index(\"Algorithm\")"
   ]
  },
  {
   "cell_type": "markdown",
   "metadata": {},
   "source": [
    "### Fit and Predict"
   ]
  },
  {
   "cell_type": "code",
   "execution_count": 10,
   "metadata": {
    "collapsed": true
   },
   "outputs": [],
   "source": [
    "fitted = RandomForestRegressor().fit(y=df_hist[\"Sales\"], X=df_hist.drop(\"Sales\", axis=1))"
   ]
  },
  {
   "cell_type": "code",
   "execution_count": 11,
   "metadata": {
    "collapsed": false
   },
   "outputs": [
    {
     "data": {
      "text/plain": [
       "36"
      ]
     },
     "execution_count": 11,
     "metadata": {},
     "output_type": "execute_result"
    }
   ],
   "source": [
    "df_carn_original = pandas.read_excel(\"carnivale_promotion_data.xlsx\")\n",
    "df_carn = get_dummies(df_carn_original, prefix={k:\"dmy_%s\"%k for k in categorical_columns},\n",
    "                      columns = list(categorical_columns))\n",
    "assert \"Sales\" not in df_carn.columns \n",
    "assert {\"Sales\"}.union(df_carn.columns).issubset(set(df_hist.columns))\n",
    "len(df_carn)"
   ]
  },
  {
   "cell_type": "markdown",
   "metadata": {},
   "source": [
    "We shouldn't be surprised that the much larger historical data table has categorical selections that don't appear in the Carnivale promotion table."
   ]
  },
  {
   "cell_type": "code",
   "execution_count": 12,
   "metadata": {
    "collapsed": true
   },
   "outputs": [],
   "source": [
    "for fld in set(df_hist.columns).difference(df_carn.columns, {\"Sales\"}):\n",
    "    assert fld.startswith(\"dmy_\")\n",
    "    df_carn[fld] = 0"
   ]
  },
  {
   "cell_type": "code",
   "execution_count": 13,
   "metadata": {
    "collapsed": false
   },
   "outputs": [],
   "source": [
    "predicted = fitted.predict(df_carn)"
   ]
  },
  {
   "cell_type": "code",
   "execution_count": 14,
   "metadata": {
    "collapsed": false
   },
   "outputs": [],
   "source": [
    "forecast_sales = df_carn_original[[\"Product\", \"Cost Per Unit\"]].copy()\n",
    "forecast_sales[\"Sales\"] = predicted"
   ]
  },
  {
   "cell_type": "markdown",
   "metadata": {},
   "source": [
    "# Optimization Section"
   ]
  },
  {
   "cell_type": "code",
   "execution_count": 15,
   "metadata": {
    "collapsed": true
   },
   "outputs": [],
   "source": [
    "from ticdat import TicDatFactory, Slicer\n",
    "import gurobipy as gu"
   ]
  },
  {
   "cell_type": "code",
   "execution_count": 16,
   "metadata": {
    "collapsed": true
   },
   "outputs": [],
   "source": [
    "input_schema = TicDatFactory(products = [[\"Name\"],[\"Family\"]],\n",
    "                             forecast_sales = [[\"Product\", \"Cost Per Unit\"],\n",
    "                                               [\"Sales\"]],\n",
    "                             max_promotions = [[\"Product Family\"],[\"Max Promotions\"]]\n",
    "                             )"
   ]
  },
  {
   "cell_type": "code",
   "execution_count": 17,
   "metadata": {
    "collapsed": false
   },
   "outputs": [],
   "source": [
    "dat = input_schema.TicDat(\n",
    "        products = {'Amber Ale': 'Ale',\n",
    "                    'American Lager': 'Lager',\n",
    "                    'Bitter Ale': 'Ale',\n",
    "                    'IPA': 'Ale',\n",
    "                    'Oktoberfest': 'Lager',\n",
    "                    'Pilsner': 'Lager',\n",
    "                    'Porter': 'Ale',\n",
    "                    'Schwarzbier': 'Lager',\n",
    "                    'Stout': 'Ale'},\n",
    "        forecast_sales = forecast_sales.set_index([\"Product\", \"Cost Per Unit\"]), \n",
    "        max_promotions = {'Ale': 2, 'Lager': 2})\n",
    "assert (len(dat.forecast_sales) == len(forecast_sales))\n",
    "assert (set(dat.products) == {pdct for (pdct, cost) in dat.forecast_sales})"
   ]
  },
  {
   "cell_type": "code",
   "execution_count": 18,
   "metadata": {
    "collapsed": true
   },
   "outputs": [],
   "source": [
    "normal_price = {pdct:0 for pdct in dat.products}\n",
    "for pdct, price in dat.forecast_sales:\n",
    "    normal_price[pdct] = max(normal_price[pdct], price)"
   ]
  },
  {
   "cell_type": "markdown",
   "metadata": {},
   "source": [
    "It's natural that the predictions don't always imply that cheaper costs will result in more sales. This is more likely for this data set since the training data table was fairly small.\n",
    "\n",
    "Here is the number of total discount options across all products."
   ]
  },
  {
   "cell_type": "code",
   "execution_count": 19,
   "metadata": {
    "collapsed": false
   },
   "outputs": [
    {
     "data": {
      "text/plain": [
       "27"
      ]
     },
     "execution_count": 19,
     "metadata": {},
     "output_type": "execute_result"
    }
   ],
   "source": [
    "len(dat.forecast_sales) - len(dat.products)"
   ]
  },
  {
   "cell_type": "markdown",
   "metadata": {},
   "source": [
    "Here is the number of meaningful discounts (i.e. discounts that are predicted to increase sales)."
   ]
  },
  {
   "cell_type": "code",
   "execution_count": 20,
   "metadata": {
    "collapsed": false
   },
   "outputs": [
    {
     "data": {
      "text/plain": [
       "18"
      ]
     },
     "execution_count": 20,
     "metadata": {},
     "output_type": "execute_result"
    }
   ],
   "source": [
    "number_meaningful_discounts = 0\n",
    "for (pdct, price), r in dat.forecast_sales.items():\n",
    "    if (price < normal_price[pdct] and \n",
    "        r[\"Sales\"] > dat.forecast_sales[pdct,normal_price[pdct]][\"Sales\"]):\n",
    "        number_meaningful_discounts += 1\n",
    "number_meaningful_discounts"
   ]
  },
  {
   "cell_type": "code",
   "execution_count": 21,
   "metadata": {
    "collapsed": true
   },
   "outputs": [],
   "source": [
    "def revenue(pdct, price):\n",
    "    return dat.forecast_sales[pdct, price][\"Sales\"] * price\n",
    "def investment(pdct, price):\n",
    "    return max(0, dat.forecast_sales[pdct, price][\"Sales\"] * normal_price[pdct] -\n",
    "                  revenue(pdct, normal_price[pdct]))"
   ]
  },
  {
   "cell_type": "code",
   "execution_count": 22,
   "metadata": {
    "collapsed": true
   },
   "outputs": [],
   "source": [
    "mdl = gu.Model(\"beer promotion\")"
   ]
  },
  {
   "cell_type": "code",
   "execution_count": 23,
   "metadata": {
    "collapsed": true
   },
   "outputs": [],
   "source": [
    "pdct_price = {(pdct, price):mdl.addVar(vtype = gu.GRB.BINARY, \n",
    "                                       name = \"pdct_%s_price_%s\"%(pdct, price))\n",
    "              for pdct, price in dat.forecast_sales}"
   ]
  },
  {
   "cell_type": "code",
   "execution_count": 24,
   "metadata": {
    "collapsed": true
   },
   "outputs": [],
   "source": [
    "pp_slice = Slicer(pdct_price)\n",
    "for pdct in dat.products:\n",
    "    mdl.addConstr(gu.quicksum(pdct_price[_pdct, _price] \n",
    "                              for _pdct, _price in pp_slice.slice(pdct, '*')) == 1,\n",
    "                  name = \"pick_one_price_%s\"%pdct)"
   ]
  },
  {
   "cell_type": "code",
   "execution_count": 25,
   "metadata": {
    "collapsed": true
   },
   "outputs": [],
   "source": [
    "pf_slice = Slicer((r[\"Family\"], pdct) for pdct, r in dat.products.items())\n",
    "for pdct_family, r in dat.max_promotions.items():\n",
    "    mdl.addConstr(gu.quicksum(pdct_price[__pdct, __price]\n",
    "                              for _pdct_family, _pdct in pf_slice.slice(pdct_family, '*')\n",
    "                              for __pdct, __price in pp_slice.slice(_pdct, '*')\n",
    "                              if __price != normal_price[__pdct]) <= r[\"Max Promotions\"],\n",
    "                  name = \"max_promotions_%s\"%pdct_family)"
   ]
  },
  {
   "cell_type": "code",
   "execution_count": 26,
   "metadata": {
    "collapsed": true
   },
   "outputs": [],
   "source": [
    "max_investment = 500\n",
    "total_qty = mdl.addVar(name=\"total_qty\")\n",
    "total_revenue = mdl.addVar(name=\"total_revenue\")\n",
    "total_investment = mdl.addVar(name=\"total_investment\", ub = max_investment)"
   ]
  },
  {
   "cell_type": "code",
   "execution_count": 27,
   "metadata": {
    "collapsed": false
   },
   "outputs": [
    {
     "data": {
      "text/plain": [
       "<gurobi.Constr *Awaiting Model Update*>"
      ]
     },
     "execution_count": 27,
     "metadata": {},
     "output_type": "execute_result"
    }
   ],
   "source": [
    "mdl.addConstr(total_qty == gu.quicksum(dat.forecast_sales[pdct, price][\"Sales\"] * var\n",
    "                                      for (pdct, price), var in pdct_price.items()))\n",
    "mdl.addConstr(total_revenue == gu.quicksum(revenue(pdct, price)*var \n",
    "                                           for (pdct, price),var in pdct_price.items()))\n",
    "mdl.addConstr(total_investment == gu.quicksum(investment(pdct, price)*var\n",
    "                                              for (pdct, price),var in pdct_price.items()))"
   ]
  },
  {
   "cell_type": "code",
   "execution_count": 28,
   "metadata": {
    "collapsed": false
   },
   "outputs": [
    {
     "name": "stdout",
     "output_type": "stream",
     "text": [
      "Optimize a model with 14 rows, 39 columns and 156 nonzeros\n",
      "Variable types: 3 continuous, 36 integer (36 binary)\n",
      "Coefficient statistics:\n",
      "  Matrix range     [1e+00, 5e+03]\n",
      "  Objective range  [1e+00, 1e+00]\n",
      "  Bounds range     [1e+00, 5e+02]\n",
      "  RHS range        [1e+00, 2e+00]\n",
      "Found heuristic solution: objective 6108.3\n",
      "Presolve removed 7 rows and 25 columns\n",
      "Presolve time: 0.00s\n",
      "Presolved: 7 rows, 14 columns, 38 nonzeros\n",
      "Variable types: 0 continuous, 14 integer (14 binary)\n",
      "\n",
      "Root relaxation: objective 6.194809e+03, 4 iterations, 0.00 seconds\n",
      "\n",
      "    Nodes    |    Current Node    |     Objective Bounds      |     Work\n",
      " Expl Unexpl |  Obj  Depth IntInf | Incumbent    BestBd   Gap | It/Node Time\n",
      "\n",
      "     0     0 6194.80934    0    2 6108.30000 6194.80934  1.42%     -    0s\n",
      "H    0     0                    6182.8600000 6194.80934  0.19%     -    0s\n",
      "     0     0     cutoff    0      6182.86000 6182.86382  0.00%     -    0s\n",
      "\n",
      "Cutting planes:\n",
      "  Cover: 1\n",
      "\n",
      "Explored 0 nodes (6 simplex iterations) in 0.02 seconds\n",
      "Thread count was 4 (of 4 available processors)\n",
      "\n",
      "Solution count 2: 6182.86 6108.3 \n",
      "Pool objective bound 6182.86\n",
      "\n",
      "Optimal solution found (tolerance 1.00e-04)\n",
      "Best objective 6.182860000000e+03, best bound 6.182860000000e+03, gap 0.0000%\n"
     ]
    }
   ],
   "source": [
    "mdl.setObjective(total_qty, sense=gu.GRB.MAXIMIZE)\n",
    "mdl.optimize()"
   ]
  },
  {
   "cell_type": "code",
   "execution_count": 29,
   "metadata": {
    "collapsed": false
   },
   "outputs": [
    {
     "data": {
      "text/plain": [
       "True"
      ]
     },
     "execution_count": 29,
     "metadata": {},
     "output_type": "execute_result"
    }
   ],
   "source": [
    "mdl.status == gu.GRB.OPTIMAL"
   ]
  },
  {
   "cell_type": "markdown",
   "metadata": {},
   "source": [
    "Display the KPIs and pricing choices. Observe that the total investment constraint is nearly tight (likely as tight as possible given integrality of variables) and the max promotions constraint is tight for each product family."
   ]
  },
  {
   "cell_type": "code",
   "execution_count": 30,
   "metadata": {
    "collapsed": false
   },
   "outputs": [
    {
     "data": {
      "text/plain": [
       "(6182.859999999999, 11629.061774999998, 472.22207499999956)"
      ]
     },
     "execution_count": 30,
     "metadata": {},
     "output_type": "execute_result"
    }
   ],
   "source": [
    "(total_qty.X,  total_revenue.X, total_investment.X)"
   ]
  },
  {
   "cell_type": "code",
   "execution_count": 31,
   "metadata": {
    "collapsed": true
   },
   "outputs": [],
   "source": [
    "price_selections = {\"Product\":[], \"Price\":[], \"Is Discount\":[], \"Family\":[]}\n",
    "for (pdct, price), var in pdct_price.items():\n",
    "    if abs(var.X -1) < 0.0001: # i.e. almost one\n",
    "        price_selections[\"Product\"].append(pdct)\n",
    "        price_selections[\"Price\"].append(price)\n",
    "        price_selections[\"Is Discount\"].append(price < normal_price[pdct])\n",
    "        price_selections[\"Family\"].append(dat.products[pdct][\"Family\"])"
   ]
  },
  {
   "cell_type": "code",
   "execution_count": 32,
   "metadata": {
    "collapsed": false
   },
   "outputs": [
    {
     "data": {
      "text/html": [
       "<div>\n",
       "<table border=\"1\" class=\"dataframe\">\n",
       "  <thead>\n",
       "    <tr style=\"text-align: right;\">\n",
       "      <th></th>\n",
       "      <th>Price</th>\n",
       "      <th>Is Discount</th>\n",
       "      <th>Family</th>\n",
       "    </tr>\n",
       "    <tr>\n",
       "      <th>Product</th>\n",
       "      <th></th>\n",
       "      <th></th>\n",
       "      <th></th>\n",
       "    </tr>\n",
       "  </thead>\n",
       "  <tbody>\n",
       "    <tr>\n",
       "      <th>Bitter Ale</th>\n",
       "      <td>2.5650</td>\n",
       "      <td>False</td>\n",
       "      <td>Ale</td>\n",
       "    </tr>\n",
       "    <tr>\n",
       "      <th>Stout</th>\n",
       "      <td>2.8475</td>\n",
       "      <td>True</td>\n",
       "      <td>Ale</td>\n",
       "    </tr>\n",
       "    <tr>\n",
       "      <th>Amber Ale</th>\n",
       "      <td>1.7500</td>\n",
       "      <td>False</td>\n",
       "      <td>Ale</td>\n",
       "    </tr>\n",
       "    <tr>\n",
       "      <th>Porter</th>\n",
       "      <td>3.8425</td>\n",
       "      <td>False</td>\n",
       "      <td>Ale</td>\n",
       "    </tr>\n",
       "    <tr>\n",
       "      <th>IPA</th>\n",
       "      <td>1.9150</td>\n",
       "      <td>True</td>\n",
       "      <td>Ale</td>\n",
       "    </tr>\n",
       "    <tr>\n",
       "      <th>Oktoberfest</th>\n",
       "      <td>1.2825</td>\n",
       "      <td>True</td>\n",
       "      <td>Lager</td>\n",
       "    </tr>\n",
       "    <tr>\n",
       "      <th>American Lager</th>\n",
       "      <td>1.5125</td>\n",
       "      <td>True</td>\n",
       "      <td>Lager</td>\n",
       "    </tr>\n",
       "    <tr>\n",
       "      <th>Schwarzbier</th>\n",
       "      <td>1.4700</td>\n",
       "      <td>False</td>\n",
       "      <td>Lager</td>\n",
       "    </tr>\n",
       "    <tr>\n",
       "      <th>Pilsner</th>\n",
       "      <td>2.2275</td>\n",
       "      <td>False</td>\n",
       "      <td>Lager</td>\n",
       "    </tr>\n",
       "  </tbody>\n",
       "</table>\n",
       "</div>"
      ],
      "text/plain": [
       "                 Price Is Discount Family\n",
       "Product                                  \n",
       "Bitter Ale      2.5650       False    Ale\n",
       "Stout           2.8475        True    Ale\n",
       "Amber Ale       1.7500       False    Ale\n",
       "Porter          3.8425       False    Ale\n",
       "IPA             1.9150        True    Ale\n",
       "Oktoberfest     1.2825        True  Lager\n",
       "American Lager  1.5125        True  Lager\n",
       "Schwarzbier     1.4700       False  Lager\n",
       "Pilsner         2.2275       False  Lager"
      ]
     },
     "execution_count": 32,
     "metadata": {},
     "output_type": "execute_result"
    }
   ],
   "source": [
    "(DataFrame(price_selections).set_index(\"Product\")[[\"Price\", \"Is Discount\", \"Family\"]].\n",
    " sort_values(\"Family\"))"
   ]
  },
  {
   "cell_type": "code",
   "execution_count": null,
   "metadata": {
    "collapsed": true
   },
   "outputs": [],
   "source": []
  }
 ],
 "metadata": {
  "kernelspec": {
   "display_name": "Python 2",
   "language": "python",
   "name": "python2"
  },
  "language_info": {
   "codemirror_mode": {
    "name": "ipython",
    "version": 2
   },
   "file_extension": ".py",
   "mimetype": "text/x-python",
   "name": "python",
   "nbconvert_exporter": "python",
   "pygments_lexer": "ipython2",
   "version": "2.7.11"
  }
 },
 "nbformat": 4,
 "nbformat_minor": 0
}
