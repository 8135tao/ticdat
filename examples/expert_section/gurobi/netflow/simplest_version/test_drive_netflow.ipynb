{
 "cells": [
  {
   "cell_type": "code",
   "execution_count": 1,
   "metadata": {
    "collapsed": false
   },
   "outputs": [],
   "source": [
    "from netflowmodel import dataFactory, solve, solutionFactory"
   ]
  },
  {
   "cell_type": "markdown",
   "metadata": {},
   "source": [
    "`ticdat` has so many cool overrides that I can cut-and-paste gurobis hardcoded data with just a couple of edits and the `TicDat` object knows what I mean from context."
   ]
  },
  {
   "cell_type": "code",
   "execution_count": 2,
   "metadata": {
    "collapsed": false
   },
   "outputs": [],
   "source": [
    "gurobisData = dataFactory.TicDat(\n",
    "commodities = ['Pencils', 'Pens'],\n",
    "nodes = ['Detroit', 'Denver', 'Boston', 'New York', 'Seattle'],\n",
    "\n",
    "arcs = {\n",
    "  ('Detroit', 'Boston'):   100,\n",
    "  ('Detroit', 'New York'):  80,\n",
    "  ('Detroit', 'Seattle'):  120,\n",
    "  ('Denver',  'Boston'):   120,\n",
    "  ('Denver',  'New York'): 120,\n",
    "  ('Denver',  'Seattle'):  120 },\n",
    "\n",
    "cost = {\n",
    "  ('Pencils', 'Detroit', 'Boston'):   10,\n",
    "  ('Pencils', 'Detroit', 'New York'): 20,\n",
    "  ('Pencils', 'Detroit', 'Seattle'):  60,\n",
    "  ('Pencils', 'Denver',  'Boston'):   40,\n",
    "  ('Pencils', 'Denver',  'New York'): 40,\n",
    "  ('Pencils', 'Denver',  'Seattle'):  30,\n",
    "  ('Pens',    'Detroit', 'Boston'):   20,\n",
    "  ('Pens',    'Detroit', 'New York'): 20,\n",
    "  ('Pens',    'Detroit', 'Seattle'):  80,\n",
    "  ('Pens',    'Denver',  'Boston'):   60,\n",
    "  ('Pens',    'Denver',  'New York'): 70,\n",
    "  ('Pens',    'Denver',  'Seattle'):  30 },\n",
    "\n",
    "inflow = {\n",
    "  ('Pencils', 'Detroit'):   50,\n",
    "  ('Pencils', 'Denver'):    60,\n",
    "  ('Pencils', 'Boston'):   -50,\n",
    "  ('Pencils', 'New York'): -50,\n",
    "  ('Pencils', 'Seattle'):  -10,\n",
    "  ('Pens',    'Detroit'):   60,\n",
    "  ('Pens',    'Denver'):    40,\n",
    "  ('Pens',    'Boston'):   -40,\n",
    "  ('Pens',    'New York'): -30,\n",
    "  ('Pens',    'Seattle'):  -30 },\n",
    ")"
   ]
  },
  {
   "cell_type": "code",
   "execution_count": 3,
   "metadata": {
    "collapsed": false
   },
   "outputs": [
    {
     "name": "stdout",
     "output_type": "stream",
     "text": [
      "Optimize a model with 16 rows, 13 columns and 36 nonzeros\n",
      "Coefficient statistics:\n",
      "  Matrix range    [1e+00, 1e+00]\n",
      "  Objective range [1e+01, 8e+01]\n",
      "  Bounds range    [8e+01, 1e+02]\n",
      "  RHS range       [1e+01, 1e+02]\n",
      "Presolve removed 16 rows and 13 columns\n",
      "Presolve time: 0.00s\n",
      "Presolve: All rows and columns removed\n",
      "Iteration    Objective       Primal Inf.    Dual Inf.      Time\n",
      "       0    5.5000000e+03   0.000000e+00   0.000000e+00      0s\n",
      "\n",
      "Solved in 0 iterations and 0.00 seconds\n",
      "Optimal objective  5.500000000e+03\n"
     ]
    }
   ],
   "source": [
    "solution = solve(gurobisData)"
   ]
  },
  {
   "cell_type": "code",
   "execution_count": 4,
   "metadata": {
    "collapsed": false
   },
   "outputs": [
    {
     "data": {
      "text/plain": [
       "{('Pencils', 'Denver', 'New York'): _td:{'quantity': 50.0},\n",
       " ('Pencils', 'Denver', 'Seattle'): _td:{'quantity': 10.0},\n",
       " ('Pencils', 'Detroit', 'Boston'): _td:{'quantity': 50.0},\n",
       " ('Pens', 'Denver', 'Boston'): _td:{'quantity': 10.0},\n",
       " ('Pens', 'Denver', 'Seattle'): _td:{'quantity': 30.0},\n",
       " ('Pens', 'Detroit', 'Boston'): _td:{'quantity': 30.0},\n",
       " ('Pens', 'Detroit', 'New York'): _td:{'quantity': 30.0}}"
      ]
     },
     "execution_count": 4,
     "metadata": {},
     "output_type": "execute_result"
    }
   ],
   "source": [
    "solution.flow"
   ]
  },
  {
   "cell_type": "markdown",
   "metadata": {},
   "source": [
    "If you want to see the solution data as a pandas DataFrame, that is also easy to do."
   ]
  },
  {
   "cell_type": "code",
   "execution_count": 5,
   "metadata": {
    "collapsed": false
   },
   "outputs": [
    {
     "data": {
      "text/html": [
       "<div>\n",
       "<table border=\"1\" class=\"dataframe\">\n",
       "  <thead>\n",
       "    <tr style=\"text-align: right;\">\n",
       "      <th></th>\n",
       "      <th></th>\n",
       "      <th></th>\n",
       "      <th>quantity</th>\n",
       "    </tr>\n",
       "    <tr>\n",
       "      <th>commodity</th>\n",
       "      <th>source</th>\n",
       "      <th>destination</th>\n",
       "      <th></th>\n",
       "    </tr>\n",
       "  </thead>\n",
       "  <tbody>\n",
       "    <tr>\n",
       "      <th rowspan=\"3\" valign=\"top\">Pencils</th>\n",
       "      <th rowspan=\"2\" valign=\"top\">Denver</th>\n",
       "      <th>New York</th>\n",
       "      <td>50</td>\n",
       "    </tr>\n",
       "    <tr>\n",
       "      <th>Seattle</th>\n",
       "      <td>10</td>\n",
       "    </tr>\n",
       "    <tr>\n",
       "      <th>Detroit</th>\n",
       "      <th>Boston</th>\n",
       "      <td>50</td>\n",
       "    </tr>\n",
       "    <tr>\n",
       "      <th rowspan=\"4\" valign=\"top\">Pens</th>\n",
       "      <th rowspan=\"2\" valign=\"top\">Denver</th>\n",
       "      <th>Boston</th>\n",
       "      <td>10</td>\n",
       "    </tr>\n",
       "    <tr>\n",
       "      <th>Seattle</th>\n",
       "      <td>30</td>\n",
       "    </tr>\n",
       "    <tr>\n",
       "      <th rowspan=\"2\" valign=\"top\">Detroit</th>\n",
       "      <th>Boston</th>\n",
       "      <td>30</td>\n",
       "    </tr>\n",
       "    <tr>\n",
       "      <th>New York</th>\n",
       "      <td>30</td>\n",
       "    </tr>\n",
       "  </tbody>\n",
       "</table>\n",
       "</div>"
      ],
      "text/plain": [
       "                               quantity\n",
       "commodity source  destination          \n",
       "Pencils   Denver  New York           50\n",
       "                  Seattle            10\n",
       "          Detroit Boston             50\n",
       "Pens      Denver  Boston             10\n",
       "                  Seattle            30\n",
       "          Detroit Boston             30\n",
       "                  New York           30"
      ]
     },
     "execution_count": 5,
     "metadata": {},
     "output_type": "execute_result"
    }
   ],
   "source": [
    "solutionFactory.copy_to_pandas(solution).flow"
   ]
  },
  {
   "cell_type": "markdown",
   "metadata": {},
   "source": [
    "I just copied the gurobi `netflow.py` script into the `gurobinetflow.py` file. Lets run that for comparison."
   ]
  },
  {
   "cell_type": "code",
   "execution_count": 6,
   "metadata": {
    "collapsed": false
   },
   "outputs": [
    {
     "name": "stdout",
     "output_type": "stream",
     "text": [
      "Optimize a model with 16 rows, 12 columns and 36 nonzeros\n",
      "Coefficient statistics:\n",
      "  Matrix range    [1e+00, 1e+00]\n",
      "  Objective range [1e+01, 8e+01]\n",
      "  Bounds range    [8e+01, 1e+02]\n",
      "  RHS range       [1e+01, 1e+02]\n",
      "Presolve removed 16 rows and 12 columns\n",
      "Presolve time: 0.00s\n",
      "Presolve: All rows and columns removed\n",
      "Iteration    Objective       Primal Inf.    Dual Inf.      Time\n",
      "       0    5.5000000e+03   0.000000e+00   0.000000e+00      0s\n",
      "\n",
      "Solved in 0 iterations and 0.00 seconds\n",
      "Optimal objective  5.500000000e+03\n",
      "\n",
      "Optimal flows for Pencils:\n",
      "Denver -> Seattle: 10\n",
      "Denver -> New York: 50\n",
      "Detroit -> Boston: 50\n",
      "\n",
      "Optimal flows for Pens:\n",
      "Denver -> Seattle: 30\n",
      "Detroit -> New York: 30\n",
      "Detroit -> Boston: 30\n",
      "Denver -> Boston: 10\n"
     ]
    }
   ],
   "source": [
    "run gurobinetflow.py"
   ]
  },
  {
   "cell_type": "markdown",
   "metadata": {},
   "source": [
    "So for real work I'd obviously have a test bigger than one, but for our purposes I think getting the same 7 record result is sufficient."
   ]
  }
 ],
 "metadata": {
  "kernelspec": {
   "display_name": "Python 2",
   "language": "python",
   "name": "python2"
  },
  "language_info": {
   "codemirror_mode": {
    "name": "ipython",
    "version": 2
   },
   "file_extension": ".py",
   "mimetype": "text/x-python",
   "name": "python",
   "nbconvert_exporter": "python",
   "pygments_lexer": "ipython2",
   "version": "2.7.11"
  }
 },
 "nbformat": 4,
 "nbformat_minor": 0
}
