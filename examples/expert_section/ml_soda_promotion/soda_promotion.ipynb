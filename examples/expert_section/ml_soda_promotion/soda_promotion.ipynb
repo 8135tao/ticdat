{
 "cells": [
  {
   "cell_type": "markdown",
   "metadata": {
    "slideshow": {
     "slide_type": "slide"
    }
   },
   "source": [
    "## Combining Machine Learning and Optimization with Gurobi"
   ]
  },
  {
   "cell_type": "markdown",
   "metadata": {
    "slideshow": {
     "slide_type": "slide"
    }
   },
   "source": [
    "## Machine Learning topics \n",
    "Touching the elephant here, but ~~not there~~"
   ]
  },
  {
   "cell_type": "markdown",
   "metadata": {
    "slideshow": {
     "slide_type": "fragment"
    }
   },
   "source": [
    "Supervised Learning\n",
    "  * Algorithm selection and hyperparametric optimization\n",
    "  * KFold assessment vs overfitting\n",
    "  * Seperating training from prediction "
   ]
  },
  {
   "cell_type": "markdown",
   "metadata": {
    "slideshow": {
     "slide_type": "fragment"
    }
   },
   "source": [
    "~~Unsupervised Learning~~"
   ]
  },
  {
   "cell_type": "markdown",
   "metadata": {
    "slideshow": {
     "slide_type": "fragment"
    }
   },
   "source": [
    "~~Time Series Data~~"
   ]
  },
  {
   "cell_type": "markdown",
   "metadata": {
    "slideshow": {
     "slide_type": "fragment"
    }
   },
   "source": [
    "~~Deep Learning~~"
   ]
  },
  {
   "cell_type": "markdown",
   "metadata": {
    "slideshow": {
     "slide_type": "slide"
    }
   },
   "source": [
    "## Optimization topics\n",
    "\n",
    "  * Exploratory programming to application deployment\n",
    "  * Coping with the combinatorial explosion\n",
    "  * Validating optimization with simulation"
   ]
  },
  {
   "cell_type": "markdown",
   "metadata": {
    "slideshow": {
     "slide_type": "slide"
    }
   },
   "source": [
    "# All Under the Banner of Python!"
   ]
  },
  {
   "cell_type": "markdown",
   "metadata": {
    "slideshow": {
     "slide_type": "slide"
    }
   },
   "source": [
    "## The Soda Promotion Problem"
   ]
  },
  {
   "cell_type": "markdown",
   "metadata": {
    "slideshow": {
     "slide_type": "fragment"
    }
   },
   "source": [
    "We have the challenge of designing the upcoming promotion campaign for a Soda Company. The intended objective is to bolster sales while at the same time obeying various business constraints."
   ]
  },
  {
   "cell_type": "markdown",
   "metadata": {
    "slideshow": {
     "slide_type": "slide"
    }
   },
   "source": [
    "## The First Challenge\n",
    "\n",
    "We need to predict impact of different price points on the expected sales for each type of soda.\n",
    "\n",
    "To do this, we need to train a soda sales predictor from a historical data table.\n"
   ]
  },
  {
   "cell_type": "markdown",
   "metadata": {
    "slideshow": {
     "slide_type": "slide"
    }
   },
   "source": [
    "### Examine historical data "
   ]
  },
  {
   "cell_type": "code",
   "execution_count": 1,
   "metadata": {
    "collapsed": false,
    "slideshow": {
     "slide_type": "fragment"
    }
   },
   "outputs": [
    {
     "data": {
      "text/html": [
       "<div>\n",
       "<table border=\"1\" class=\"dataframe\">\n",
       "  <thead>\n",
       "    <tr style=\"text-align: right;\">\n",
       "      <th></th>\n",
       "      <th>Product</th>\n",
       "      <th>Sales</th>\n",
       "      <th>Cost Per Unit</th>\n",
       "      <th>Easter Included</th>\n",
       "      <th>Super Bowl Included</th>\n",
       "      <th>Christmas Included</th>\n",
       "      <th>Other Holiday</th>\n",
       "      <th>4 Wk Avg Temp</th>\n",
       "      <th>4 Wk Avg Humidity</th>\n",
       "      <th>Sales M-1 weeks</th>\n",
       "      <th>Sales M-2 weeks</th>\n",
       "      <th>Sales M-3 weeks</th>\n",
       "      <th>Sales M-4 Weeks</th>\n",
       "      <th>Sales M-5 weeks</th>\n",
       "    </tr>\n",
       "  </thead>\n",
       "  <tbody>\n",
       "    <tr>\n",
       "      <th>0</th>\n",
       "      <td>11 Down</td>\n",
       "      <td>51.9</td>\n",
       "      <td>1.6625</td>\n",
       "      <td>No</td>\n",
       "      <td>No</td>\n",
       "      <td>Yes</td>\n",
       "      <td>No</td>\n",
       "      <td>80.69</td>\n",
       "      <td>69.19</td>\n",
       "      <td>17.0</td>\n",
       "      <td>22.4</td>\n",
       "      <td>13.5</td>\n",
       "      <td>14.5</td>\n",
       "      <td>28.0</td>\n",
       "    </tr>\n",
       "    <tr>\n",
       "      <th>1</th>\n",
       "      <td>Alpine Stream</td>\n",
       "      <td>55.8</td>\n",
       "      <td>2.2725</td>\n",
       "      <td>No</td>\n",
       "      <td>No</td>\n",
       "      <td>Yes</td>\n",
       "      <td>No</td>\n",
       "      <td>80.69</td>\n",
       "      <td>69.19</td>\n",
       "      <td>2.4</td>\n",
       "      <td>2.2</td>\n",
       "      <td>2.0</td>\n",
       "      <td>1.4</td>\n",
       "      <td>0.5</td>\n",
       "    </tr>\n",
       "    <tr>\n",
       "      <th>2</th>\n",
       "      <td>Bright</td>\n",
       "      <td>3385.6</td>\n",
       "      <td>1.3475</td>\n",
       "      <td>No</td>\n",
       "      <td>No</td>\n",
       "      <td>Yes</td>\n",
       "      <td>No</td>\n",
       "      <td>80.69</td>\n",
       "      <td>69.19</td>\n",
       "      <td>301.8</td>\n",
       "      <td>188.8</td>\n",
       "      <td>101.4</td>\n",
       "      <td>81.6</td>\n",
       "      <td>213.8</td>\n",
       "    </tr>\n",
       "    <tr>\n",
       "      <th>3</th>\n",
       "      <td>Crisp Clear</td>\n",
       "      <td>63.5</td>\n",
       "      <td>1.6600</td>\n",
       "      <td>No</td>\n",
       "      <td>No</td>\n",
       "      <td>Yes</td>\n",
       "      <td>No</td>\n",
       "      <td>80.69</td>\n",
       "      <td>69.19</td>\n",
       "      <td>73.8</td>\n",
       "      <td>69.4</td>\n",
       "      <td>72.8</td>\n",
       "      <td>75.4</td>\n",
       "      <td>57.4</td>\n",
       "    </tr>\n",
       "    <tr>\n",
       "      <th>4</th>\n",
       "      <td>Popsi Kola</td>\n",
       "      <td>181.1</td>\n",
       "      <td>1.8725</td>\n",
       "      <td>No</td>\n",
       "      <td>No</td>\n",
       "      <td>Yes</td>\n",
       "      <td>No</td>\n",
       "      <td>80.69</td>\n",
       "      <td>69.19</td>\n",
       "      <td>23.1</td>\n",
       "      <td>22.6</td>\n",
       "      <td>22.1</td>\n",
       "      <td>19.9</td>\n",
       "      <td>23.2</td>\n",
       "    </tr>\n",
       "  </tbody>\n",
       "</table>\n",
       "</div>"
      ],
      "text/plain": [
       "         Product   Sales  Cost Per Unit Easter Included Super Bowl Included  \\\n",
       "0        11 Down    51.9         1.6625              No                  No   \n",
       "1  Alpine Stream    55.8         2.2725              No                  No   \n",
       "2         Bright  3385.6         1.3475              No                  No   \n",
       "3    Crisp Clear    63.5         1.6600              No                  No   \n",
       "4     Popsi Kola   181.1         1.8725              No                  No   \n",
       "\n",
       "  Christmas Included Other Holiday  4 Wk Avg Temp  4 Wk Avg Humidity  \\\n",
       "0                Yes            No          80.69              69.19   \n",
       "1                Yes            No          80.69              69.19   \n",
       "2                Yes            No          80.69              69.19   \n",
       "3                Yes            No          80.69              69.19   \n",
       "4                Yes            No          80.69              69.19   \n",
       "\n",
       "   Sales M-1 weeks  Sales M-2 weeks  Sales M-3 weeks  Sales M-4 Weeks  \\\n",
       "0             17.0             22.4             13.5             14.5   \n",
       "1              2.4              2.2              2.0              1.4   \n",
       "2            301.8            188.8            101.4             81.6   \n",
       "3             73.8             69.4             72.8             75.4   \n",
       "4             23.1             22.6             22.1             19.9   \n",
       "\n",
       "   Sales M-5 weeks  \n",
       "0             28.0  \n",
       "1              0.5  \n",
       "2            213.8  \n",
       "3             57.4  \n",
       "4             23.2  "
      ]
     },
     "execution_count": 1,
     "metadata": {},
     "output_type": "execute_result"
    }
   ],
   "source": [
    "import pandas\n",
    "df_hist = pandas.read_excel(\"soda_sales_historical_data.xlsx\")\n",
    "df_hist[:5]"
   ]
  },
  {
   "cell_type": "code",
   "execution_count": 2,
   "metadata": {
    "collapsed": false,
    "slideshow": {
     "slide_type": "fragment"
    }
   },
   "outputs": [
    {
     "data": {
      "text/plain": [
       "(596, 14)"
      ]
     },
     "execution_count": 2,
     "metadata": {},
     "output_type": "execute_result"
    }
   ],
   "source": [
    "df_hist.shape"
   ]
  },
  {
   "cell_type": "markdown",
   "metadata": {
    "slideshow": {
     "slide_type": "slide"
    }
   },
   "source": [
    "### Convert categorical columns to numeric"
   ]
  },
  {
   "cell_type": "code",
   "execution_count": 3,
   "metadata": {
    "collapsed": false,
    "slideshow": {
     "slide_type": "fragment"
    }
   },
   "outputs": [
    {
     "data": {
      "text/html": [
       "<div>\n",
       "<table border=\"1\" class=\"dataframe\">\n",
       "  <thead>\n",
       "    <tr style=\"text-align: right;\">\n",
       "      <th></th>\n",
       "      <th>Sales</th>\n",
       "      <th>Cost Per Unit</th>\n",
       "      <th>4 Wk Avg Temp</th>\n",
       "      <th>4 Wk Avg Humidity</th>\n",
       "      <th>Sales M-1 weeks</th>\n",
       "      <th>Sales M-2 weeks</th>\n",
       "      <th>Sales M-3 weeks</th>\n",
       "      <th>Sales M-4 Weeks</th>\n",
       "      <th>Sales M-5 weeks</th>\n",
       "      <th>dmy_Product_11 Down</th>\n",
       "      <th>...</th>\n",
       "      <th>dmy_Product_Koala Kola</th>\n",
       "      <th>dmy_Product_Mr. Popper</th>\n",
       "      <th>dmy_Product_Popsi Kola</th>\n",
       "      <th>dmy_Easter Included_No</th>\n",
       "      <th>dmy_Easter Included_Yes</th>\n",
       "      <th>dmy_Super Bowl Included_No</th>\n",
       "      <th>dmy_Super Bowl Included_Yes</th>\n",
       "      <th>dmy_Christmas Included_No</th>\n",
       "      <th>dmy_Christmas Included_Yes</th>\n",
       "      <th>dmy_Other Holiday_No</th>\n",
       "    </tr>\n",
       "  </thead>\n",
       "  <tbody>\n",
       "    <tr>\n",
       "      <th>0</th>\n",
       "      <td>51.9</td>\n",
       "      <td>1.6625</td>\n",
       "      <td>80.69</td>\n",
       "      <td>69.19</td>\n",
       "      <td>17.0</td>\n",
       "      <td>22.4</td>\n",
       "      <td>13.5</td>\n",
       "      <td>14.5</td>\n",
       "      <td>28.0</td>\n",
       "      <td>1</td>\n",
       "      <td>...</td>\n",
       "      <td>0</td>\n",
       "      <td>0</td>\n",
       "      <td>0</td>\n",
       "      <td>1</td>\n",
       "      <td>0</td>\n",
       "      <td>1</td>\n",
       "      <td>0</td>\n",
       "      <td>0</td>\n",
       "      <td>1</td>\n",
       "      <td>1</td>\n",
       "    </tr>\n",
       "    <tr>\n",
       "      <th>1</th>\n",
       "      <td>55.8</td>\n",
       "      <td>2.2725</td>\n",
       "      <td>80.69</td>\n",
       "      <td>69.19</td>\n",
       "      <td>2.4</td>\n",
       "      <td>2.2</td>\n",
       "      <td>2.0</td>\n",
       "      <td>1.4</td>\n",
       "      <td>0.5</td>\n",
       "      <td>0</td>\n",
       "      <td>...</td>\n",
       "      <td>0</td>\n",
       "      <td>0</td>\n",
       "      <td>0</td>\n",
       "      <td>1</td>\n",
       "      <td>0</td>\n",
       "      <td>1</td>\n",
       "      <td>0</td>\n",
       "      <td>0</td>\n",
       "      <td>1</td>\n",
       "      <td>1</td>\n",
       "    </tr>\n",
       "    <tr>\n",
       "      <th>2</th>\n",
       "      <td>3385.6</td>\n",
       "      <td>1.3475</td>\n",
       "      <td>80.69</td>\n",
       "      <td>69.19</td>\n",
       "      <td>301.8</td>\n",
       "      <td>188.8</td>\n",
       "      <td>101.4</td>\n",
       "      <td>81.6</td>\n",
       "      <td>213.8</td>\n",
       "      <td>0</td>\n",
       "      <td>...</td>\n",
       "      <td>0</td>\n",
       "      <td>0</td>\n",
       "      <td>0</td>\n",
       "      <td>1</td>\n",
       "      <td>0</td>\n",
       "      <td>1</td>\n",
       "      <td>0</td>\n",
       "      <td>0</td>\n",
       "      <td>1</td>\n",
       "      <td>1</td>\n",
       "    </tr>\n",
       "    <tr>\n",
       "      <th>3</th>\n",
       "      <td>63.5</td>\n",
       "      <td>1.6600</td>\n",
       "      <td>80.69</td>\n",
       "      <td>69.19</td>\n",
       "      <td>73.8</td>\n",
       "      <td>69.4</td>\n",
       "      <td>72.8</td>\n",
       "      <td>75.4</td>\n",
       "      <td>57.4</td>\n",
       "      <td>0</td>\n",
       "      <td>...</td>\n",
       "      <td>0</td>\n",
       "      <td>0</td>\n",
       "      <td>0</td>\n",
       "      <td>1</td>\n",
       "      <td>0</td>\n",
       "      <td>1</td>\n",
       "      <td>0</td>\n",
       "      <td>0</td>\n",
       "      <td>1</td>\n",
       "      <td>1</td>\n",
       "    </tr>\n",
       "    <tr>\n",
       "      <th>4</th>\n",
       "      <td>181.1</td>\n",
       "      <td>1.8725</td>\n",
       "      <td>80.69</td>\n",
       "      <td>69.19</td>\n",
       "      <td>23.1</td>\n",
       "      <td>22.6</td>\n",
       "      <td>22.1</td>\n",
       "      <td>19.9</td>\n",
       "      <td>23.2</td>\n",
       "      <td>0</td>\n",
       "      <td>...</td>\n",
       "      <td>0</td>\n",
       "      <td>0</td>\n",
       "      <td>1</td>\n",
       "      <td>1</td>\n",
       "      <td>0</td>\n",
       "      <td>1</td>\n",
       "      <td>0</td>\n",
       "      <td>0</td>\n",
       "      <td>1</td>\n",
       "      <td>1</td>\n",
       "    </tr>\n",
       "  </tbody>\n",
       "</table>\n",
       "<p>5 rows × 25 columns</p>\n",
       "</div>"
      ],
      "text/plain": [
       "    Sales  Cost Per Unit  4 Wk Avg Temp  4 Wk Avg Humidity  Sales M-1 weeks  \\\n",
       "0    51.9         1.6625          80.69              69.19             17.0   \n",
       "1    55.8         2.2725          80.69              69.19              2.4   \n",
       "2  3385.6         1.3475          80.69              69.19            301.8   \n",
       "3    63.5         1.6600          80.69              69.19             73.8   \n",
       "4   181.1         1.8725          80.69              69.19             23.1   \n",
       "\n",
       "   Sales M-2 weeks  Sales M-3 weeks  Sales M-4 Weeks  Sales M-5 weeks  \\\n",
       "0             22.4             13.5             14.5             28.0   \n",
       "1              2.2              2.0              1.4              0.5   \n",
       "2            188.8            101.4             81.6            213.8   \n",
       "3             69.4             72.8             75.4             57.4   \n",
       "4             22.6             22.1             19.9             23.2   \n",
       "\n",
       "   dmy_Product_11 Down          ...           dmy_Product_Koala Kola  \\\n",
       "0                    1          ...                                0   \n",
       "1                    0          ...                                0   \n",
       "2                    0          ...                                0   \n",
       "3                    0          ...                                0   \n",
       "4                    0          ...                                0   \n",
       "\n",
       "   dmy_Product_Mr. Popper  dmy_Product_Popsi Kola  dmy_Easter Included_No  \\\n",
       "0                       0                       0                       1   \n",
       "1                       0                       0                       1   \n",
       "2                       0                       0                       1   \n",
       "3                       0                       0                       1   \n",
       "4                       0                       1                       1   \n",
       "\n",
       "   dmy_Easter Included_Yes  dmy_Super Bowl Included_No  \\\n",
       "0                        0                           1   \n",
       "1                        0                           1   \n",
       "2                        0                           1   \n",
       "3                        0                           1   \n",
       "4                        0                           1   \n",
       "\n",
       "   dmy_Super Bowl Included_Yes  dmy_Christmas Included_No  \\\n",
       "0                            0                          0   \n",
       "1                            0                          0   \n",
       "2                            0                          0   \n",
       "3                            0                          0   \n",
       "4                            0                          0   \n",
       "\n",
       "   dmy_Christmas Included_Yes  dmy_Other Holiday_No  \n",
       "0                           1                     1  \n",
       "1                           1                     1  \n",
       "2                           1                     1  \n",
       "3                           1                     1  \n",
       "4                           1                     1  \n",
       "\n",
       "[5 rows x 25 columns]"
      ]
     },
     "execution_count": 3,
     "metadata": {},
     "output_type": "execute_result"
    }
   ],
   "source": [
    "from pandas import DataFrame, get_dummies\n",
    "categorical_columns = ['Product','Easter Included','Super Bowl Included', 'Christmas Included',\n",
    "                       'Other Holiday']\n",
    "df_hist = get_dummies(df_hist, prefix={k:\"dmy_%s\"%k for k in categorical_columns},\n",
    "                      columns = list(categorical_columns))\n",
    "df_hist[:5]"
   ]
  },
  {
   "cell_type": "markdown",
   "metadata": {
    "slideshow": {
     "slide_type": "slide"
    }
   },
   "source": [
    "### Picking the right predictor algorithm is of upmost importance.\n",
    "\n",
    "Hence we examine our choices here in great deal."
   ]
  },
  {
   "cell_type": "code",
   "execution_count": 4,
   "metadata": {
    "collapsed": false,
    "slideshow": {
     "slide_type": "fragment"
    }
   },
   "outputs": [],
   "source": [
    "from sklearn.tree import DecisionTreeRegressor\n",
    "from sklearn.ensemble import RandomForestRegressor\n",
    "from sklearn.linear_model import LinearRegression\n",
    "from sklearn.ensemble import BaggingRegressor\n",
    "from sklearn import model_selection\n",
    "experiments = {\"Algorithm\":[\"Ordinary Least Squares\", \"Regression Tree\", \n",
    "                            \"Big Random Forest\", \"Random Forest\", \n",
    "                            \"Bagging\"], \n",
    "               \"Objects\" : [lambda : LinearRegression(), \n",
    "                            lambda : DecisionTreeRegressor(), \n",
    "                            lambda : RandomForestRegressor(n_estimators=100), \n",
    "                            lambda : RandomForestRegressor(), \n",
    "                            lambda : BaggingRegressor()], \n",
    "               \"Predictions\":[[] for _ in range(5)]}\n",
    "actuals = []"
   ]
  },
  {
   "cell_type": "markdown",
   "metadata": {
    "slideshow": {
     "slide_type": "slide"
    }
   },
   "source": [
    "### Resist the temptation to overfit!\n",
    "Instead, split the samples into train, test subsections."
   ]
  },
  {
   "cell_type": "code",
   "execution_count": 5,
   "metadata": {
    "collapsed": false,
    "slideshow": {
     "slide_type": "fragment"
    }
   },
   "outputs": [
    {
     "data": {
      "text/plain": [
       "[(447, 24), (149, 24), (447,), (149,)]"
      ]
     },
     "execution_count": 5,
     "metadata": {},
     "output_type": "execute_result"
    }
   ],
   "source": [
    "from sklearn.model_selection import train_test_split\n",
    "[_.shape for _ in  train_test_split(df_hist.drop(\"Sales\", axis=1), \n",
    "                                    df_hist[\"Sales\"], test_size=0.25)]"
   ]
  },
  {
   "cell_type": "markdown",
   "metadata": {
    "slideshow": {
     "slide_type": "slide"
    }
   },
   "source": [
    "### By repeatedly splitting, training, and testing, you can create a realistic simulation of prediction accuracy."
   ]
  },
  {
   "cell_type": "code",
   "execution_count": 6,
   "metadata": {
    "collapsed": false,
    "slideshow": {
     "slide_type": "fragment"
    }
   },
   "outputs": [],
   "source": [
    "for _ in range (4):\n",
    "    train_X, test_X, train_y, test_y = (\n",
    "        train_test_split(df_hist.drop(\"Sales\", axis=1), \n",
    "                         df_hist[\"Sales\"], test_size=0.25))\n",
    "    for i, obj_factory in enumerate(experiments[\"Objects\"]):\n",
    "        obj = obj_factory()\n",
    "        obj.fit(y=train_y,X=train_X)\n",
    "        experiments[\"Predictions\"][i] += list(obj.predict(test_X))\n",
    "    actuals += list(test_y)\n",
    "actuals = pandas.Series(actuals)\n",
    "experiments[\"Predictions\"] = list(map(pandas.Series, experiments[\"Predictions\"]))"
   ]
  },
  {
   "cell_type": "code",
   "execution_count": 7,
   "metadata": {
    "collapsed": false,
    "slideshow": {
     "slide_type": "fragment"
    }
   },
   "outputs": [
    {
     "data": {
      "text/plain": [
       "(596, [596, 596, 596, 596, 596])"
      ]
     },
     "execution_count": 7,
     "metadata": {},
     "output_type": "execute_result"
    }
   ],
   "source": [
    "len(actuals), map(len, experiments[\"Predictions\"])"
   ]
  },
  {
   "cell_type": "markdown",
   "metadata": {
    "slideshow": {
     "slide_type": "slide"
    }
   },
   "source": [
    "### Now lets visualize our results"
   ]
  },
  {
   "cell_type": "code",
   "execution_count": 8,
   "metadata": {
    "collapsed": false,
    "slideshow": {
     "slide_type": "fragment"
    }
   },
   "outputs": [
    {
     "data": {
      "image/png": "[encoded data removed]",
      "text/plain": [
       "<matplotlib.figure.Figure at 0x1189a1c10>"
      ]
     },
     "metadata": {},
     "output_type": "display_data"
    }
   ],
   "source": [
    "%matplotlib inline \n",
    "import numpy as np\n",
    "import matplotlib.pyplot as plt\n",
    "from matplotlib.pyplot import cm\n",
    "color=iter(cm.rainbow(np.linspace(0,1,len(experiments)+3)))\n",
    "plt.figure(figsize=(12,7),dpi=300)\n",
    "plt.plot(actuals,actuals,c=next(color),markersize=2,label='Data')\n",
    "for _, row in DataFrame(experiments).iterrows():\n",
    "    plt.plot(actuals, row[\"Predictions\"],'o',c=next(color),\n",
    "             markersize=2,label=row['Algorithm'])\n",
    "plt.title('Scatter Plot Prediction v/s Data')\n",
    "plt.grid(True)\n",
    "plt.legend()\n",
    "plt.show()"
   ]
  },
  {
   "cell_type": "markdown",
   "metadata": {
    "slideshow": {
     "slide_type": "slide"
    }
   },
   "source": [
    "### More visualizations"
   ]
  },
  {
   "cell_type": "code",
   "execution_count": 9,
   "metadata": {
    "collapsed": false,
    "slideshow": {
     "slide_type": "fragment"
    }
   },
   "outputs": [
    {
     "data": {
      "image/png": "[encoded data removed]",
      "text/plain": [
       "<matplotlib.figure.Figure at 0x1189e7fd0>"
      ]
     },
     "metadata": {},
     "output_type": "display_data"
    }
   ],
   "source": [
    "color=iter(cm.rainbow(np.linspace(0,1,len(experiments)+3)))\n",
    "next(color)\n",
    "plt.figure(figsize=(13,8),dpi=300)\n",
    "for index, row in DataFrame(experiments).iterrows():\n",
    "    relative_error = (row[\"Predictions\"] - actuals) / (1 + abs(actuals))\n",
    "    plt.plot(np.sort(relative_error),'o',c=next(color),\n",
    "             markersize=2,label=row['Algorithm'])\n",
    "plt.title('Relative Error Prediction v/s Data')\n",
    "plt.ylabel('Relative Error')\n",
    "plt.grid(True)\n",
    "plt.legend()\n",
    "plt.axis([0,len(actuals),-1,1])\n",
    "plt.show()"
   ]
  },
  {
   "cell_type": "markdown",
   "metadata": {
    "slideshow": {
     "slide_type": "slide"
    }
   },
   "source": [
    "### Even more visualizations"
   ]
  },
  {
   "cell_type": "code",
   "execution_count": 10,
   "metadata": {
    "collapsed": false,
    "slideshow": {
     "slide_type": "fragment"
    }
   },
   "outputs": [],
   "source": [
    "def boxplot(algorithm):\n",
    "    prediction = (experiments[\"Predictions\"]\n",
    "                  [experiments[\"Algorithm\"].index(algorithm)])\n",
    "    plt.title(algorithm)\n",
    "    plt.boxplot( (prediction - actuals) / (1 + abs(actuals))  )\n",
    "    plt.show()"
   ]
  },
  {
   "cell_type": "code",
   "execution_count": 11,
   "metadata": {
    "collapsed": false,
    "slideshow": {
     "slide_type": "fragment"
    }
   },
   "outputs": [
    {
     "data": {
      "image/png": "[encoded data removed]",
      "text/plain": [
       "<matplotlib.figure.Figure at 0x118e29350>"
      ]
     },
     "metadata": {},
     "output_type": "display_data"
    }
   ],
   "source": [
    "boxplot(\"Bagging\")"
   ]
  },
  {
   "cell_type": "code",
   "execution_count": 12,
   "metadata": {
    "collapsed": false,
    "slideshow": {
     "slide_type": "fragment"
    }
   },
   "outputs": [
    {
     "data": {
      "image/png": "[encoded data removed]",
      "text/plain": [
       "<matplotlib.figure.Figure at 0x114855450>"
      ]
     },
     "metadata": {},
     "output_type": "display_data"
    }
   ],
   "source": [
    "boxplot(\"Big Random Forest\")"
   ]
  },
  {
   "cell_type": "markdown",
   "metadata": {
    "slideshow": {
     "slide_type": "slide"
    }
   },
   "source": [
    "### Visualizations only take us so far.\n",
    "\n",
    "Let's use `model_selection.cross_val_score` to automate the process of train/test split based assessment. (K-Fold Cross Validation)\n",
    "\n"
   ]
  },
  {
   "cell_type": "code",
   "execution_count": 13,
   "metadata": {
    "collapsed": false,
    "slideshow": {
     "slide_type": "fragment"
    }
   },
   "outputs": [],
   "source": [
    "experiments[\"Results\"] = []\n",
    "for o in experiments[\"Objects\"]:\n",
    "    experiments[\"Results\"].append(\n",
    "        model_selection.cross_val_score(o(), y=df_hist['Sales'], \n",
    "                                        X=df_hist.drop(\"Sales\", axis=1),\n",
    "                                        cv=5).mean())"
   ]
  },
  {
   "cell_type": "code",
   "execution_count": 14,
   "metadata": {
    "collapsed": false,
    "slideshow": {
     "slide_type": "fragment"
    }
   },
   "outputs": [
    {
     "data": {
      "text/html": [
       "<div>\n",
       "<table border=\"1\" class=\"dataframe\">\n",
       "  <thead>\n",
       "    <tr style=\"text-align: right;\">\n",
       "      <th></th>\n",
       "      <th>Results</th>\n",
       "    </tr>\n",
       "    <tr>\n",
       "      <th>Algorithm</th>\n",
       "      <th></th>\n",
       "    </tr>\n",
       "  </thead>\n",
       "  <tbody>\n",
       "    <tr>\n",
       "      <th>Ordinary Least Squares</th>\n",
       "      <td>0.536984</td>\n",
       "    </tr>\n",
       "    <tr>\n",
       "      <th>Regression Tree</th>\n",
       "      <td>0.643979</td>\n",
       "    </tr>\n",
       "    <tr>\n",
       "      <th>Big Random Forest</th>\n",
       "      <td>0.845263</td>\n",
       "    </tr>\n",
       "    <tr>\n",
       "      <th>Random Forest</th>\n",
       "      <td>0.802392</td>\n",
       "    </tr>\n",
       "    <tr>\n",
       "      <th>Bagging</th>\n",
       "      <td>0.844985</td>\n",
       "    </tr>\n",
       "  </tbody>\n",
       "</table>\n",
       "</div>"
      ],
      "text/plain": [
       "                         Results\n",
       "Algorithm                       \n",
       "Ordinary Least Squares  0.536984\n",
       "Regression Tree         0.643979\n",
       "Big Random Forest       0.845263\n",
       "Random Forest           0.802392\n",
       "Bagging                 0.844985"
      ]
     },
     "execution_count": 14,
     "metadata": {},
     "output_type": "execute_result"
    }
   ],
   "source": [
    "DataFrame(experiments).drop([\"Objects\", \"Predictions\"], axis=1).set_index(\"Algorithm\")"
   ]
  },
  {
   "cell_type": "markdown",
   "metadata": {
    "slideshow": {
     "slide_type": "slide"
    }
   },
   "source": [
    "### Now use the complete historical table to create a predictor object with the best algorithm"
   ]
  },
  {
   "cell_type": "code",
   "execution_count": 15,
   "metadata": {
    "collapsed": false,
    "slideshow": {
     "slide_type": "fragment"
    }
   },
   "outputs": [],
   "source": [
    "fitted = (experiments[\"Objects\"]\n",
    "          [experiments[\"Algorithm\"].index(\"Big Random Forest\")]().\n",
    "          fit(y=df_hist[\"Sales\"], X=df_hist.drop(\"Sales\", axis=1)))"
   ]
  },
  {
   "cell_type": "markdown",
   "metadata": {
    "slideshow": {
     "slide_type": "slide"
    }
   },
   "source": [
    "### We will make predictions for the \"Sales\"-less table of current data."
   ]
  },
  {
   "cell_type": "code",
   "execution_count": 16,
   "metadata": {
    "collapsed": false,
    "slideshow": {
     "slide_type": "fragment"
    }
   },
   "outputs": [
    {
     "data": {
      "text/plain": [
       "36"
      ]
     },
     "execution_count": 16,
     "metadata": {},
     "output_type": "execute_result"
    }
   ],
   "source": [
    "df_superbowl_original = pandas.read_excel(\"super_bowl_promotion_data.xlsx\")\n",
    "df_superbowl = get_dummies(df_superbowl_original, prefix={k:\"dmy_%s\"%k for k in categorical_columns},\n",
    "                      columns = list(categorical_columns))\n",
    "assert \"Sales\" not in df_superbowl.columns \n",
    "assert {\"Sales\"}.union(df_superbowl.columns).issubset(set(df_hist.columns))\n",
    "len(df_superbowl)"
   ]
  },
  {
   "cell_type": "markdown",
   "metadata": {
    "slideshow": {
     "slide_type": "fragment"
    }
   },
   "source": [
    "Note that the current data table might have less categorical range than the historical data. "
   ]
  },
  {
   "cell_type": "code",
   "execution_count": 17,
   "metadata": {
    "collapsed": false,
    "slideshow": {
     "slide_type": "fragment"
    }
   },
   "outputs": [],
   "source": [
    "for fld in set(df_hist.columns).difference(df_superbowl.columns, {\"Sales\"}):\n",
    "    assert fld.startswith(\"dmy_\")\n",
    "    df_superbowl[fld] = 0"
   ]
  },
  {
   "cell_type": "code",
   "execution_count": 18,
   "metadata": {
    "collapsed": true,
    "slideshow": {
     "slide_type": "fragment"
    }
   },
   "outputs": [],
   "source": [
    "predicted = fitted.predict(df_superbowl)"
   ]
  },
  {
   "cell_type": "markdown",
   "metadata": {
    "slideshow": {
     "slide_type": "slide"
    }
   },
   "source": [
    "# Prediction in hand, we commence optimization!"
   ]
  },
  {
   "cell_type": "code",
   "execution_count": 19,
   "metadata": {
    "collapsed": true,
    "slideshow": {
     "slide_type": "fragment"
    }
   },
   "outputs": [],
   "source": [
    "forecast_sales = df_superbowl_original[[\"Product\", \"Cost Per Unit\"]].copy()\n",
    "forecast_sales[\"Sales\"] = predicted"
   ]
  },
  {
   "cell_type": "code",
   "execution_count": null,
   "metadata": {
    "collapsed": true
   },
   "outputs": [],
   "source": []
  }
 ],
 "metadata": {
  "celltoolbar": "Slideshow",
  "kernelspec": {
   "display_name": "Python 2",
   "language": "python",
   "name": "python2"
  },
  "language_info": {
   "codemirror_mode": {
    "name": "ipython",
    "version": 2
   },
   "file_extension": ".py",
   "mimetype": "text/x-python",
   "name": "python",
   "nbconvert_exporter": "python",
   "pygments_lexer": "ipython2",
   "version": "2.7.11"
  }
 },
 "nbformat": 4,
 "nbformat_minor": 0
}
