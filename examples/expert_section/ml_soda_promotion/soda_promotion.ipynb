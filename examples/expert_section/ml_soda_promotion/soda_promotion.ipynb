{
 "cells": [
  {
   "cell_type": "markdown",
   "metadata": {
    "slideshow": {
     "slide_type": "slide"
    }
   },
   "source": [
    "## Combining Machine Learning and Optimization with Gurobi"
   ]
  },
  {
   "cell_type": "markdown",
   "metadata": {
    "slideshow": {
     "slide_type": "slide"
    }
   },
   "source": [
    "## Machine Learning topics \n",
    "Touching the elephant here, but ~~not there~~"
   ]
  },
  {
   "cell_type": "markdown",
   "metadata": {
    "slideshow": {
     "slide_type": "fragment"
    }
   },
   "source": [
    "Supervised Learning\n",
    "  * Algorithm selection and hyperparametric optimization\n",
    "  * KFold assessment vs overfitting\n",
    "  * Seperating training from prediction "
   ]
  },
  {
   "cell_type": "markdown",
   "metadata": {
    "slideshow": {
     "slide_type": "fragment"
    }
   },
   "source": [
    "~~Unsupervised Learning~~"
   ]
  },
  {
   "cell_type": "markdown",
   "metadata": {
    "slideshow": {
     "slide_type": "fragment"
    }
   },
   "source": [
    "~~Time Series Data~~"
   ]
  },
  {
   "cell_type": "markdown",
   "metadata": {
    "slideshow": {
     "slide_type": "fragment"
    }
   },
   "source": [
    "~~Deep Learning~~"
   ]
  },
  {
   "cell_type": "markdown",
   "metadata": {
    "slideshow": {
     "slide_type": "slide"
    }
   },
   "source": [
    "## Optimization topics\n",
    "\n",
    "  * Exploratory programming to application deployment\n",
    "  * Coping with the combinatorial explosion\n",
    "  * Validating optimization with simulation"
   ]
  },
  {
   "cell_type": "markdown",
   "metadata": {
    "slideshow": {
     "slide_type": "slide"
    }
   },
   "source": [
    "# All Under the Banner of Python!"
   ]
  },
  {
   "cell_type": "markdown",
   "metadata": {
    "slideshow": {
     "slide_type": "slide"
    }
   },
   "source": [
    "## The Soda Promotion Problem"
   ]
  },
  {
   "cell_type": "markdown",
   "metadata": {
    "slideshow": {
     "slide_type": "fragment"
    }
   },
   "source": [
    "We have the challenge of designing the upcoming promotion campaign for a Soda Company. The intended objective is to bolster sales while at the same time obeying various business constraints."
   ]
  },
  {
   "cell_type": "markdown",
   "metadata": {
    "slideshow": {
     "slide_type": "slide"
    }
   },
   "source": [
    "## The First Challenge\n",
    "\n",
    "We need to predict impact of different price points on the expected sales for each type of soda.\n",
    "\n",
    "To do this, we need to train a soda sales predictor from a historical data table.\n"
   ]
  },
  {
   "cell_type": "markdown",
   "metadata": {
    "slideshow": {
     "slide_type": "slide"
    }
   },
   "source": [
    "### Examine historical data "
   ]
  },
  {
   "cell_type": "code",
   "execution_count": 1,
   "metadata": {
    "collapsed": false,
    "slideshow": {
     "slide_type": "fragment"
    }
   },
   "outputs": [
    {
     "data": {
      "text/html": [
       "<div>\n",
       "<table border=\"1\" class=\"dataframe\">\n",
       "  <thead>\n",
       "    <tr style=\"text-align: right;\">\n",
       "      <th></th>\n",
       "      <th>Product</th>\n",
       "      <th>Sales</th>\n",
       "      <th>Cost Per Unit</th>\n",
       "      <th>Easter Included</th>\n",
       "      <th>Super Bowl Included</th>\n",
       "      <th>Christmas Included</th>\n",
       "      <th>Other Holiday</th>\n",
       "      <th>4 Wk Avg Temp</th>\n",
       "      <th>4 Wk Avg Humidity</th>\n",
       "      <th>Sales M-1 weeks</th>\n",
       "      <th>Sales M-2 weeks</th>\n",
       "      <th>Sales M-3 weeks</th>\n",
       "      <th>Sales M-4 Weeks</th>\n",
       "      <th>Sales M-5 weeks</th>\n",
       "    </tr>\n",
       "  </thead>\n",
       "  <tbody>\n",
       "    <tr>\n",
       "      <th>0</th>\n",
       "      <td>11 Down</td>\n",
       "      <td>51.9</td>\n",
       "      <td>1.6625</td>\n",
       "      <td>No</td>\n",
       "      <td>No</td>\n",
       "      <td>Yes</td>\n",
       "      <td>No</td>\n",
       "      <td>80.69</td>\n",
       "      <td>69.19</td>\n",
       "      <td>17.0</td>\n",
       "      <td>22.4</td>\n",
       "      <td>13.5</td>\n",
       "      <td>14.5</td>\n",
       "      <td>28.0</td>\n",
       "    </tr>\n",
       "    <tr>\n",
       "      <th>1</th>\n",
       "      <td>Alpine Stream</td>\n",
       "      <td>55.8</td>\n",
       "      <td>2.2725</td>\n",
       "      <td>No</td>\n",
       "      <td>No</td>\n",
       "      <td>Yes</td>\n",
       "      <td>No</td>\n",
       "      <td>80.69</td>\n",
       "      <td>69.19</td>\n",
       "      <td>2.4</td>\n",
       "      <td>2.2</td>\n",
       "      <td>2.0</td>\n",
       "      <td>1.4</td>\n",
       "      <td>0.5</td>\n",
       "    </tr>\n",
       "    <tr>\n",
       "      <th>2</th>\n",
       "      <td>Bright</td>\n",
       "      <td>3385.6</td>\n",
       "      <td>1.3475</td>\n",
       "      <td>No</td>\n",
       "      <td>No</td>\n",
       "      <td>Yes</td>\n",
       "      <td>No</td>\n",
       "      <td>80.69</td>\n",
       "      <td>69.19</td>\n",
       "      <td>301.8</td>\n",
       "      <td>188.8</td>\n",
       "      <td>101.4</td>\n",
       "      <td>81.6</td>\n",
       "      <td>213.8</td>\n",
       "    </tr>\n",
       "    <tr>\n",
       "      <th>3</th>\n",
       "      <td>Crisp Clear</td>\n",
       "      <td>63.5</td>\n",
       "      <td>1.6600</td>\n",
       "      <td>No</td>\n",
       "      <td>No</td>\n",
       "      <td>Yes</td>\n",
       "      <td>No</td>\n",
       "      <td>80.69</td>\n",
       "      <td>69.19</td>\n",
       "      <td>73.8</td>\n",
       "      <td>69.4</td>\n",
       "      <td>72.8</td>\n",
       "      <td>75.4</td>\n",
       "      <td>57.4</td>\n",
       "    </tr>\n",
       "    <tr>\n",
       "      <th>4</th>\n",
       "      <td>Popsi Kola</td>\n",
       "      <td>181.1</td>\n",
       "      <td>1.8725</td>\n",
       "      <td>No</td>\n",
       "      <td>No</td>\n",
       "      <td>Yes</td>\n",
       "      <td>No</td>\n",
       "      <td>80.69</td>\n",
       "      <td>69.19</td>\n",
       "      <td>23.1</td>\n",
       "      <td>22.6</td>\n",
       "      <td>22.1</td>\n",
       "      <td>19.9</td>\n",
       "      <td>23.2</td>\n",
       "    </tr>\n",
       "  </tbody>\n",
       "</table>\n",
       "</div>"
      ],
      "text/plain": [
       "         Product   Sales  Cost Per Unit Easter Included Super Bowl Included  \\\n",
       "0        11 Down    51.9         1.6625              No                  No   \n",
       "1  Alpine Stream    55.8         2.2725              No                  No   \n",
       "2         Bright  3385.6         1.3475              No                  No   \n",
       "3    Crisp Clear    63.5         1.6600              No                  No   \n",
       "4     Popsi Kola   181.1         1.8725              No                  No   \n",
       "\n",
       "  Christmas Included Other Holiday  4 Wk Avg Temp  4 Wk Avg Humidity  \\\n",
       "0                Yes            No          80.69              69.19   \n",
       "1                Yes            No          80.69              69.19   \n",
       "2                Yes            No          80.69              69.19   \n",
       "3                Yes            No          80.69              69.19   \n",
       "4                Yes            No          80.69              69.19   \n",
       "\n",
       "   Sales M-1 weeks  Sales M-2 weeks  Sales M-3 weeks  Sales M-4 Weeks  \\\n",
       "0             17.0             22.4             13.5             14.5   \n",
       "1              2.4              2.2              2.0              1.4   \n",
       "2            301.8            188.8            101.4             81.6   \n",
       "3             73.8             69.4             72.8             75.4   \n",
       "4             23.1             22.6             22.1             19.9   \n",
       "\n",
       "   Sales M-5 weeks  \n",
       "0             28.0  \n",
       "1              0.5  \n",
       "2            213.8  \n",
       "3             57.4  \n",
       "4             23.2  "
      ]
     },
     "execution_count": 1,
     "metadata": {},
     "output_type": "execute_result"
    }
   ],
   "source": [
    "import pandas\n",
    "df_hist = pandas.read_excel(\"soda_sales_historical_data.xlsx\")\n",
    "df_hist[:5]"
   ]
  },
  {
   "cell_type": "code",
   "execution_count": 2,
   "metadata": {
    "collapsed": false,
    "slideshow": {
     "slide_type": "fragment"
    }
   },
   "outputs": [
    {
     "data": {
      "text/plain": [
       "(596, 14)"
      ]
     },
     "execution_count": 2,
     "metadata": {},
     "output_type": "execute_result"
    }
   ],
   "source": [
    "df_hist.shape"
   ]
  },
  {
   "cell_type": "markdown",
   "metadata": {
    "slideshow": {
     "slide_type": "slide"
    }
   },
   "source": [
    "### Convert categorical columns to numeric"
   ]
  },
  {
   "cell_type": "code",
   "execution_count": 3,
   "metadata": {
    "collapsed": false,
    "slideshow": {
     "slide_type": "fragment"
    }
   },
   "outputs": [
    {
     "data": {
      "text/html": [
       "<div>\n",
       "<table border=\"1\" class=\"dataframe\">\n",
       "  <thead>\n",
       "    <tr style=\"text-align: right;\">\n",
       "      <th></th>\n",
       "      <th>Sales</th>\n",
       "      <th>Cost Per Unit</th>\n",
       "      <th>4 Wk Avg Temp</th>\n",
       "      <th>4 Wk Avg Humidity</th>\n",
       "      <th>Sales M-1 weeks</th>\n",
       "      <th>Sales M-2 weeks</th>\n",
       "      <th>Sales M-3 weeks</th>\n",
       "      <th>Sales M-4 Weeks</th>\n",
       "      <th>Sales M-5 weeks</th>\n",
       "      <th>dmy_Product_11 Down</th>\n",
       "      <th>...</th>\n",
       "      <th>dmy_Product_Koala Kola</th>\n",
       "      <th>dmy_Product_Mr. Popper</th>\n",
       "      <th>dmy_Product_Popsi Kola</th>\n",
       "      <th>dmy_Easter Included_No</th>\n",
       "      <th>dmy_Easter Included_Yes</th>\n",
       "      <th>dmy_Super Bowl Included_No</th>\n",
       "      <th>dmy_Super Bowl Included_Yes</th>\n",
       "      <th>dmy_Christmas Included_No</th>\n",
       "      <th>dmy_Christmas Included_Yes</th>\n",
       "      <th>dmy_Other Holiday_No</th>\n",
       "    </tr>\n",
       "  </thead>\n",
       "  <tbody>\n",
       "    <tr>\n",
       "      <th>0</th>\n",
       "      <td>51.9</td>\n",
       "      <td>1.6625</td>\n",
       "      <td>80.69</td>\n",
       "      <td>69.19</td>\n",
       "      <td>17.0</td>\n",
       "      <td>22.4</td>\n",
       "      <td>13.5</td>\n",
       "      <td>14.5</td>\n",
       "      <td>28.0</td>\n",
       "      <td>1</td>\n",
       "      <td>...</td>\n",
       "      <td>0</td>\n",
       "      <td>0</td>\n",
       "      <td>0</td>\n",
       "      <td>1</td>\n",
       "      <td>0</td>\n",
       "      <td>1</td>\n",
       "      <td>0</td>\n",
       "      <td>0</td>\n",
       "      <td>1</td>\n",
       "      <td>1</td>\n",
       "    </tr>\n",
       "    <tr>\n",
       "      <th>1</th>\n",
       "      <td>55.8</td>\n",
       "      <td>2.2725</td>\n",
       "      <td>80.69</td>\n",
       "      <td>69.19</td>\n",
       "      <td>2.4</td>\n",
       "      <td>2.2</td>\n",
       "      <td>2.0</td>\n",
       "      <td>1.4</td>\n",
       "      <td>0.5</td>\n",
       "      <td>0</td>\n",
       "      <td>...</td>\n",
       "      <td>0</td>\n",
       "      <td>0</td>\n",
       "      <td>0</td>\n",
       "      <td>1</td>\n",
       "      <td>0</td>\n",
       "      <td>1</td>\n",
       "      <td>0</td>\n",
       "      <td>0</td>\n",
       "      <td>1</td>\n",
       "      <td>1</td>\n",
       "    </tr>\n",
       "    <tr>\n",
       "      <th>2</th>\n",
       "      <td>3385.6</td>\n",
       "      <td>1.3475</td>\n",
       "      <td>80.69</td>\n",
       "      <td>69.19</td>\n",
       "      <td>301.8</td>\n",
       "      <td>188.8</td>\n",
       "      <td>101.4</td>\n",
       "      <td>81.6</td>\n",
       "      <td>213.8</td>\n",
       "      <td>0</td>\n",
       "      <td>...</td>\n",
       "      <td>0</td>\n",
       "      <td>0</td>\n",
       "      <td>0</td>\n",
       "      <td>1</td>\n",
       "      <td>0</td>\n",
       "      <td>1</td>\n",
       "      <td>0</td>\n",
       "      <td>0</td>\n",
       "      <td>1</td>\n",
       "      <td>1</td>\n",
       "    </tr>\n",
       "    <tr>\n",
       "      <th>3</th>\n",
       "      <td>63.5</td>\n",
       "      <td>1.6600</td>\n",
       "      <td>80.69</td>\n",
       "      <td>69.19</td>\n",
       "      <td>73.8</td>\n",
       "      <td>69.4</td>\n",
       "      <td>72.8</td>\n",
       "      <td>75.4</td>\n",
       "      <td>57.4</td>\n",
       "      <td>0</td>\n",
       "      <td>...</td>\n",
       "      <td>0</td>\n",
       "      <td>0</td>\n",
       "      <td>0</td>\n",
       "      <td>1</td>\n",
       "      <td>0</td>\n",
       "      <td>1</td>\n",
       "      <td>0</td>\n",
       "      <td>0</td>\n",
       "      <td>1</td>\n",
       "      <td>1</td>\n",
       "    </tr>\n",
       "    <tr>\n",
       "      <th>4</th>\n",
       "      <td>181.1</td>\n",
       "      <td>1.8725</td>\n",
       "      <td>80.69</td>\n",
       "      <td>69.19</td>\n",
       "      <td>23.1</td>\n",
       "      <td>22.6</td>\n",
       "      <td>22.1</td>\n",
       "      <td>19.9</td>\n",
       "      <td>23.2</td>\n",
       "      <td>0</td>\n",
       "      <td>...</td>\n",
       "      <td>0</td>\n",
       "      <td>0</td>\n",
       "      <td>1</td>\n",
       "      <td>1</td>\n",
       "      <td>0</td>\n",
       "      <td>1</td>\n",
       "      <td>0</td>\n",
       "      <td>0</td>\n",
       "      <td>1</td>\n",
       "      <td>1</td>\n",
       "    </tr>\n",
       "  </tbody>\n",
       "</table>\n",
       "<p>5 rows × 25 columns</p>\n",
       "</div>"
      ],
      "text/plain": [
       "    Sales  Cost Per Unit  4 Wk Avg Temp  4 Wk Avg Humidity  Sales M-1 weeks  \\\n",
       "0    51.9         1.6625          80.69              69.19             17.0   \n",
       "1    55.8         2.2725          80.69              69.19              2.4   \n",
       "2  3385.6         1.3475          80.69              69.19            301.8   \n",
       "3    63.5         1.6600          80.69              69.19             73.8   \n",
       "4   181.1         1.8725          80.69              69.19             23.1   \n",
       "\n",
       "   Sales M-2 weeks  Sales M-3 weeks  Sales M-4 Weeks  Sales M-5 weeks  \\\n",
       "0             22.4             13.5             14.5             28.0   \n",
       "1              2.2              2.0              1.4              0.5   \n",
       "2            188.8            101.4             81.6            213.8   \n",
       "3             69.4             72.8             75.4             57.4   \n",
       "4             22.6             22.1             19.9             23.2   \n",
       "\n",
       "   dmy_Product_11 Down          ...           dmy_Product_Koala Kola  \\\n",
       "0                    1          ...                                0   \n",
       "1                    0          ...                                0   \n",
       "2                    0          ...                                0   \n",
       "3                    0          ...                                0   \n",
       "4                    0          ...                                0   \n",
       "\n",
       "   dmy_Product_Mr. Popper  dmy_Product_Popsi Kola  dmy_Easter Included_No  \\\n",
       "0                       0                       0                       1   \n",
       "1                       0                       0                       1   \n",
       "2                       0                       0                       1   \n",
       "3                       0                       0                       1   \n",
       "4                       0                       1                       1   \n",
       "\n",
       "   dmy_Easter Included_Yes  dmy_Super Bowl Included_No  \\\n",
       "0                        0                           1   \n",
       "1                        0                           1   \n",
       "2                        0                           1   \n",
       "3                        0                           1   \n",
       "4                        0                           1   \n",
       "\n",
       "   dmy_Super Bowl Included_Yes  dmy_Christmas Included_No  \\\n",
       "0                            0                          0   \n",
       "1                            0                          0   \n",
       "2                            0                          0   \n",
       "3                            0                          0   \n",
       "4                            0                          0   \n",
       "\n",
       "   dmy_Christmas Included_Yes  dmy_Other Holiday_No  \n",
       "0                           1                     1  \n",
       "1                           1                     1  \n",
       "2                           1                     1  \n",
       "3                           1                     1  \n",
       "4                           1                     1  \n",
       "\n",
       "[5 rows x 25 columns]"
      ]
     },
     "execution_count": 3,
     "metadata": {},
     "output_type": "execute_result"
    }
   ],
   "source": [
    "from pandas import DataFrame, get_dummies\n",
    "categorical_columns = ['Product','Easter Included','Super Bowl Included', 'Christmas Included',\n",
    "                       'Other Holiday']\n",
    "df_hist = get_dummies(df_hist, prefix={k:\"dmy_%s\"%k for k in categorical_columns},\n",
    "                      columns = list(categorical_columns))\n",
    "df_hist[:5]"
   ]
  },
  {
   "cell_type": "markdown",
   "metadata": {
    "slideshow": {
     "slide_type": "slide"
    }
   },
   "source": [
    "### Picking the right predictor algorithm is of upmost importance.\n",
    "\n",
    "Hence we examine our choices here in great deal."
   ]
  },
  {
   "cell_type": "code",
   "execution_count": 4,
   "metadata": {
    "collapsed": false,
    "slideshow": {
     "slide_type": "fragment"
    }
   },
   "outputs": [],
   "source": [
    "from sklearn.tree import DecisionTreeRegressor\n",
    "from sklearn.ensemble import RandomForestRegressor\n",
    "from sklearn.linear_model import LinearRegression\n",
    "from sklearn.ensemble import BaggingRegressor\n",
    "from sklearn import model_selection\n",
    "experiments = {\"Algorithm\":[\"Ordinary Least Squares\", \"Regression Tree\", \n",
    "                            \"Big Random Forest\", \"Random Forest\", \n",
    "                            \"Bagging\"], \n",
    "               \"Objects\" : [lambda : LinearRegression(), \n",
    "                            lambda : DecisionTreeRegressor(), \n",
    "                            lambda : RandomForestRegressor(n_estimators=100), \n",
    "                            lambda : RandomForestRegressor(), \n",
    "                            lambda : BaggingRegressor()], \n",
    "               \"Predictions\":[[] for _ in range(5)]}\n",
    "actuals = []"
   ]
  },
  {
   "cell_type": "markdown",
   "metadata": {
    "slideshow": {
     "slide_type": "slide"
    }
   },
   "source": [
    "### Resist the temptation to overfit!\n",
    "Instead, split the samples into train, test subsections."
   ]
  },
  {
   "cell_type": "code",
   "execution_count": 5,
   "metadata": {
    "collapsed": false,
    "slideshow": {
     "slide_type": "fragment"
    }
   },
   "outputs": [
    {
     "data": {
      "text/plain": [
       "[(447, 24), (149, 24), (447,), (149,)]"
      ]
     },
     "execution_count": 5,
     "metadata": {},
     "output_type": "execute_result"
    }
   ],
   "source": [
    "from sklearn.model_selection import train_test_split\n",
    "[_.shape for _ in  train_test_split(df_hist.drop(\"Sales\", axis=1), \n",
    "                                    df_hist[\"Sales\"], test_size=0.25)]"
   ]
  },
  {
   "cell_type": "markdown",
   "metadata": {
    "slideshow": {
     "slide_type": "slide"
    }
   },
   "source": [
    "### By repeatedly splitting, training, and testing, you can create a realistic simulation of prediction accuracy."
   ]
  },
  {
   "cell_type": "code",
   "execution_count": 6,
   "metadata": {
    "collapsed": false,
    "slideshow": {
     "slide_type": "fragment"
    }
   },
   "outputs": [],
   "source": [
    "for _ in range (4):\n",
    "    train_X, test_X, train_y, test_y = (\n",
    "        train_test_split(df_hist.drop(\"Sales\", axis=1), \n",
    "                         df_hist[\"Sales\"], test_size=0.25))\n",
    "    for i, obj_factory in enumerate(experiments[\"Objects\"]):\n",
    "        obj = obj_factory()\n",
    "        obj.fit(y=train_y,X=train_X)\n",
    "        experiments[\"Predictions\"][i] += list(obj.predict(test_X))\n",
    "    actuals += list(test_y)\n",
    "actuals = pandas.Series(actuals)\n",
    "experiments[\"Predictions\"] = list(map(pandas.Series, experiments[\"Predictions\"]))"
   ]
  },
  {
   "cell_type": "code",
   "execution_count": 7,
   "metadata": {
    "collapsed": false,
    "slideshow": {
     "slide_type": "fragment"
    }
   },
   "outputs": [
    {
     "data": {
      "text/plain": [
       "(596, [596, 596, 596, 596, 596])"
      ]
     },
     "execution_count": 7,
     "metadata": {},
     "output_type": "execute_result"
    }
   ],
   "source": [
    "len(actuals), map(len, experiments[\"Predictions\"])"
   ]
  },
  {
   "cell_type": "markdown",
   "metadata": {
    "slideshow": {
     "slide_type": "slide"
    }
   },
   "source": [
    "### Now lets visualize our results"
   ]
  },
  {
   "cell_type": "code",
   "execution_count": 8,
   "metadata": {
    "collapsed": false,
    "slideshow": {
     "slide_type": "fragment"
    }
   },
   "outputs": [
    {
     "data": {
      "image/png": "[encoded data removed]",
      "text/plain": [
       "<matplotlib.figure.Figure at 0x11829bc10>"
      ]
     },
     "metadata": {},
     "output_type": "display_data"
    }
   ],
   "source": [
    "%matplotlib inline \n",
    "import numpy as np\n",
    "import matplotlib.pyplot as plt\n",
    "from matplotlib.pyplot import cm\n",
    "color=iter(cm.rainbow(np.linspace(0,1,len(experiments)+3)))\n",
    "plt.figure(figsize=(12,7),dpi=300)\n",
    "plt.plot(actuals,actuals,c=next(color),markersize=2,label='Data')\n",
    "for _, row in DataFrame(experiments).iterrows():\n",
    "    plt.plot(actuals, row[\"Predictions\"],'o',c=next(color),\n",
    "             markersize=2,label=row['Algorithm'])\n",
    "plt.title('Scatter Plot Prediction v/s Data')\n",
    "plt.grid(True)\n",
    "plt.legend()\n",
    "plt.show()"
   ]
  },
  {
   "cell_type": "markdown",
   "metadata": {
    "slideshow": {
     "slide_type": "slide"
    }
   },
   "source": [
    "### More visualizations"
   ]
  },
  {
   "cell_type": "code",
   "execution_count": 9,
   "metadata": {
    "collapsed": false,
    "slideshow": {
     "slide_type": "fragment"
    }
   },
   "outputs": [
    {
     "data": {
      "image/png": "[encoded data removed]",
      "text/plain": [
       "<matplotlib.figure.Figure at 0x1182e0fd0>"
      ]
     },
     "metadata": {},
     "output_type": "display_data"
    }
   ],
   "source": [
    "color=iter(cm.rainbow(np.linspace(0,1,len(experiments)+3)))\n",
    "next(color)\n",
    "plt.figure(figsize=(13,8),dpi=300)\n",
    "for index, row in DataFrame(experiments).iterrows():\n",
    "    relative_error = (row[\"Predictions\"] - actuals) / (1 + abs(actuals))\n",
    "    plt.plot(np.sort(relative_error),'o',c=next(color),\n",
    "             markersize=2,label=row['Algorithm'])\n",
    "plt.title('Relative Error Prediction v/s Data')\n",
    "plt.ylabel('Relative Error')\n",
    "plt.grid(True)\n",
    "plt.legend()\n",
    "plt.axis([0,len(actuals),-1,1])\n",
    "plt.show()"
   ]
  },
  {
   "cell_type": "markdown",
   "metadata": {
    "slideshow": {
     "slide_type": "slide"
    }
   },
   "source": [
    "### Even more visualizations"
   ]
  },
  {
   "cell_type": "code",
   "execution_count": 10,
   "metadata": {
    "collapsed": false,
    "slideshow": {
     "slide_type": "fragment"
    }
   },
   "outputs": [],
   "source": [
    "def boxplot(algorithm):\n",
    "    prediction = (experiments[\"Predictions\"]\n",
    "                  [experiments[\"Algorithm\"].index(algorithm)])\n",
    "    plt.title(algorithm)\n",
    "    plt.boxplot( (prediction - actuals) / (1 + abs(actuals))  )\n",
    "    plt.show()"
   ]
  },
  {
   "cell_type": "code",
   "execution_count": 11,
   "metadata": {
    "collapsed": false,
    "slideshow": {
     "slide_type": "fragment"
    }
   },
   "outputs": [
    {
     "data": {
      "image/png": "[encoded data removed]",
      "text/plain": [
       "<matplotlib.figure.Figure at 0x118381d90>"
      ]
     },
     "metadata": {},
     "output_type": "display_data"
    }
   ],
   "source": [
    "boxplot(\"Bagging\")"
   ]
  },
  {
   "cell_type": "code",
   "execution_count": 12,
   "metadata": {
    "collapsed": false,
    "slideshow": {
     "slide_type": "fragment"
    }
   },
   "outputs": [
    {
     "data": {
      "image/png": "[encoded data removed]",
      "text/plain": [
       "<matplotlib.figure.Figure at 0x1185e8810>"
      ]
     },
     "metadata": {},
     "output_type": "display_data"
    }
   ],
   "source": [
    "boxplot(\"Big Random Forest\")"
   ]
  },
  {
   "cell_type": "markdown",
   "metadata": {
    "slideshow": {
     "slide_type": "slide"
    }
   },
   "source": [
    "### Visualizations only take us so far.\n",
    "\n",
    "Let's use `model_selection.cross_val_score` to automate the process of train/test split based assessment. (K-Fold Cross Validation)\n",
    "\n"
   ]
  },
  {
   "cell_type": "code",
   "execution_count": 13,
   "metadata": {
    "collapsed": false,
    "slideshow": {
     "slide_type": "fragment"
    }
   },
   "outputs": [],
   "source": [
    "experiments[\"Results\"] = []\n",
    "for o in experiments[\"Objects\"]:\n",
    "    experiments[\"Results\"].append(\n",
    "        model_selection.cross_val_score(o(), y=df_hist['Sales'], \n",
    "                                        X=df_hist.drop(\"Sales\", axis=1),\n",
    "                                        cv=5).mean())"
   ]
  },
  {
   "cell_type": "code",
   "execution_count": 14,
   "metadata": {
    "collapsed": false,
    "slideshow": {
     "slide_type": "fragment"
    }
   },
   "outputs": [
    {
     "data": {
      "text/html": [
       "<div>\n",
       "<table border=\"1\" class=\"dataframe\">\n",
       "  <thead>\n",
       "    <tr style=\"text-align: right;\">\n",
       "      <th></th>\n",
       "      <th>Results</th>\n",
       "    </tr>\n",
       "    <tr>\n",
       "      <th>Algorithm</th>\n",
       "      <th></th>\n",
       "    </tr>\n",
       "  </thead>\n",
       "  <tbody>\n",
       "    <tr>\n",
       "      <th>Ordinary Least Squares</th>\n",
       "      <td>0.536984</td>\n",
       "    </tr>\n",
       "    <tr>\n",
       "      <th>Regression Tree</th>\n",
       "      <td>0.731542</td>\n",
       "    </tr>\n",
       "    <tr>\n",
       "      <th>Big Random Forest</th>\n",
       "      <td>0.832870</td>\n",
       "    </tr>\n",
       "    <tr>\n",
       "      <th>Random Forest</th>\n",
       "      <td>0.808198</td>\n",
       "    </tr>\n",
       "    <tr>\n",
       "      <th>Bagging</th>\n",
       "      <td>0.826592</td>\n",
       "    </tr>\n",
       "  </tbody>\n",
       "</table>\n",
       "</div>"
      ],
      "text/plain": [
       "                         Results\n",
       "Algorithm                       \n",
       "Ordinary Least Squares  0.536984\n",
       "Regression Tree         0.731542\n",
       "Big Random Forest       0.832870\n",
       "Random Forest           0.808198\n",
       "Bagging                 0.826592"
      ]
     },
     "execution_count": 14,
     "metadata": {},
     "output_type": "execute_result"
    }
   ],
   "source": [
    "DataFrame(experiments).drop([\"Objects\", \"Predictions\"], axis=1).set_index(\"Algorithm\")"
   ]
  },
  {
   "cell_type": "markdown",
   "metadata": {
    "slideshow": {
     "slide_type": "slide"
    }
   },
   "source": [
    "### Now use the complete historical table to create a predictor object with the best algorithm"
   ]
  },
  {
   "cell_type": "code",
   "execution_count": 15,
   "metadata": {
    "collapsed": false,
    "slideshow": {
     "slide_type": "fragment"
    }
   },
   "outputs": [],
   "source": [
    "fitted = (experiments[\"Objects\"]\n",
    "          [experiments[\"Algorithm\"].index(\"Big Random Forest\")]().\n",
    "          fit(y=df_hist[\"Sales\"], X=df_hist.drop(\"Sales\", axis=1)))"
   ]
  },
  {
   "cell_type": "markdown",
   "metadata": {
    "slideshow": {
     "slide_type": "slide"
    }
   },
   "source": [
    "### We will make predictions for the \"Sales\"-less table of current data."
   ]
  },
  {
   "cell_type": "code",
   "execution_count": 16,
   "metadata": {
    "collapsed": false,
    "slideshow": {
     "slide_type": "fragment"
    }
   },
   "outputs": [
    {
     "data": {
      "text/plain": [
       "36"
      ]
     },
     "execution_count": 16,
     "metadata": {},
     "output_type": "execute_result"
    }
   ],
   "source": [
    "df_superbowl_original = pandas.read_excel(\"super_bowl_promotion_data.xlsx\")\n",
    "df_superbowl = get_dummies(df_superbowl_original, prefix={k:\"dmy_%s\"%k for k in categorical_columns},\n",
    "                      columns = list(categorical_columns))\n",
    "assert \"Sales\" not in df_superbowl.columns \n",
    "assert {\"Sales\"}.union(df_superbowl.columns).issubset(set(df_hist.columns))\n",
    "len(df_superbowl)"
   ]
  },
  {
   "cell_type": "markdown",
   "metadata": {
    "slideshow": {
     "slide_type": "fragment"
    }
   },
   "source": [
    "Note that the current data table might have less categorical range than the historical data. "
   ]
  },
  {
   "cell_type": "code",
   "execution_count": 17,
   "metadata": {
    "collapsed": false,
    "slideshow": {
     "slide_type": "fragment"
    }
   },
   "outputs": [],
   "source": [
    "for fld in set(df_hist.columns).difference(df_superbowl.columns, {\"Sales\"}):\n",
    "    assert fld.startswith(\"dmy_\")\n",
    "    df_superbowl[fld] = 0"
   ]
  },
  {
   "cell_type": "code",
   "execution_count": 18,
   "metadata": {
    "collapsed": true,
    "slideshow": {
     "slide_type": "fragment"
    }
   },
   "outputs": [],
   "source": [
    "predicted = fitted.predict(df_superbowl)"
   ]
  },
  {
   "cell_type": "markdown",
   "metadata": {
    "slideshow": {
     "slide_type": "slide"
    }
   },
   "source": [
    "# Prediction in hand, we commence optimization!"
   ]
  },
  {
   "cell_type": "markdown",
   "metadata": {
    "slideshow": {
     "slide_type": "slide"
    }
   },
   "source": [
    "### LaTeX summary of family of equations"
   ]
  },
  {
   "cell_type": "markdown",
   "metadata": {
    "slideshow": {
     "slide_type": "fragment"
    }
   },
   "source": [
    "$$\n",
    "\\begin{array}{ll}\n",
    "\\max & sales\\\\\n",
    "s.t. & sales = \\sum\\left(f_{b,p} X_{b,p}:{(b,p)\\in Prod}\\right)\\\\\n",
    "     & revenue = \\sum\\left(f_{b,p}  p X_{b,p}:{(b,p)\\in Prod} \\right)\\\\\n",
    "     & investment = \\sum\\left(\\left(f_{b,p} - f_{b,p_o}\\right)_+ p_o X_{b,p}:{(b,p)\\in Prod} \\right)\\\\\n",
    "     & \\sum\\left(X_{b,p}:{(b,p)\\in Prod} \\right)=1\\quad\\forall b\\in Soda\\\\\n",
    "     & \\sum\\left(X_{b,p}:{(b,p)\\in Prod, p\\neq p_o, T(b)=t} \\right) \\leq max_t\\quad\\forall t\\\\\n",
    "     & investment <= max_{investment}\\\\\n",
    "     & X_{b,p}\\in\\{0,1\\}\\quad\\forall (b,p)\\in Prod\n",
    "\\end{array}\n",
    "$$"
   ]
  },
  {
   "cell_type": "markdown",
   "metadata": {
    "slideshow": {
     "slide_type": "slide"
    }
   },
   "source": [
    "### Putting the optimization input set together."
   ]
  },
  {
   "cell_type": "code",
   "execution_count": 19,
   "metadata": {
    "collapsed": true,
    "slideshow": {
     "slide_type": "fragment"
    }
   },
   "outputs": [],
   "source": [
    "forecast_sales = df_superbowl_original[[\"Product\", \"Cost Per Unit\"]].copy()\n",
    "forecast_sales[\"Sales\"] = predicted\n",
    "forecast_sales.set_index(['Product','Cost Per Unit'], inplace=True)"
   ]
  },
  {
   "cell_type": "code",
   "execution_count": 20,
   "metadata": {
    "collapsed": true,
    "slideshow": {
     "slide_type": "fragment"
    }
   },
   "outputs": [],
   "source": [
    "soda_family = {'11 Down': 'Clear', 'AB Root Beer': 'Dark', \n",
    "               'Alpine Stream': 'Clear', 'Bright': 'Clear', \n",
    "               'Crisp Clear': 'Clear', 'DC Kola': 'Dark',\n",
    "               'Koala Kola': 'Dark', 'Mr. Popper': 'Dark', \n",
    "               'Popsi Kola': 'Dark'}\n",
    "family  = set(soda_family[j] for j in soda_family)\n",
    "soda    = set(j for j in soda_family)\n",
    "max_prom = {f:2 for f in family}\n",
    "max_investment = 750"
   ]
  },
  {
   "cell_type": "code",
   "execution_count": 21,
   "metadata": {
    "collapsed": false,
    "slideshow": {
     "slide_type": "fragment"
    }
   },
   "outputs": [],
   "source": [
    "product_prices = set(forecast_sales.index.values)\n",
    "normal_price = {b:0 for b in soda}\n",
    "for b,p in product_prices:\n",
    "    normal_price[b] = max(normal_price[b],p)"
   ]
  },
  {
   "cell_type": "markdown",
   "metadata": {
    "slideshow": {
     "slide_type": "fragment"
    }
   },
   "source": [
    "Note that not all estimated discounts yield a boost in sales"
   ]
  },
  {
   "cell_type": "code",
   "execution_count": 22,
   "metadata": {
    "collapsed": false,
    "slideshow": {
     "slide_type": "fragment"
    }
   },
   "outputs": [
    {
     "data": {
      "text/plain": [
       "(20, 27)"
      ]
     },
     "execution_count": 22,
     "metadata": {},
     "output_type": "execute_result"
    }
   ],
   "source": [
    "meaningful_discounts = 0\n",
    "for b,p in product_prices:\n",
    "    if forecast_sales.Sales[b,p] > forecast_sales.Sales[b,normal_price[b]]:\n",
    "        meaningful_discounts += 1\n",
    "meaningful_discounts, len(forecast_sales) - len(soda)"
   ]
  },
  {
   "cell_type": "markdown",
   "metadata": {
    "slideshow": {
     "slide_type": "slide"
    }
   },
   "source": [
    "### Building a MIP model"
   ]
  },
  {
   "cell_type": "code",
   "execution_count": 23,
   "metadata": {
    "collapsed": false,
    "slideshow": {
     "slide_type": "fragment"
    }
   },
   "outputs": [],
   "source": [
    "import gurobipy as gu\n",
    "model = gu.Model()\n",
    "select_price = model.addVars(product_prices,vtype=gu.GRB.BINARY,name='X')\n",
    "sales = model.addVar(name='sales')\n",
    "revenue = model.addVar(name='revenue')\n",
    "investment = model.addVar(ub=max_investment, name='investment')\n",
    "gusum = gu.quicksum"
   ]
  },
  {
   "cell_type": "code",
   "execution_count": 24,
   "metadata": {
    "collapsed": false,
    "slideshow": {
     "slide_type": "fragment"
    }
   },
   "outputs": [],
   "source": [
    "model.addConstr(sales == select_price.prod(forecast_sales.Sales), name='sales')\n",
    "model.addConstr(revenue == gusum(forecast_sales.Sales[b,p] * p * \n",
    "                                 select_price[b,p] for b,p in product_prices), \n",
    "                name='revenue')\n",
    "model.addConstr(investment == \n",
    "                gusum(max(0,forecast_sales.Sales[b,p] - \n",
    "                            forecast_sales.Sales[b,normal_price[b]]) *\n",
    "                        normal_price[b] * select_price[b,p] \n",
    "                        for b,p in product_prices),\n",
    "                name='investment')\n",
    "model.update()"
   ]
  },
  {
   "cell_type": "code",
   "execution_count": 25,
   "metadata": {
    "collapsed": false,
    "slideshow": {
     "slide_type": "fragment"
    }
   },
   "outputs": [],
   "source": [
    "model.addConstrs((select_price.sum(b,'*') == 1 for b in soda), name='OnePrice')\n",
    "model.addConstrs((gusum(select_price[b,p] for b,p in product_prices if \n",
    "                        soda_family[b] == f and p != normal_price[b] ) \n",
    "                  <= max_prom[f] for f in family),\n",
    "                 name='MaxProm')\n",
    "model.update()"
   ]
  },
  {
   "cell_type": "markdown",
   "metadata": {
    "slideshow": {
     "slide_type": "slide"
    }
   },
   "source": [
    "### Optimize and results"
   ]
  },
  {
   "cell_type": "code",
   "execution_count": 26,
   "metadata": {
    "collapsed": false,
    "slideshow": {
     "slide_type": "fragment"
    }
   },
   "outputs": [
    {
     "name": "stdout",
     "output_type": "stream",
     "text": [
      "Optimize a model with 14 rows, 39 columns and 158 nonzeros\n",
      "Variable types: 3 continuous, 36 integer (36 binary)\n",
      "Coefficient statistics:\n",
      "  Matrix range     [1e+00, 5e+03]\n",
      "  Objective range  [1e+00, 1e+00]\n",
      "  Bounds range     [1e+00, 8e+02]\n",
      "  RHS range        [1e+00, 2e+00]\n",
      "Found heuristic solution: objective 5917.64\n",
      "Presolve removed 6 rows and 22 columns\n",
      "Presolve time: 0.00s\n",
      "Presolved: 8 rows, 17 columns, 48 nonzeros\n",
      "Found heuristic solution: objective 6060.3990000\n",
      "Variable types: 0 continuous, 17 integer (17 binary)\n",
      "\n",
      "Root relaxation: objective 6.261068e+03, 8 iterations, 0.00 seconds\n",
      "\n",
      "    Nodes    |    Current Node    |     Objective Bounds      |     Work\n",
      " Expl Unexpl |  Obj  Depth IntInf | Incumbent    BestBd   Gap | It/Node Time\n",
      "\n",
      "     0     0 6261.06786    0    2 6060.39900 6261.06786  3.31%     -    0s\n",
      "H    0     0                    6224.7990000 6261.06786  0.58%     -    0s\n",
      "     0     0 6226.58914    0    2 6224.79900 6226.58914  0.03%     -    0s\n",
      "\n",
      "Explored 0 nodes (13 simplex iterations) in 0.05 seconds\n",
      "Thread count was 4 (of 4 available processors)\n",
      "\n",
      "Solution count 3: 6224.8 6060.4 5917.85 \n",
      "Pool objective bound 6224.8\n",
      "\n",
      "Optimal solution found (tolerance 1.00e-04)\n",
      "Best objective 6.224799000000e+03, best bound 6.224799000000e+03, gap 0.0000%\n"
     ]
    }
   ],
   "source": [
    "model.setObjective(sales, sense=gu.GRB.MAXIMIZE)\n",
    "model.optimize()"
   ]
  },
  {
   "cell_type": "code",
   "execution_count": 27,
   "metadata": {
    "collapsed": false,
    "slideshow": {
     "slide_type": "fragment"
    }
   },
   "outputs": [
    {
     "data": {
      "text/plain": [
       "True"
      ]
     },
     "execution_count": 27,
     "metadata": {},
     "output_type": "execute_result"
    }
   ],
   "source": [
    "model.status == gu.GRB.OPTIMAL"
   ]
  },
  {
   "cell_type": "markdown",
   "metadata": {
    "slideshow": {
     "slide_type": "slide"
    }
   },
   "source": [
    "### Only the paranoid survive\n",
    "Carefully sanity check the solution."
   ]
  },
  {
   "cell_type": "code",
   "execution_count": 28,
   "metadata": {
    "collapsed": false,
    "slideshow": {
     "slide_type": "fragment"
    }
   },
   "outputs": [
    {
     "data": {
      "text/plain": [
       "(6224.798999999998, 11775.370197499997, 742.7304300000001)"
      ]
     },
     "execution_count": 28,
     "metadata": {},
     "output_type": "execute_result"
    }
   ],
   "source": [
    "sales.X, revenue.X, investment.X"
   ]
  },
  {
   "cell_type": "code",
   "execution_count": 29,
   "metadata": {
    "collapsed": false,
    "slideshow": {
     "slide_type": "fragment"
    }
   },
   "outputs": [
    {
     "data": {
      "text/html": [
       "<div>\n",
       "<table border=\"1\" class=\"dataframe\">\n",
       "  <thead>\n",
       "    <tr style=\"text-align: right;\">\n",
       "      <th></th>\n",
       "      <th>Price</th>\n",
       "      <th>Is Discount</th>\n",
       "      <th>Family</th>\n",
       "    </tr>\n",
       "    <tr>\n",
       "      <th>Product</th>\n",
       "      <th></th>\n",
       "      <th></th>\n",
       "      <th></th>\n",
       "    </tr>\n",
       "  </thead>\n",
       "  <tbody>\n",
       "    <tr>\n",
       "      <th>Crisp Clear</th>\n",
       "      <td>1.3125</td>\n",
       "      <td>True</td>\n",
       "      <td>Clear</td>\n",
       "    </tr>\n",
       "    <tr>\n",
       "      <th>Bright</th>\n",
       "      <td>1.2900</td>\n",
       "      <td>False</td>\n",
       "      <td>Clear</td>\n",
       "    </tr>\n",
       "    <tr>\n",
       "      <th>Alpine Stream</th>\n",
       "      <td>2.2275</td>\n",
       "      <td>False</td>\n",
       "      <td>Clear</td>\n",
       "    </tr>\n",
       "    <tr>\n",
       "      <th>11 Down</th>\n",
       "      <td>1.5375</td>\n",
       "      <td>True</td>\n",
       "      <td>Clear</td>\n",
       "    </tr>\n",
       "    <tr>\n",
       "      <th>Mr. Popper</th>\n",
       "      <td>2.8475</td>\n",
       "      <td>True</td>\n",
       "      <td>Dark</td>\n",
       "    </tr>\n",
       "    <tr>\n",
       "      <th>DC Kola</th>\n",
       "      <td>1.8900</td>\n",
       "      <td>True</td>\n",
       "      <td>Dark</td>\n",
       "    </tr>\n",
       "    <tr>\n",
       "      <th>AB Root Beer</th>\n",
       "      <td>3.8425</td>\n",
       "      <td>False</td>\n",
       "      <td>Dark</td>\n",
       "    </tr>\n",
       "    <tr>\n",
       "      <th>Popsi Kola</th>\n",
       "      <td>1.7500</td>\n",
       "      <td>False</td>\n",
       "      <td>Dark</td>\n",
       "    </tr>\n",
       "    <tr>\n",
       "      <th>Koala Kola</th>\n",
       "      <td>2.5650</td>\n",
       "      <td>False</td>\n",
       "      <td>Dark</td>\n",
       "    </tr>\n",
       "  </tbody>\n",
       "</table>\n",
       "</div>"
      ],
      "text/plain": [
       "                Price Is Discount Family\n",
       "Product                                 \n",
       "Crisp Clear    1.3125        True  Clear\n",
       "Bright         1.2900       False  Clear\n",
       "Alpine Stream  2.2275       False  Clear\n",
       "11 Down        1.5375        True  Clear\n",
       "Mr. Popper     2.8475        True   Dark\n",
       "DC Kola        1.8900        True   Dark\n",
       "AB Root Beer   3.8425       False   Dark\n",
       "Popsi Kola     1.7500       False   Dark\n",
       "Koala Kola     2.5650       False   Dark"
      ]
     },
     "execution_count": 29,
     "metadata": {},
     "output_type": "execute_result"
    }
   ],
   "source": [
    "price_selections = {\"Product\":[], \"Price\":[], \"Is Discount\":[], \"Family\":[]}\n",
    "for b, p in product_prices:\n",
    "    if abs(select_price[b,p].X -1) < 0.0001: # i.e. almost one\n",
    "        price_selections[\"Product\"].append(b)\n",
    "        price_selections[\"Price\"].append(p)\n",
    "        price_selections[\"Is Discount\"].append(p < normal_price[b])\n",
    "        price_selections[\"Family\"].append(soda_family[b])\n",
    "(DataFrame(price_selections).set_index(\"Product\")\n",
    " [[\"Price\", \"Is Discount\", \"Family\"]].sort_values(\"Family\"))"
   ]
  },
  {
   "cell_type": "markdown",
   "metadata": {
    "slideshow": {
     "slide_type": "slide"
    }
   },
   "source": [
    "### Create a range of predictions to simulate the behavior of our solution under a range of conditions"
   ]
  },
  {
   "cell_type": "code",
   "execution_count": 36,
   "metadata": {
    "collapsed": false,
    "slideshow": {
     "slide_type": "fragment"
    }
   },
   "outputs": [],
   "source": [
    "simulated_KPI = {'Sales':[],'Revenue':[],'Investment':[]}\n",
    "Z = select_price\n",
    "for i in range(100):\n",
    "    np.random.seed(i)\n",
    "    fitted = RandomForestRegressor(n_estimators=100,\n",
    "                                   n_jobs=4).fit(y=df_hist[\"Sales\"],\n",
    "                                                 X=df_hist.drop(\"Sales\", axis=1))\n",
    "    forecast = df_superbowl_original[['Product', 'Cost Per Unit']].copy()\n",
    "    forecast[\"Sales\"] = fitted.predict(df_superbowl)\n",
    "    forecast = forecast.set_index(['Product','Cost Per Unit'])\n",
    "    sales, revenue, investment = 0, 0, 0\n",
    "    for b,p in product_prices:\n",
    "        sales   += forecast.Sales[b,p] * Z[b,p].X\n",
    "        revenue += forecast.Sales[b,p] * p * Z[b,p].X\n",
    "        investment += max(0,forecast.Sales[b,p] - forecast.Sales[b,normal_price[b]]) * normal_price[b] * Z[b,p].X\n",
    "    simulated_KPI['Sales'].append(sales)\n",
    "    simulated_KPI['Revenue'].append(revenue)\n",
    "    simulated_KPI['Investment'].append(investment)"
   ]
  },
  {
   "cell_type": "code",
   "execution_count": 37,
   "metadata": {
    "collapsed": false,
    "slideshow": {
     "slide_type": "slide"
    }
   },
   "outputs": [
    {
     "data": {
      "image/png": "[encoded data removed]",
      "text/plain": [
       "<matplotlib.figure.Figure at 0x119ef2710>"
      ]
     },
     "metadata": {},
     "output_type": "display_data"
    },
    {
     "data": {
      "image/png": "[encoded data removed]",
      "text/plain": [
       "<matplotlib.figure.Figure at 0x11aac2a90>"
      ]
     },
     "metadata": {},
     "output_type": "display_data"
    },
    {
     "data": {
      "image/png": "[encoded data removed]",
      "text/plain": [
       "<matplotlib.figure.Figure at 0x118c99fd0>"
      ]
     },
     "metadata": {},
     "output_type": "display_data"
    }
   ],
   "source": [
    "data = {'Sales','Revenue','Investment'}\n",
    "color=iter(cm.rainbow(np.linspace(0,1,3)))\n",
    "for t in data:\n",
    "    plt.figure(figsize=(7,4),dpi=300)\n",
    "    plt.hist(simulated_KPI[t],50,normed=1,color=next(color), alpha=0.75)\n",
    "    plt.ylabel('Probability')\n",
    "    plt.xlabel(t)\n",
    "    plt.grid(True)\n",
    "    plt.show()"
   ]
  },
  {
   "cell_type": "code",
   "execution_count": null,
   "metadata": {
    "collapsed": true
   },
   "outputs": [],
   "source": []
  }
 ],
 "metadata": {
  "celltoolbar": "Slideshow",
  "kernelspec": {
   "display_name": "Python 2",
   "language": "python",
   "name": "python2"
  },
  "language_info": {
   "codemirror_mode": {
    "name": "ipython",
    "version": 2
   },
   "file_extension": ".py",
   "mimetype": "text/x-python",
   "name": "python",
   "nbconvert_exporter": "python",
   "pygments_lexer": "ipython2",
   "version": "2.7.11"
  }
 },
 "nbformat": 4,
 "nbformat_minor": 0
}
