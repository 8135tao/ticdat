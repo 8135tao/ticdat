{
 "cells": [
  {
   "cell_type": "markdown",
   "metadata": {},
   "source": [
    "## Reproducing an amplpy ticdat issue without ticdat\n",
    "This might be something you need to do to demo a specific `amplpy` issue, so here is a demo notebook about how to do that."
   ]
  },
  {
   "cell_type": "markdown",
   "metadata": {},
   "source": [
    "*NB you will might need some sort of* `%env PATH =` *statement here to get insure the AMPL engine can be found*"
   ]
  },
  {
   "cell_type": "code",
   "execution_count": 2,
   "metadata": {
    "collapsed": false
   },
   "outputs": [
    {
     "name": "stderr",
     "output_type": "stream",
     "text": [
      "/Users/petercacioppi/anaconda/lib/python2.7/site-packages/numexpr/cpuinfo.py:53: UserWarning: [Errno 2] No such file or directory\n",
      "  stacklevel=stacklevel + 1)\n",
      "/Users/petercacioppi/anaconda/lib/python2.7/site-packages/numexpr/cpuinfo.py:76: UserWarning: [Errno 2] No such file or directory\n",
      "  stacklevel=stacklevel + 1):\n"
     ]
    }
   ],
   "source": [
    "from amplpy import AMPL\n",
    "import amplpy\n",
    "from pandas import DataFrame"
   ]
  },
  {
   "cell_type": "markdown",
   "metadata": {},
   "source": [
    "FYI - `ticdat.testing.testampl.convert_to_dicts_that_can_be_turned_into_DataFrames` makes it easy to create \n",
    "the hardcoded `dict` objects that are then used to create the `DataFrame` objects below."
   ]
  },
  {
   "cell_type": "code",
   "execution_count": 3,
   "metadata": {
    "collapsed": false
   },
   "outputs": [],
   "source": [
    "categories = DataFrame({'Name': {0: u'calories',\n",
    "   1: u'fat',\n",
    "   2: u'protein',\n",
    "   3: u'sodium'},\n",
    "  'n_max': {0: 2200.0, 1: 65.0, 2: float('inf'), 3: 1779.0},\n",
    "  'n_min': {0: 1800, 1: 0, 2: 91, 3: 0}})"
   ]
  },
  {
   "cell_type": "code",
   "execution_count": 4,
   "metadata": {
    "collapsed": true
   },
   "outputs": [],
   "source": [
    "foods = DataFrame({'Name': {0: u'chicken',\n",
    "   1: u'fries',\n",
    "   2: u'hamburger',\n",
    "   3: u'hot dog',\n",
    "   4: u'ice cream',\n",
    "   5: u'macaroni',\n",
    "   6: u'milk',\n",
    "   7: u'pizza',\n",
    "   8: u'salad'},\n",
    "  'cost': {0: 2.8900000000000001,\n",
    "   1: 1.8899999999999999,\n",
    "   2: 2.4900000000000002,\n",
    "   3: 1.5,\n",
    "   4: 1.5900000000000001,\n",
    "   5: 2.0899999999999999,\n",
    "   6: 0.89000000000000001,\n",
    "   7: 1.99,\n",
    "   8: 2.4900000000000002}})"
   ]
  },
  {
   "cell_type": "code",
   "execution_count": 5,
   "metadata": {
    "collapsed": true
   },
   "outputs": [],
   "source": [
    "nutrition_quantities = DataFrame({'Category': {0: u'calories', 1: u'fat', 2: u'protein', 3: u'sodium',\n",
    "   4: u'calories', 5: u'fat', 6: u'protein', 7: u'sodium', 8: u'calories', 9: u'fat', 10: u'protein',\n",
    "   11: u'sodium', 12: u'calories', 13: u'fat', 14: u'protein', 15: u'sodium', 16: u'calories', 17: u'fat',\n",
    "   18: u'protein', 19: u'sodium', 20: u'calories', 21: u'fat', 22: u'protein', 23: u'sodium', 24: u'calories',\n",
    "   25: u'fat', 26: u'protein', 27: u'sodium', 28: u'calories', 29: u'fat', 30: u'protein', 31: u'sodium',\n",
    "   32: u'calories', 33: u'fat', 34: u'protein', 35: u'sodium'},\n",
    "  'Food': {0: u'chicken', 1: u'chicken', 2: u'chicken', 3: u'chicken', 4: u'fries', 5: u'fries', 6: u'fries',\n",
    "   7: u'fries', 8: u'hamburger', 9: u'hamburger', 10: u'hamburger', 11: u'hamburger', 12: u'hot dog',\n",
    "   13: u'hot dog', 14: u'hot dog', 15: u'hot dog', 16: u'ice cream', 17: u'ice cream', 18: u'ice cream',\n",
    "   19: u'ice cream', 20: u'macaroni', 21: u'macaroni', 22: u'macaroni', 23: u'macaroni', 24: u'milk', 25: u'milk',\n",
    "   26: u'milk', 27: u'milk', 28: u'pizza', 29: u'pizza', 30: u'pizza', 31: u'pizza', 32: u'salad', 33: u'salad',\n",
    "   34: u'salad', 35: u'salad'},\n",
    "  'amt': {0: 420.0, 1: 10.0, 2: 32.0, 3: 1190.0, 4: 380.0, 5: 19.0, 6: 4.0, 7: 270.0, 8: 410.0, 9: 26.0,\n",
    "   10: 24.0, 11: 730.0, 12: 560.0, 13: 32.0, 14: 20.0, 15: 1800.0, 16: 330.0, 17: 10.0, 18: 8.0, 19: 180.0,\n",
    "   20: 320.0, 21: 10.0, 22: 12.0, 23: 930.0, 24: 100.0, 25: 2.5, 26: 8.0, 27: 125.0, 28: 320.0, 29: 12.0,\n",
    "   30: 15.0, 31: 820.0, 32: 320.0, 33: 12.0, 34: 31.0, 35: 1230.0}})"
   ]
  },
  {
   "cell_type": "code",
   "execution_count": 6,
   "metadata": {
    "collapsed": true
   },
   "outputs": [],
   "source": [
    "mod_str = \"\"\"\n",
    "    set CAT;\n",
    "    set FOOD;\n",
    "    param cost {FOOD} > 0;\n",
    "    param n_min {CAT} >= 0;\n",
    "    param n_max {i in CAT} >= n_min[i];\n",
    "    param amt {FOOD, CAT} >= 0;\n",
    "    var Buy {j in FOOD} >= 0;\n",
    "    var Consume {i in CAT } >= n_min [i], <= n_max [i];\n",
    "    minimize Total_Cost:  sum {j in FOOD} cost[j] * Buy[j];\n",
    "    subject to Diet {i in CAT}:\n",
    "       Consume[i] =  sum {j in FOOD} amt[j,i] * Buy[j];\n",
    "    \"\"\""
   ]
  },
  {
   "cell_type": "code",
   "execution_count": 7,
   "metadata": {
    "collapsed": true
   },
   "outputs": [],
   "source": [
    "ampl = AMPL()\n",
    "ampl.setOption('solver', 'gurobi')\n",
    "ampl.eval(mod_str)"
   ]
  },
  {
   "cell_type": "code",
   "execution_count": 8,
   "metadata": {
    "collapsed": true
   },
   "outputs": [],
   "source": [
    "def df_to_ampl_df(df, pkfields):\n",
    "    assert set(df.columns).issuperset(pkfields)\n",
    "    rtn = amplpy.DataFrame(index=pkfields)\n",
    "    for f in pkfields:\n",
    "        rtn.setColumn(f, list(df[f]))\n",
    "    for f in df.columns:\n",
    "        if f not in pkfields:\n",
    "            rtn.addColumn(f, list(df[f]))\n",
    "    return rtn"
   ]
  },
  {
   "cell_type": "code",
   "execution_count": 9,
   "metadata": {
    "collapsed": false
   },
   "outputs": [],
   "source": [
    "ampl.setData(df_to_ampl_df(categories, (\"Name\",)), \"CAT\")\n",
    "ampl.setData(df_to_ampl_df(foods, (\"Name\",)), \"FOOD\")\n",
    "ampl.setData(df_to_ampl_df(nutrition_quantities, ('Food', 'Category')))"
   ]
  },
  {
   "cell_type": "code",
   "execution_count": 10,
   "metadata": {
    "collapsed": false
   },
   "outputs": [
    {
     "name": "stdout",
     "output_type": "stream",
     "text": [
      "Gurobi 7.5.0: optimal solution; objective 11.82886111\n",
      "4 simplex iterations\n"
     ]
    }
   ],
   "source": [
    "# should find objective 11.82886111\n",
    "ampl.solve()"
   ]
  }
 ],
 "metadata": {
  "kernelspec": {
   "display_name": "Python 2",
   "language": "python",
   "name": "python2"
  },
  "language_info": {
   "codemirror_mode": {
    "name": "ipython",
    "version": 2
   },
   "file_extension": ".py",
   "mimetype": "text/x-python",
   "name": "python",
   "nbconvert_exporter": "python",
   "pygments_lexer": "ipython2",
   "version": "2.7.11"
  }
 },
 "nbformat": 4,
 "nbformat_minor": 0
}
