{
 "cells": [
  {
   "cell_type": "markdown",
   "metadata": {},
   "source": [
    "## Reproducing an amplpy ticdat issue without ticdat\n",
    "This might be something you need to do to demo a specific `amplpy` issue, so here is a demo notebook about how to do that."
   ]
  },
  {
   "cell_type": "markdown",
   "metadata": {},
   "source": [
    "*NB you will might need some sort of* `%env PATH =` *statement here to get insure the AMPL engine can be found*"
   ]
  },
  {
   "cell_type": "code",
   "execution_count": 2,
   "metadata": {
    "collapsed": false
   },
   "outputs": [
    {
     "name": "stderr",
     "output_type": "stream",
     "text": [
      "/Users/petercacioppi/anaconda/lib/python2.7/site-packages/numexpr/cpuinfo.py:53: UserWarning: [Errno 2] No such file or directory\n",
      "  stacklevel=stacklevel + 1)\n",
      "/Users/petercacioppi/anaconda/lib/python2.7/site-packages/numexpr/cpuinfo.py:76: UserWarning: [Errno 2] No such file or directory\n",
      "  stacklevel=stacklevel + 1):\n"
     ]
    }
   ],
   "source": [
    "from amplpy import AMPL\n",
    "import amplpy\n",
    "from pandas import DataFrame"
   ]
  },
  {
   "cell_type": "markdown",
   "metadata": {},
   "source": [
    "FYI - `ticdat.testing.testampl.convert_to_dicts_that_can_be_turned_into_DataFrames` makes it easy to create \n",
    "the hardcoded `dict` objects that are then used to create the `DataFrame` objects below."
   ]
  },
  {
   "cell_type": "code",
   "execution_count": 3,
   "metadata": {
    "collapsed": false
   },
   "outputs": [],
   "source": [
    "categories = DataFrame({'Name': {0: u'calories',\n",
    "   1: u'fat',\n",
    "   2: u'protein',\n",
    "   3: u'sodium'},\n",
    "  'n_max': {0: 2200.0, 1: 65.0, 2: float('inf'), 3: 1779.0},\n",
    "  'n_min': {0: 1800, 1: 0, 2: 91, 3: 0}})"
   ]
  },
  {
   "cell_type": "code",
   "execution_count": 4,
   "metadata": {
    "collapsed": true
   },
   "outputs": [],
   "source": [
    "foods = DataFrame({'Name': {0: u'chicken',\n",
    "   1: u'fries',\n",
    "   2: u'hamburger',\n",
    "   3: u'hot dog',\n",
    "   4: u'ice cream',\n",
    "   5: u'macaroni',\n",
    "   6: u'milk',\n",
    "   7: u'pizza',\n",
    "   8: u'salad'},\n",
    "  'cost': {0: 2.8900000000000001,\n",
    "   1: 1.8899999999999999,\n",
    "   2: 2.4900000000000002,\n",
    "   3: 1.5,\n",
    "   4: 1.5900000000000001,\n",
    "   5: 2.0899999999999999,\n",
    "   6: 0.89000000000000001,\n",
    "   7: 1.99,\n",
    "   8: 2.4900000000000002}})"
   ]
  },
  {
   "cell_type": "code",
   "execution_count": 5,
   "metadata": {
    "collapsed": true
   },
   "outputs": [],
   "source": [
    "nutrition_quantities = DataFrame({'Category': {0: u'calories',\n",
    "   1: u'fat',\n",
    "   2: u'protein',\n",
    "   3: u'sodium',\n",
    "   4: u'calories',\n",
    "   5: u'fat',\n",
    "   6: u'protein',\n",
    "   7: u'sodium',\n",
    "   8: u'calories',\n",
    "   9: u'fat',\n",
    "   10: u'protein',\n",
    "   11: u'sodium',\n",
    "   12: u'calories',\n",
    "   13: u'fat',\n",
    "   14: u'protein',\n",
    "   15: u'sodium',\n",
    "   16: u'calories',\n",
    "   17: u'fat',\n",
    "   18: u'protein',\n",
    "   19: u'sodium',\n",
    "   20: u'calories',\n",
    "   21: u'fat',\n",
    "   22: u'protein',\n",
    "   23: u'sodium',\n",
    "   24: u'calories',\n",
    "   25: u'fat',\n",
    "   26: u'protein',\n",
    "   27: u'sodium',\n",
    "   28: u'calories',\n",
    "   29: u'fat',\n",
    "   30: u'protein',\n",
    "   31: u'sodium',\n",
    "   32: u'calories',\n",
    "   33: u'fat',\n",
    "   34: u'protein',\n",
    "   35: u'sodium'},\n",
    "  'Food': {0: u'chicken',\n",
    "   1: u'chicken',\n",
    "   2: u'chicken',\n",
    "   3: u'chicken',\n",
    "   4: u'fries',\n",
    "   5: u'fries',\n",
    "   6: u'fries',\n",
    "   7: u'fries',\n",
    "   8: u'hamburger',\n",
    "   9: u'hamburger',\n",
    "   10: u'hamburger',\n",
    "   11: u'hamburger',\n",
    "   12: u'hot dog',\n",
    "   13: u'hot dog',\n",
    "   14: u'hot dog',\n",
    "   15: u'hot dog',\n",
    "   16: u'ice cream',\n",
    "   17: u'ice cream',\n",
    "   18: u'ice cream',\n",
    "   19: u'ice cream',\n",
    "   20: u'macaroni',\n",
    "   21: u'macaroni',\n",
    "   22: u'macaroni',\n",
    "   23: u'macaroni',\n",
    "   24: u'milk',\n",
    "   25: u'milk',\n",
    "   26: u'milk',\n",
    "   27: u'milk',\n",
    "   28: u'pizza',\n",
    "   29: u'pizza',\n",
    "   30: u'pizza',\n",
    "   31: u'pizza',\n",
    "   32: u'salad',\n",
    "   33: u'salad',\n",
    "   34: u'salad',\n",
    "   35: u'salad'},\n",
    "  'amt': {0: 420.0,\n",
    "   1: 10.0,\n",
    "   2: 32.0,\n",
    "   3: 1190.0,\n",
    "   4: 380.0,\n",
    "   5: 19.0,\n",
    "   6: 4.0,\n",
    "   7: 270.0,\n",
    "   8: 410.0,\n",
    "   9: 26.0,\n",
    "   10: 24.0,\n",
    "   11: 730.0,\n",
    "   12: 560.0,\n",
    "   13: 32.0,\n",
    "   14: 20.0,\n",
    "   15: 1800.0,\n",
    "   16: 330.0,\n",
    "   17: 10.0,\n",
    "   18: 8.0,\n",
    "   19: 180.0,\n",
    "   20: 320.0,\n",
    "   21: 10.0,\n",
    "   22: 12.0,\n",
    "   23: 930.0,\n",
    "   24: 100.0,\n",
    "   25: 2.5,\n",
    "   26: 8.0,\n",
    "   27: 125.0,\n",
    "   28: 320.0,\n",
    "   29: 12.0,\n",
    "   30: 15.0,\n",
    "   31: 820.0,\n",
    "   32: 320.0,\n",
    "   33: 12.0,\n",
    "   34: 31.0,\n",
    "   35: 1230.0}})"
   ]
  },
  {
   "cell_type": "code",
   "execution_count": 6,
   "metadata": {
    "collapsed": true
   },
   "outputs": [],
   "source": [
    "mod_str = \"\"\"\n",
    "    set CAT;\n",
    "    set FOOD;\n",
    "    param cost {FOOD} > 0;\n",
    "    param n_min {CAT} >= 0;\n",
    "    param n_max {i in CAT} >= n_min[i];\n",
    "    param amt {FOOD, CAT} >= 0;\n",
    "    var Buy {j in FOOD} >= 0;\n",
    "    var Consume {i in CAT } >= n_min [i], <= n_max [i];\n",
    "    minimize Total_Cost:  sum {j in FOOD} cost[j] * Buy[j];\n",
    "    subject to Diet {i in CAT}:\n",
    "       Consume[i] =  sum {j in FOOD} amt[j,i] * Buy[j];\n",
    "    \"\"\""
   ]
  },
  {
   "cell_type": "code",
   "execution_count": 7,
   "metadata": {
    "collapsed": true
   },
   "outputs": [],
   "source": [
    "ampl = AMPL()\n",
    "ampl.setOption('solver', 'gurobi')\n",
    "ampl.eval(mod_str)"
   ]
  },
  {
   "cell_type": "code",
   "execution_count": 8,
   "metadata": {
    "collapsed": true
   },
   "outputs": [],
   "source": [
    "def df_to_ampl_df(df, pkfields):\n",
    "    assert set(df.columns).issuperset(pkfields)\n",
    "    rtn = amplpy.DataFrame(index=pkfields)\n",
    "    for f in pkfields:\n",
    "        rtn.setColumn(f, list(df[f]))\n",
    "    for f in df.columns:\n",
    "        if f not in pkfields:\n",
    "            rtn.addColumn(f, list(df[f]))\n",
    "    return rtn"
   ]
  },
  {
   "cell_type": "code",
   "execution_count": 9,
   "metadata": {
    "collapsed": false
   },
   "outputs": [],
   "source": [
    "ampl.setData(df_to_ampl_df(categories, (\"Name\",)), \"CAT\")\n",
    "ampl.setData(df_to_ampl_df(foods, (\"Name\",)), \"FOOD\")\n",
    "ampl.setData(df_to_ampl_df(nutrition_quantities, ('Food', 'Category')))"
   ]
  },
  {
   "cell_type": "code",
   "execution_count": 10,
   "metadata": {
    "collapsed": false
   },
   "outputs": [
    {
     "name": "stdout",
     "output_type": "stream",
     "text": [
      "Gurobi 7.5.0: optimal solution; objective 11.82886111\n",
      "4 simplex iterations\n"
     ]
    }
   ],
   "source": [
    "# should find objective 11.82886111\n",
    "ampl.solve()"
   ]
  }
 ],
 "metadata": {
  "kernelspec": {
   "display_name": "Python 2",
   "language": "python",
   "name": "python2"
  },
  "language_info": {
   "codemirror_mode": {
    "name": "ipython",
    "version": 2
   },
   "file_extension": ".py",
   "mimetype": "text/x-python",
   "name": "python",
   "nbconvert_exporter": "python",
   "pygments_lexer": "ipython2",
   "version": "2.7.11"
  }
 },
 "nbformat": 4,
 "nbformat_minor": 0
}
