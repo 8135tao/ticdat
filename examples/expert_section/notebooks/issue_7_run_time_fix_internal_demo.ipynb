{
 "cells": [
  {
   "cell_type": "markdown",
   "metadata": {},
   "source": [
    "## Demo of faster_df_apply\n",
    "\n",
    "`pandas.apply` is a lot slower than it should be. See discussion [here](https://stackoverflow.com/questions/54432583/when-should-i-ever-want-to-use-pandas-apply-in-my-code).\n",
    "\n",
    "This notebooks demonstrates the `faster_df_apply` function, which speeds things up dramatically."
   ]
  },
  {
   "cell_type": "code",
   "execution_count": 1,
   "metadata": {},
   "outputs": [],
   "source": [
    "import ticdat\n",
    "import time\n",
    "import pandas as pd"
   ]
  },
  {
   "cell_type": "code",
   "execution_count": 2,
   "metadata": {},
   "outputs": [],
   "source": [
    "pandat = ticdat.PanDatFactory(table_data = [[], [\"SoldCount\", \"StrengthFactor\", \"ItemCount\"]])"
   ]
  },
  {
   "cell_type": "code",
   "execution_count": 3,
   "metadata": {},
   "outputs": [],
   "source": [
    "pandat.set_data_type(\"table_data\", \"SoldCount\", min=0, max=50, inclusive_min=True, \n",
    "                     inclusive_max=True, nullable=False)"
   ]
  },
  {
   "cell_type": "code",
   "execution_count": 4,
   "metadata": {},
   "outputs": [],
   "source": [
    "dat = pandat.csv.create_pan_dat(\"pandat_data\")"
   ]
  },
  {
   "cell_type": "code",
   "execution_count": 5,
   "metadata": {},
   "outputs": [
    {
     "data": {
      "text/plain": [
       "(73.0, 0.0)"
      ]
     },
     "execution_count": 5,
     "metadata": {},
     "output_type": "execute_result"
    }
   ],
   "source": [
    "dat.table_data[\"SoldCount\"].max(), dat.table_data[\"SoldCount\"].min()"
   ]
  },
  {
   "cell_type": "code",
   "execution_count": 6,
   "metadata": {},
   "outputs": [],
   "source": [
    "def faster_df_apply(df, func):\n",
    "    cols = list(df.columns)\n",
    "    data, index = [], []\n",
    "    for row in df.itertuples(index=True):\n",
    "        row_dict = {f:v for f,v in zip(cols, row[1:])}\n",
    "        data.append(func(row_dict))\n",
    "        index.append(row[0])\n",
    "    return pd.Series(data, index=index)"
   ]
  },
  {
   "cell_type": "code",
   "execution_count": 7,
   "metadata": {},
   "outputs": [],
   "source": [
    "def bad_row(row):\n",
    "    val = row[\"SoldCount\"]\n",
    "    try:\n",
    "        if 0 <= val <= 50:\n",
    "            return False\n",
    "    except:\n",
    "        return True\n",
    "    return True"
   ]
  },
  {
   "cell_type": "markdown",
   "metadata": {},
   "source": [
    "Here are three different ways to find the rows with a bad \"SoldCount\", each with very different run times.\n",
    " * Using the `bad_row` function with `pandas.DataFrame`.\n",
    " * Using the `bad_row` function with `faster_df_apply`.\n",
    " * Using `PanDatFactory.find_data_type_failures`. "
   ]
  },
  {
   "cell_type": "code",
   "execution_count": 8,
   "metadata": {},
   "outputs": [
    {
     "name": "stdout",
     "output_type": "stream",
     "text": [
      "1.92 s ± 29.8 ms per loop (mean ± std. dev. of 7 runs, 1 loop each)\n"
     ]
    }
   ],
   "source": [
    "%timeit dat.table_data.apply(bad_row, axis=1)"
   ]
  },
  {
   "cell_type": "code",
   "execution_count": 9,
   "metadata": {},
   "outputs": [
    {
     "name": "stdout",
     "output_type": "stream",
     "text": [
      "480 ms ± 5.33 ms per loop (mean ± std. dev. of 7 runs, 1 loop each)\n"
     ]
    }
   ],
   "source": [
    "%timeit faster_df_apply(dat.table_data, bad_row)"
   ]
  },
  {
   "cell_type": "code",
   "execution_count": 10,
   "metadata": {},
   "outputs": [
    {
     "name": "stdout",
     "output_type": "stream",
     "text": [
      "806 ms ± 10.9 ms per loop (mean ± std. dev. of 7 runs, 1 loop each)\n"
     ]
    }
   ],
   "source": [
    "%timeit pandat.find_data_type_failures(dat)"
   ]
  },
  {
   "cell_type": "markdown",
   "metadata": {},
   "source": [
    "## Conclusion\n",
    "The default implementation of `apply` appears to be slow for silly reasons. It can be sigmnificantly improved by a more thoughtful pure Python rewrite. With this commit, we have woven `faster_df_apply` into `ticdat`, thus addressing issue [7](https://github.com/ticdat/ticdat/issues/7). That said, `PanDatFactory.find_data_type_failures` has a slower version of `bad_row`, and thus is somewhat slower than the `faster_df_apply(dat.table_data, bad_row)` call. There may or may-not be room for run time improvement, but closing issue 7 for now."
   ]
  },
  {
   "cell_type": "code",
   "execution_count": 11,
   "metadata": {},
   "outputs": [],
   "source": [
    "import cProfile"
   ]
  },
  {
   "cell_type": "code",
   "execution_count": 12,
   "metadata": {},
   "outputs": [],
   "source": [
    "#cProfile.run(\"pandat.find_data_type_failures(dat)\", sort=2)"
   ]
  },
  {
   "cell_type": "code",
   "execution_count": 13,
   "metadata": {},
   "outputs": [],
   "source": [
    "#cProfile.run(\"faster_df_apply(dat.table_data, bad_row)\", sort=2)"
   ]
  }
 ],
 "metadata": {
  "kernelspec": {
   "display_name": "Python 3",
   "language": "python",
   "name": "python3"
  },
  "language_info": {
   "codemirror_mode": {
    "name": "ipython",
    "version": 3
   },
   "file_extension": ".py",
   "mimetype": "text/x-python",
   "name": "python",
   "nbconvert_exporter": "python",
   "pygments_lexer": "ipython3",
   "version": "3.7.1"
  }
 },
 "nbformat": 4,
 "nbformat_minor": 2
}
