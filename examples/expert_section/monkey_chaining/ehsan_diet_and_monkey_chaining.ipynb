{
 "cells": [
  {
   "cell_type": "code",
   "execution_count": 1,
   "metadata": {},
   "outputs": [],
   "source": [
    "import ehsans_diet\n",
    "import diet\n",
    "dat = diet.input_schema.csv.create_tic_dat(\"diet_sample_data\")"
   ]
  },
  {
   "cell_type": "code",
   "execution_count": 2,
   "metadata": {},
   "outputs": [],
   "source": [
    "ehsan_dat = ehsans_diet.CustomizedDat.create_from_normal(dat)"
   ]
  },
  {
   "cell_type": "code",
   "execution_count": 3,
   "metadata": {},
   "outputs": [
    {
     "data": {
      "text/plain": [
       "{'protein': _ctd:{'Min Nutrition': 91.0, 'Max Nutrition': 300.0},\n",
       " 'calories': _ctd:{'Min Nutrition': 1800.0, 'Max Nutrition': 2200.0},\n",
       " 'fat': _ctd:{'Min Nutrition': 0.0, 'Max Nutrition': 65.0},\n",
       " 'sodium': _ctd:{'Min Nutrition': 0.0, 'Max Nutrition': 1779.0}}"
      ]
     },
     "execution_count": 3,
     "metadata": {},
     "output_type": "execute_result"
    }
   ],
   "source": [
    "ehsan_dat.categories"
   ]
  },
  {
   "cell_type": "code",
   "execution_count": 4,
   "metadata": {},
   "outputs": [
    {
     "data": {
      "text/plain": [
       "'fake'"
      ]
     },
     "execution_count": 4,
     "metadata": {},
     "output_type": "execute_result"
    }
   ],
   "source": [
    "ehsan_dat.categories[\"fat\"].fake_or_real"
   ]
  },
  {
   "cell_type": "code",
   "execution_count": 5,
   "metadata": {},
   "outputs": [
    {
     "data": {
      "text/plain": [
       "'real'"
      ]
     },
     "execution_count": 5,
     "metadata": {},
     "output_type": "execute_result"
    }
   ],
   "source": [
    "ehsan_dat.categories[\"protein\"].fake_or_real"
   ]
  },
  {
   "cell_type": "markdown",
   "metadata": {},
   "source": [
    "You can edit the data (since I didn't freeze it)."
   ]
  },
  {
   "cell_type": "code",
   "execution_count": 6,
   "metadata": {},
   "outputs": [],
   "source": [
    "ehsan_dat.categories[\"sodium\"][\"Max Nutrition\"] = float(\"inf\")"
   ]
  },
  {
   "cell_type": "code",
   "execution_count": 7,
   "metadata": {},
   "outputs": [
    {
     "data": {
      "text/plain": [
       "{'protein': _ctd:{'Min Nutrition': 91.0, 'Max Nutrition': 300.0},\n",
       " 'calories': _ctd:{'Min Nutrition': 1800.0, 'Max Nutrition': 2200.0},\n",
       " 'fat': _ctd:{'Min Nutrition': 0.0, 'Max Nutrition': 65.0},\n",
       " 'sodium': _ctd:{'Min Nutrition': 0.0, 'Max Nutrition': inf}}"
      ]
     },
     "execution_count": 7,
     "metadata": {},
     "output_type": "execute_result"
    }
   ],
   "source": [
    "ehsan_dat.categories"
   ]
  },
  {
   "cell_type": "markdown",
   "metadata": {},
   "source": [
    "You can add rows since I didn't freeze it."
   ]
  },
  {
   "cell_type": "code",
   "execution_count": 8,
   "metadata": {},
   "outputs": [],
   "source": [
    "ehsan_dat.categories[\"bop\"]={\"Min Nutrition\":100, \"Max Nutrition\":200}"
   ]
  },
  {
   "cell_type": "markdown",
   "metadata": {},
   "source": [
    "This would throw an exception (but of course it works on he unfrozen `dat`)"
   ]
  },
  {
   "cell_type": "code",
   "execution_count": 9,
   "metadata": {},
   "outputs": [],
   "source": [
    "#ehsan_dat.categories[\"booo\"]=[0,200]\n",
    "dat.categories[\"booo\"]=[0,200]"
   ]
  },
  {
   "cell_type": "markdown",
   "metadata": {},
   "source": [
    "This would be the way I'd handle it with simeple monkey chaining."
   ]
  },
  {
   "cell_type": "code",
   "execution_count": 10,
   "metadata": {},
   "outputs": [],
   "source": [
    "monkeyed_dat = ehsans_diet.monkey_chain_finisher(dat)"
   ]
  },
  {
   "cell_type": "code",
   "execution_count": 11,
   "metadata": {},
   "outputs": [
    {
     "data": {
      "text/plain": [
       "{'protein': _td:{'Min Nutrition': 91.0, 'Max Nutrition': 300.0},\n",
       " 'calories': _td:{'Min Nutrition': 1800.0, 'Max Nutrition': 2200.0},\n",
       " 'fat': _td:{'Min Nutrition': 0.0, 'Max Nutrition': 65.0},\n",
       " 'sodium': _td:{'Min Nutrition': 0.0, 'Max Nutrition': 1779.0},\n",
       " 'booo': _td:{'Min Nutrition': 0, 'Max Nutrition': 200}}"
      ]
     },
     "execution_count": 11,
     "metadata": {},
     "output_type": "execute_result"
    }
   ],
   "source": [
    "monkeyed_dat.categories"
   ]
  },
  {
   "cell_type": "code",
   "execution_count": 12,
   "metadata": {},
   "outputs": [
    {
     "data": {
      "text/plain": [
       "{'protein': 'real',\n",
       " 'calories': 'real',\n",
       " 'fat': 'fake',\n",
       " 'sodium': 'real',\n",
       " 'booo': 'real'}"
      ]
     },
     "execution_count": 12,
     "metadata": {},
     "output_type": "execute_result"
    }
   ],
   "source": [
    "{k:r.fake_or_real for k,r in monkeyed_dat.categories.items()}"
   ]
  },
  {
   "cell_type": "code",
   "execution_count": null,
   "metadata": {},
   "outputs": [],
   "source": []
  }
 ],
 "metadata": {
  "kernelspec": {
   "display_name": "Python 3",
   "language": "python",
   "name": "python3"
  },
  "language_info": {
   "codemirror_mode": {
    "name": "ipython",
    "version": 3
   },
   "file_extension": ".py",
   "mimetype": "text/x-python",
   "name": "python",
   "nbconvert_exporter": "python",
   "pygments_lexer": "ipython3",
   "version": "3.7.0"
  }
 },
 "nbformat": 4,
 "nbformat_minor": 2
}
