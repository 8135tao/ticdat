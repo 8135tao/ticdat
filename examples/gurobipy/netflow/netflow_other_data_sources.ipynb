{
 "cells": [
  {
   "cell_type": "markdown",
   "metadata": {},
   "source": [
    "## Using ticdat to build modular engines\n",
    "\n",
    "The goal of the `ticdat` package is to facilitate solve engines that are modular and robust. For example, the multicommodity `netflow.py` engine can read and write from a variety of file types when run from the the command line. It can also be run from a Python script that contains embedded static data, or from a script that reads and writes from a system-of-record data source such as an ERP system. \n",
    "\n",
    "With regards to the latter, we should note that Python is one of the most popular \"glue\" [languages](https://en.wikipedia.org/wiki/Scripting_language#Glue_languages). The market has recognized that Python scripts are easy to write, manage data with intuitive programming syntax, and can be connected to nearly any data source.\n",
    "\n",
    "The `ticdat` package can easily be used in any Python glue script. One way to do this is to exploit `ticdat`'s ability to recognize data tables as list-of-lists. The inner lists contain data values in the field order defined by by the `TicDatFactory` (i.e. `netflow.input_schema`).\n",
    "\n",
    "For example, suppose the `netflow` engine needs to connect to an Oracle database for a daily automated solve. The integration engineer can use the `cx_Oracle` [package](https://oracle.github.io/python-cx_Oracle/) (or something equivalent) to turn system data into a list-of-lists for each input table. These data structures can then be used to create a `TicDat` object that can be passed as input data to `netflow.solve`. The solution `TicDat` object returned by `netflow.solve` can then be converted back into a list-of-lists representation of each solution report table. (The list-of-lists strategy is just one approach. It might make sense to convert system-of-record data into `pandas.DataFrame` objects, and then use these `DataFrame`s to build the `TicDat` object.)\n",
    "\n",
    "We demonstrate this approach without explicit references to `cx_Oracle`. By demonstrating that `ticdat` is compatible with list-of-list/`DataFrame` table representations we thus show that `ticdat` is compatible with any data source that can be connected to Python, and also with human readable static data."
   ]
  },
  {
   "cell_type": "code",
   "execution_count": 1,
   "metadata": {},
   "outputs": [],
   "source": [
    "commodities = [['Pencils', 0.5], ['Pens', 0.2125]]\n",
    "\n",
    "# a one column table can just be a simple list \n",
    "nodes = ['Boston', 'Denver', 'Detroit', 'New York',  'Seattle']\n",
    "\n",
    "cost = [['Pencils', 'Denver', 'Boston', 10.0],\n",
    "        ['Pencils', 'Denver', 'New York', 10.0],\n",
    "        ['Pencils', 'Denver', 'Seattle', 7.5],\n",
    "        ['Pencils', 'Detroit', 'Boston', 2.5],\n",
    "        ['Pencils', 'Detroit', 'New York', 5.0],\n",
    "        ['Pencils', 'Detroit', 'Seattle', 15.0],\n",
    "        ['Pens', 'Denver', 'Boston', 15.0],\n",
    "        ['Pens', 'Denver', 'New York', 17.5],\n",
    "        ['Pens', 'Denver', 'Seattle', 7.5],\n",
    "        ['Pens', 'Detroit', 'Boston', 5.0],\n",
    "        ['Pens', 'Detroit', 'New York', 5.0],\n",
    "        ['Pens', 'Detroit', 'Seattle', 20.0]]\n",
    "\n",
    "inflow = [['Pencils', 'Boston', -200],\n",
    "          ['Pencils', 'Denver', 240],\n",
    "          ['Pencils', 'Detroit', 200],\n",
    "          ['Pencils', 'New York', -200],\n",
    "          ['Pencils', 'Seattle', -40],\n",
    "          ['Pens', 'Boston', -160],\n",
    "          ['Pens', 'Denver', 160],\n",
    "          ['Pens', 'Detroit', 240],\n",
    "          ['Pens', 'New York', -120],\n",
    "          ['Pens', 'Seattle', -120]]"
   ]
  },
  {
   "cell_type": "markdown",
   "metadata": {},
   "source": [
    "An integration engineer might prefer to copy system-of-records data into `pandas.DataFrame` objects. Note that `pandas` is itself [capable](https://stackoverflow.com/questions/35781580/cx-oracle-import-data-from-oracle-to-pandas-dataframe) of reading directly from various SQL databases, although it usually needs a supporting package like `cx_Oracle`."
   ]
  },
  {
   "cell_type": "code",
   "execution_count": 2,
   "metadata": {},
   "outputs": [
    {
     "data": {
      "text/html": [
       "<div>\n",
       "<style>\n",
       "    .dataframe thead tr:only-child th {\n",
       "        text-align: right;\n",
       "    }\n",
       "\n",
       "    .dataframe thead th {\n",
       "        text-align: left;\n",
       "    }\n",
       "\n",
       "    .dataframe tbody tr th {\n",
       "        vertical-align: top;\n",
       "    }\n",
       "</style>\n",
       "<table border=\"1\" class=\"dataframe\">\n",
       "  <thead>\n",
       "    <tr style=\"text-align: right;\">\n",
       "      <th></th>\n",
       "      <th></th>\n",
       "      <th>Capacity</th>\n",
       "    </tr>\n",
       "    <tr>\n",
       "      <th>Source</th>\n",
       "      <th>Destination</th>\n",
       "      <th></th>\n",
       "    </tr>\n",
       "  </thead>\n",
       "  <tbody>\n",
       "    <tr>\n",
       "      <th rowspan=\"3\" valign=\"top\">Denver</th>\n",
       "      <th>Boston</th>\n",
       "      <td>120</td>\n",
       "    </tr>\n",
       "    <tr>\n",
       "      <th>New York</th>\n",
       "      <td>120</td>\n",
       "    </tr>\n",
       "    <tr>\n",
       "      <th>Seattle</th>\n",
       "      <td>120</td>\n",
       "    </tr>\n",
       "    <tr>\n",
       "      <th rowspan=\"3\" valign=\"top\">Detroit</th>\n",
       "      <th>Boston</th>\n",
       "      <td>100</td>\n",
       "    </tr>\n",
       "    <tr>\n",
       "      <th>New York</th>\n",
       "      <td>80</td>\n",
       "    </tr>\n",
       "    <tr>\n",
       "      <th>Seattle</th>\n",
       "      <td>120</td>\n",
       "    </tr>\n",
       "  </tbody>\n",
       "</table>\n",
       "</div>"
      ],
      "text/plain": [
       "                     Capacity\n",
       "Source  Destination          \n",
       "Denver  Boston            120\n",
       "        New York          120\n",
       "        Seattle           120\n",
       "Detroit Boston            100\n",
       "        New York           80\n",
       "        Seattle           120"
      ]
     },
     "execution_count": 2,
     "metadata": {},
     "output_type": "execute_result"
    }
   ],
   "source": [
    "from pandas import DataFrame\n",
    "arcs = DataFrame({\"Source\": [\"Denver\", \"Denver\", \"Denver\", \"Detroit\", \"Detroit\", \"Detroit\",], \n",
    "                 \"Destination\": [\"Boston\", \"New York\", \"Seattle\", \"Boston\", \"New York\", \"Seattle\"], \n",
    "                 \"Capacity\": [120, 120, 120, 100, 80, 120]}).set_index([\"Source\", \"Destination\"])\n",
    "arcs"
   ]
  },
  {
   "cell_type": "markdown",
   "metadata": {},
   "source": [
    "Next we create a TicDat input data object from the list-of-lists/`DataFrame` representations."
   ]
  },
  {
   "cell_type": "code",
   "execution_count": 3,
   "metadata": {},
   "outputs": [],
   "source": [
    "from netflow import input_schema, solve, solution_schema\n",
    "dat = input_schema.TicDat(commodities=commodities, nodes=nodes, cost=cost, arcs=arcs, \n",
    "                          inflow=inflow)"
   ]
  },
  {
   "cell_type": "markdown",
   "metadata": {},
   "source": [
    "We now create a TicDat solution data object by calling `solve`."
   ]
  },
  {
   "cell_type": "code",
   "execution_count": 4,
   "metadata": {},
   "outputs": [
    {
     "name": "stdout",
     "output_type": "stream",
     "text": [
      "Optimize a model with 16 rows, 12 columns and 36 nonzeros\n",
      "Coefficient statistics:\n",
      "  Matrix range     [2e-01, 1e+00]\n",
      "  Objective range  [2e+00, 2e+01]\n",
      "  Bounds range     [0e+00, 0e+00]\n",
      "  RHS range        [4e+01, 2e+02]\n",
      "Presolve removed 12 rows and 6 columns\n",
      "Presolve time: 0.00s\n",
      "Presolved: 4 rows, 8 columns, 12 nonzeros\n",
      "\n",
      "Iteration    Objective       Primal Inf.    Dual Inf.      Time\n",
      "       0    2.8823529e+02   1.717647e+02   0.000000e+00      0s\n",
      "       3    5.6275000e+03   0.000000e+00   0.000000e+00      0s\n",
      "\n",
      "Solved in 3 iterations and 0.01 seconds\n",
      "Optimal objective  5.627500000e+03\n"
     ]
    }
   ],
   "source": [
    "sln = solve(dat)"
   ]
  },
  {
   "cell_type": "markdown",
   "metadata": {},
   "source": [
    "We now create a list of list representation of the solution data object."
   ]
  },
  {
   "cell_type": "code",
   "execution_count": 5,
   "metadata": {
    "collapsed": true
   },
   "outputs": [],
   "source": [
    "from ticdat.jsontd import make_json_dict\n",
    "sln_lists = make_json_dict(solution_schema, sln)"
   ]
  },
  {
   "cell_type": "markdown",
   "metadata": {},
   "source": [
    "Here we demonstrate that `sln_lists` is a dictionary mapping table name to list-of-lists of solution report data."
   ]
  },
  {
   "cell_type": "code",
   "execution_count": 6,
   "metadata": {},
   "outputs": [
    {
     "name": "stdout",
     "output_type": "stream",
     "text": [
      "\n",
      "\n",
      "**\n",
      "Solution Table flow\n",
      "**\n",
      "[['Pencils', 'Detroit', 'New York', 51.0],\n",
      " ['Pens', 'Detroit', 'New York', 120.0],\n",
      " ['Pens', 'Denver', 'Boston', 40.0],\n",
      " ['Pencils', 'Denver', 'Boston', 51.0],\n",
      " ['Pens', 'Denver', 'Seattle', 120.0],\n",
      " ['Pens', 'Detroit', 'Boston', 120.0],\n",
      " ['Pencils', 'Denver', 'New York', 149.0],\n",
      " ['Pencils', 'Denver', 'Seattle', 40.0],\n",
      " ['Pencils', 'Detroit', 'Boston', 149.0]]\n",
      "\n",
      "\n",
      "**\n",
      "Solution Table parameters\n",
      "**\n",
      "[['Total Cost', 5627.5]]\n"
     ]
    }
   ],
   "source": [
    "import pprint\n",
    "for sln_table_name, sln_table_data in sln_lists.items():\n",
    "    print \"\\n\\n**\\nSolution Table %s\\n**\"%sln_table_name\n",
    "    pprint.pprint(sln_table_data)"
   ]
  },
  {
   "cell_type": "markdown",
   "metadata": {},
   "source": [
    "Here we demonstrate how `DataFrame` objects can be generated from the solution data object."
   ]
  },
  {
   "cell_type": "code",
   "execution_count": 7,
   "metadata": {},
   "outputs": [
    {
     "data": {
      "text/html": [
       "<div>\n",
       "<style>\n",
       "    .dataframe thead tr:only-child th {\n",
       "        text-align: right;\n",
       "    }\n",
       "\n",
       "    .dataframe thead th {\n",
       "        text-align: left;\n",
       "    }\n",
       "\n",
       "    .dataframe tbody tr th {\n",
       "        vertical-align: top;\n",
       "    }\n",
       "</style>\n",
       "<table border=\"1\" class=\"dataframe\">\n",
       "  <thead>\n",
       "    <tr style=\"text-align: right;\">\n",
       "      <th></th>\n",
       "      <th></th>\n",
       "      <th></th>\n",
       "      <th>Quantity</th>\n",
       "    </tr>\n",
       "    <tr>\n",
       "      <th>Commodity</th>\n",
       "      <th>Source</th>\n",
       "      <th>Destination</th>\n",
       "      <th></th>\n",
       "    </tr>\n",
       "  </thead>\n",
       "  <tbody>\n",
       "    <tr>\n",
       "      <th rowspan=\"5\" valign=\"top\">Pencils</th>\n",
       "      <th rowspan=\"3\" valign=\"top\">Denver</th>\n",
       "      <th>Boston</th>\n",
       "      <td>51.0</td>\n",
       "    </tr>\n",
       "    <tr>\n",
       "      <th>New York</th>\n",
       "      <td>149.0</td>\n",
       "    </tr>\n",
       "    <tr>\n",
       "      <th>Seattle</th>\n",
       "      <td>40.0</td>\n",
       "    </tr>\n",
       "    <tr>\n",
       "      <th rowspan=\"2\" valign=\"top\">Detroit</th>\n",
       "      <th>Boston</th>\n",
       "      <td>149.0</td>\n",
       "    </tr>\n",
       "    <tr>\n",
       "      <th>New York</th>\n",
       "      <td>51.0</td>\n",
       "    </tr>\n",
       "    <tr>\n",
       "      <th rowspan=\"4\" valign=\"top\">Pens</th>\n",
       "      <th rowspan=\"2\" valign=\"top\">Denver</th>\n",
       "      <th>Boston</th>\n",
       "      <td>40.0</td>\n",
       "    </tr>\n",
       "    <tr>\n",
       "      <th>Seattle</th>\n",
       "      <td>120.0</td>\n",
       "    </tr>\n",
       "    <tr>\n",
       "      <th rowspan=\"2\" valign=\"top\">Detroit</th>\n",
       "      <th>Boston</th>\n",
       "      <td>120.0</td>\n",
       "    </tr>\n",
       "    <tr>\n",
       "      <th>New York</th>\n",
       "      <td>120.0</td>\n",
       "    </tr>\n",
       "  </tbody>\n",
       "</table>\n",
       "</div>"
      ],
      "text/plain": [
       "                               Quantity\n",
       "Commodity Source  Destination          \n",
       "Pencils   Denver  Boston           51.0\n",
       "                  New York        149.0\n",
       "                  Seattle          40.0\n",
       "          Detroit Boston          149.0\n",
       "                  New York         51.0\n",
       "Pens      Denver  Boston           40.0\n",
       "                  Seattle         120.0\n",
       "          Detroit Boston          120.0\n",
       "                  New York        120.0"
      ]
     },
     "execution_count": 7,
     "metadata": {},
     "output_type": "execute_result"
    }
   ],
   "source": [
    "sln_pandas = solution_schema.copy_to_pandas(sln)\n",
    "sln_pandas.flow"
   ]
  },
  {
   "cell_type": "markdown",
   "metadata": {},
   "source": [
    "## Using ticdat to build robust engines\n",
    "\n",
    "The preceding section demonstrated how we can use `ticdat` to build modular engines. We now demonstrate how we can use `ticdat` to build engines that check `solve` pre-conditions, and are thus robust with respect to data integrity problems.\n",
    "\n",
    "First, lets violate our (somewhat artificial) rule that the commodity volume must be positive."
   ]
  },
  {
   "cell_type": "code",
   "execution_count": 8,
   "metadata": {
    "collapsed": true
   },
   "outputs": [],
   "source": [
    "dat.commodities[\"Pens\"] = 0"
   ]
  },
  {
   "cell_type": "markdown",
   "metadata": {},
   "source": [
    "The `input_schema` can not only flag this problem, but give us a useful data structure to examine."
   ]
  },
  {
   "cell_type": "code",
   "execution_count": 9,
   "metadata": {},
   "outputs": [
    {
     "data": {
      "text/plain": [
       "{TableField(table='commodities', field='Volume'): ValuesPks(bad_values=(0,), pks=('Pens',))}"
      ]
     },
     "execution_count": 9,
     "metadata": {},
     "output_type": "execute_result"
    }
   ],
   "source": [
    "input_schema.find_data_type_failures(dat)"
   ]
  },
  {
   "cell_type": "markdown",
   "metadata": {},
   "source": [
    "Next, lets add a Cost record for a non-existent commodity and see how `input_schema` flags this problem."
   ]
  },
  {
   "cell_type": "code",
   "execution_count": 10,
   "metadata": {},
   "outputs": [
    {
     "data": {
      "text/plain": [
       "{('cost', 'commodities', ('Commodity', 'Name')): (('Crayons',),\n",
       "  (('Crayons', 'Detroit', 'Seattle'),))}"
      ]
     },
     "execution_count": 10,
     "metadata": {},
     "output_type": "execute_result"
    }
   ],
   "source": [
    "dat.cost['Crayons', 'Detroit', 'Seattle'] = 10\n",
    "input_schema.find_foreign_key_failures(dat, verbosity=\"Low\")"
   ]
  },
  {
   "cell_type": "markdown",
   "metadata": {},
   "source": [
    "In real life, data integrity failures can typically be grouped into a small number of categories. However, the number of failures in each category might be quite large. `ticdat` creates data structures for each of these categories that can themselves be examined programmatically. As a result, an analyst can leverage the power of Python to detect patterns in the data integrity problems."
   ]
  }
 ],
 "metadata": {
  "kernelspec": {
   "display_name": "Python 2",
   "language": "python",
   "name": "python2"
  },
  "language_info": {
   "codemirror_mode": {
    "name": "ipython",
    "version": 2
   },
   "file_extension": ".py",
   "mimetype": "text/x-python",
   "name": "python",
   "nbconvert_exporter": "python",
   "pygments_lexer": "ipython2",
   "version": "2.7.11"
  }
 },
 "nbformat": 4,
 "nbformat_minor": 1
}
