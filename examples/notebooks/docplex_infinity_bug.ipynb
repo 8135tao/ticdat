{
 "cells": [
  {
   "cell_type": "markdown",
   "metadata": {},
   "source": [
    "## docplex has a bug involving infinity"
   ]
  },
  {
   "cell_type": "markdown",
   "metadata": {},
   "source": [
    "Mistakes happen, what's important is how you respond to them. `docplex` has an easily isolated bug involving `float(\"inf\")` as the RHS of a `<=` constraint. Such constraints are often created programmatically. A programmer shouldn't have to worry about whether or not a Python MIP API will handle such a constraint, since the least astonishment behavior is to simply pre-process it out of the core solve. (This is what `guropbipy` does).\n",
    "\n",
    "I'm testing this with a solve-on-the-cloud evaluation license. (Which is really cool!)"
   ]
  },
  {
   "cell_type": "code",
   "execution_count": 1,
   "metadata": {
    "collapsed": true
   },
   "outputs": [],
   "source": [
    "cplex_url = \"GET YOUR OWN FROM CPLEX\"\n",
    "cplex_key = \"GET YOUR OWN FROM CPLEX\"\n",
    "from docplex.mp.model import Model"
   ]
  },
  {
   "cell_type": "code",
   "execution_count": 2,
   "metadata": {
    "collapsed": false
   },
   "outputs": [
    {
     "name": "stdout",
     "output_type": "stream",
     "text": [
      "solution for: this one works\n",
      "objective: 81.6667\n",
      "v1=8.333\n",
      "v2=10.000\n",
      "\n"
     ]
    }
   ],
   "source": [
    "m = Model(\"this one works\")\n",
    "v1 = m.continuous_var(ub = 10, name = \"v1\")\n",
    "v2 = m.continuous_var(ub = 10, name = \"v2\")\n",
    "m.add_constraint(3*v1 + 2*v2 <= 45)\n",
    "m.maximize(5*v1 + 4*v2)\n",
    "print m.solve(url=cplex_url, key=cplex_key)"
   ]
  },
  {
   "cell_type": "code",
   "execution_count": 3,
   "metadata": {
    "collapsed": false
   },
   "outputs": [
    {
     "name": "stdout",
     "output_type": "stream",
     "text": [
      "None\n"
     ]
    }
   ],
   "source": [
    "m = Model(\"this one fails\")\n",
    "v1 = m.continuous_var(ub = 10, name = \"v1\")\n",
    "v2 = m.continuous_var(ub = 10, name = \"v2\")\n",
    "m.add_constraint(3*v1 + 2*v2 <= float(\"inf\"))\n",
    "m.maximize(5*v1 + 4*v2)\n",
    "print m.solve(url=cplex_url, key=cplex_key)"
   ]
  },
  {
   "cell_type": "code",
   "execution_count": 4,
   "metadata": {
    "collapsed": false
   },
   "outputs": [
    {
     "name": "stdout",
     "output_type": "stream",
     "text": [
      "solution for: this one yields the correct infinity result\n",
      "objective: 90\n",
      "v1=10.000\n",
      "v2=10.000\n",
      "\n"
     ]
    }
   ],
   "source": [
    "m = Model(\"this one yields the correct infinity result\")\n",
    "v1 = m.continuous_var(ub = 10, name = \"v1\")\n",
    "v2 = m.continuous_var(ub = 10, name = \"v2\")\n",
    "# not adding the constraint at all\n",
    "m.maximize(5*v1 + 4*v2)\n",
    "print m.solve(url=cplex_url, key=cplex_key)"
   ]
  }
 ],
 "metadata": {
  "kernelspec": {
   "display_name": "Python 2",
   "language": "python",
   "name": "python2"
  },
  "language_info": {
   "codemirror_mode": {
    "name": "ipython",
    "version": 2
   },
   "file_extension": ".py",
   "mimetype": "text/x-python",
   "name": "python",
   "nbconvert_exporter": "python",
   "pygments_lexer": "ipython2",
   "version": "2.7.11"
  }
 },
 "nbformat": 4,
 "nbformat_minor": 0
}
