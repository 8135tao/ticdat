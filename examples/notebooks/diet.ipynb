{
 "metadata": {
  "name": ""
 },
 "nbformat": 3,
 "nbformat_minor": 0,
 "worksheets": [
  {
   "cells": [
    {
     "cell_type": "heading",
     "level": 1,
     "metadata": {},
     "source": [
      "Using ticdat to wrangle data from the diet problem"
     ]
    },
    {
     "cell_type": "markdown",
     "metadata": {},
     "source": [
      "First import a `TicDatFactory`. This will allow us to generate a schema for the diet problem."
     ]
    },
    {
     "cell_type": "code",
     "collapsed": false,
     "input": [
      "from ticdat import TicDatFactory"
     ],
     "language": "python",
     "metadata": {},
     "outputs": [],
     "prompt_number": 1
    },
    {
     "cell_type": "markdown",
     "metadata": {},
     "source": [
      "Next, we create a `TicDatFactory` object that defines the tables, primary key fields, and data fields for the diet problem. "
     ]
    },
    {
     "cell_type": "code",
     "collapsed": false,
     "input": [
      "dataFactory = TicDatFactory (\n",
      "     categories = [[\"name\"],[\"minNutrition\", \"maxNutrition\"]],\n",
      "     foods  = [[\"name\"],[\"cost\"]],\n",
      "     nutritionQuantities = [[\"food\", \"category\"], [\"qty\"]])"
     ],
     "language": "python",
     "metadata": {},
     "outputs": [],
     "prompt_number": 2
    },
    {
     "cell_type": "markdown",
     "metadata": {},
     "source": [
      "Add the foreign key relationships - the `nutritionQuantities` table is a child to `foods` and `categories`."
     ]
    },
    {
     "cell_type": "code",
     "collapsed": false,
     "input": [
      "dataFactory.add_foreign_key(\"nutritionQuantities\", \"foods\", [\"food\", \"name\"])"
     ],
     "language": "python",
     "metadata": {},
     "outputs": [],
     "prompt_number": 3
    },
    {
     "cell_type": "code",
     "collapsed": false,
     "input": [
      "dataFactory.add_foreign_key(\"nutritionQuantities\", \"categories\", [\"category\", \"name\"])"
     ],
     "language": "python",
     "metadata": {},
     "outputs": [],
     "prompt_number": 4
    },
    {
     "cell_type": "markdown",
     "metadata": {},
     "source": [
      "The default default of zero is fine everywhere, except for `maxNutrition`"
     ]
    },
    {
     "cell_type": "code",
     "collapsed": false,
     "input": [
      "dataFactory.set_default_value(\"categories\", \"maxNutrition\", float(\"inf\"))"
     ],
     "language": "python",
     "metadata": {},
     "outputs": [],
     "prompt_number": 5
    },
    {
     "cell_type": "markdown",
     "metadata": {},
     "source": [
      "By default, none of the data fields are typed. We want to add types to our data fields, to facilitate data wrangling. That is to say, to recognize data entries of the wrong type. (`TicDat` objects will accept data of any type regardless of field type specifications). "
     ]
    },
    {
     "cell_type": "markdown",
     "metadata": {},
     "source": [
      "First, we simply call `set_data_type` for every data field with the default arguments. This specifies the most common data type - a non-negative, non-infinite number that has no integrality restrictions."
     ]
    },
    {
     "cell_type": "code",
     "collapsed": false,
     "input": [
      "for table, fields in dataFactory.data_fields.items():\n",
      "    for field in fields:\n",
      "        dataFactory.set_data_type(table, field)"
     ],
     "language": "python",
     "metadata": {},
     "outputs": [],
     "prompt_number": 6
    },
    {
     "cell_type": "markdown",
     "metadata": {},
     "source": [
      "The `maxNutrition` field for the `categories` table is different. Here, we want to accept positive infinity as valid. (The Atkins diet having taught us we can basically eat as much protein and fat as we want, so long as we don't eat too many calories). "
     ]
    },
    {
     "cell_type": "code",
     "collapsed": false,
     "input": [
      "dataFactory.set_data_type(\"categories\", \"maxNutrition\", max=float(\"inf\"), \n",
      "                                                        inclusive_max=True)"
     ],
     "language": "python",
     "metadata": {},
     "outputs": [],
     "prompt_number": 7
    },
    {
     "cell_type": "markdown",
     "metadata": {},
     "source": [
      "We've specified our tables, fields, foreign keys, and data types. We're ready to wrangle! "
     ]
    },
    {
     "cell_type": "markdown",
     "metadata": {},
     "source": [
      "The `moreFood.xls` file has `categories`, `foods` and `nutritionQuantities` sheets that we think can populate a sound diet model. First, we inspect this file to insure there are no duplicated records."
     ]
    },
    {
     "cell_type": "code",
     "collapsed": false,
     "input": [
      "dups = dataFactory.xls.get_duplicates(\"moreFood.xls\")"
     ],
     "language": "python",
     "metadata": {},
     "outputs": [],
     "prompt_number": 8
    },
    {
     "cell_type": "code",
     "collapsed": false,
     "input": [
      "dups"
     ],
     "language": "python",
     "metadata": {},
     "outputs": [
      {
       "metadata": {},
       "output_type": "pyout",
       "prompt_number": 9,
       "text": [
        "{'nutritionQuantities': {(u'pizza', u'protein'): 2, (u'salad', u'protein'): 2}}"
       ]
      }
     ],
     "prompt_number": 9
    },
    {
     "cell_type": "markdown",
     "metadata": {},
     "source": [
      "So we found two duplicate rows. The amount of protein in pizza and the amount of protein in salad has been specified twice. There is, in general, no magic solution for dealing with this sort of problem. (They call it \"data wrangling\" because you should expect to exert some effort). In this instance, it's easy enough to verify that the protein quantity is the same for both duplicates, and thus there is no problem in simply ignoring the duplication."
     ]
    },
    {
     "cell_type": "markdown",
     "metadata": {},
     "source": [
      "Next, we read the all three tables into a `TicDat` data object."
     ]
    },
    {
     "cell_type": "code",
     "collapsed": false,
     "input": [
      "dat = dataFactory.xls.create_tic_dat(\"moreFood.xls\")"
     ],
     "language": "python",
     "metadata": {},
     "outputs": [],
     "prompt_number": 10
    },
    {
     "cell_type": "markdown",
     "metadata": {},
     "source": [
      "Some basic Python lets us get a row count for each table. Since `4*37==148`, it looks like the `nutritionQuantities` table is fully populated, but there is an easy `ticdat` way to be sure."
     ]
    },
    {
     "cell_type": "code",
     "collapsed": false,
     "input": [
      "{t:len(getattr(dat, t)) for t in dataFactory.all_tables}"
     ],
     "language": "python",
     "metadata": {},
     "outputs": [
      {
       "metadata": {},
       "output_type": "pyout",
       "prompt_number": 11,
       "text": [
        "{'categories': 4, 'foods': 37, 'nutritionQuantities': 148}"
       ]
      }
     ],
     "prompt_number": 11
    },
    {
     "cell_type": "markdown",
     "metadata": {},
     "source": [
      "To be fully confident that `nutritionQuantities` is populated correctly, we will check for foreign key reference failures. Typically, databases will simply reject data records that fail to match the required foreign keys. `ticdat` is a relational data library, not a database, so it accepts such records and then helps you find any failed matches."
     ]
    },
    {
     "cell_type": "code",
     "collapsed": false,
     "input": [
      "foreign_key_failed = dataFactory.find_foreign_key_failures(dat)"
     ],
     "language": "python",
     "metadata": {},
     "outputs": [],
     "prompt_number": 12
    },
    {
     "cell_type": "code",
     "collapsed": false,
     "input": [
      "foreign_key_failed"
     ],
     "language": "python",
     "metadata": {},
     "outputs": [
      {
       "metadata": {},
       "output_type": "pyout",
       "prompt_number": 13,
       "text": [
        "{ForeignKey(native_table='nutritionQuantities', foreign_table='foods', mapping=FKMapping(native_field='food', foreign_field='name'), cardinality='many-to-one'): ForeignKeyFailures(native_values=(u'Baked Cods',), native_pks=((u'Baked Cods', u'protein'), (u'Baked Cods', u'sodium'), (u'Baked Cods', u'calories'), (u'Baked Cods', u'fat')))}"
       ]
      }
     ],
     "prompt_number": 13
    },
    {
     "cell_type": "markdown",
     "metadata": {},
     "source": [
      "So there are foreign key failures. Good thing we checked! The `foreign_key_failed` dictionary doesn't render very nicely here in iPython. That's because its using a `namedtuple` both for keys and values. We can make it prettier by filtering out the self documentation."
     ]
    },
    {
     "cell_type": "code",
     "collapsed": false,
     "input": [
      "{tuple(k[:2]):v.native_values for k,v in foreign_key_failed.items()}"
     ],
     "language": "python",
     "metadata": {},
     "outputs": [
      {
       "metadata": {},
       "output_type": "pyout",
       "prompt_number": 14,
       "text": [
        "{('nutritionQuantities', 'foods'): (u'Baked Cods',)}"
       ]
      }
     ],
     "prompt_number": 14
    },
    {
     "cell_type": "code",
     "collapsed": false,
     "input": [
      "{tuple(k[:2]):v.native_pks for k,v in foreign_key_failed.items()}"
     ],
     "language": "python",
     "metadata": {},
     "outputs": [
      {
       "metadata": {},
       "output_type": "pyout",
       "prompt_number": 15,
       "text": [
        "{('nutritionQuantities', 'foods'): ((u'Baked Cods', u'protein'),\n",
        "  (u'Baked Cods', u'sodium'),\n",
        "  (u'Baked Cods', u'calories'),\n",
        "  (u'Baked Cods', u'fat'))}"
       ]
      }
     ],
     "prompt_number": 15
    },
    {
     "cell_type": "markdown",
     "metadata": {},
     "source": [
      "I think I see what's happening here. When the `nutritionQuantities` table was trying to match into the `foods` table the \"Baked Cods\" string wasn't matching with any of the food names. \"Baked Cods\" is the only string that failed to match, but it failed 4 times (once for every nutrition category). Lets poke around a bit to see if we can figure out what \"Baked Cods\" is supposed to match."
     ]
    },
    {
     "cell_type": "code",
     "collapsed": false,
     "input": [
      "[k for k in dat.foods if \"cod\" in k.lower()]"
     ],
     "language": "python",
     "metadata": {},
     "outputs": [
      {
       "metadata": {},
       "output_type": "pyout",
       "prompt_number": 16,
       "text": [
        "[u'2 Cod Meal',\n",
        " u'Baked Cod & Shrimp Platter',\n",
        " u'Cod & Shrimp Platter',\n",
        " u'Baked Cod']"
       ]
      }
     ],
     "prompt_number": 16
    },
    {
     "cell_type": "markdown",
     "metadata": {},
     "source": [
      "Aha! I see what's going on. \"Baked Cods\" is just mispelled everywhere. It's supposed to be \"Baked Cod\". (Did I mention already that it's a good thing we checked? Without fixing it, the MIP I run below will throw an exception, or, if using an unfrozen `TicDat` object, simply assign \"Baked Cod\" the default value of zero for all nutrition categories). Luckily, this is just the sort of wrangling Python is good at. Lets replace `dat` with a copy that fixes this misspelling. "
     ]
    },
    {
     "cell_type": "code",
     "collapsed": false,
     "input": [
      "dat = dataFactory.TicDat(categories = dat.categories, \n",
      "                         foods = dat.foods,\n",
      "                         nutritionQuantities = { \n",
      "                                (\"Baked Cod\" if f == \"Baked Cods\" else f,c):v\n",
      "                                for (f,c),v in dat.nutritionQuantities.items()})"
     ],
     "language": "python",
     "metadata": {},
     "outputs": [],
     "prompt_number": 17
    },
    {
     "cell_type": "markdown",
     "metadata": {},
     "source": [
      "Lets just double check that this fixes up all the foreign key problems. \"Only The Paranoid Survive\", amirite?"
     ]
    },
    {
     "cell_type": "code",
     "collapsed": false,
     "input": [
      "assert not dataFactory.find_foreign_key_failures(dat)"
     ],
     "language": "python",
     "metadata": {},
     "outputs": [],
     "prompt_number": 18
    },
    {
     "cell_type": "markdown",
     "metadata": {},
     "source": [
      "Might as well double check the row counts. "
     ]
    },
    {
     "cell_type": "code",
     "collapsed": false,
     "input": [
      "{t:len(getattr(dat, t)) for t in dataFactory.all_tables}"
     ],
     "language": "python",
     "metadata": {},
     "outputs": [
      {
       "metadata": {},
       "output_type": "pyout",
       "prompt_number": 19,
       "text": [
        "{'categories': 4, 'foods': 37, 'nutritionQuantities': 148}"
       ]
      }
     ],
     "prompt_number": 19
    },
    {
     "cell_type": "markdown",
     "metadata": {},
     "source": [
      "Duplicates, foreign keys, what's left to check? Oh, that's right, the actual data."
     ]
    },
    {
     "cell_type": "code",
     "collapsed": false,
     "input": [
      "data_failed = dataFactory.find_data_type_failures(dat)"
     ],
     "language": "python",
     "metadata": {},
     "outputs": [],
     "prompt_number": 20
    },
    {
     "cell_type": "code",
     "collapsed": false,
     "input": [
      "data_failed"
     ],
     "language": "python",
     "metadata": {},
     "outputs": [
      {
       "metadata": {},
       "output_type": "pyout",
       "prompt_number": 21,
       "text": [
        "{TableField(table='categories', field='maxNutrition'): ValuesPks(bad_values=(u'GRB.INFINITY',), pks=(u'protein',)),\n",
        " TableField(table='nutritionQuantities', field='qty'): ValuesPks(bad_values=('',), pks=((u'sunnyside egg', u'sodium'),))}"
       ]
      }
     ],
     "prompt_number": 21
    },
    {
     "cell_type": "markdown",
     "metadata": {},
     "source": [
      "So there are data field problems as well. Similar to before, the `data_failed` dictionary doesn't render very nicely in iPython because of the (self documenting but cosmetically irritating) use of `namedtuple`. Easy enough to pretty it up."
     ]
    },
    {
     "cell_type": "code",
     "collapsed": false,
     "input": [
      "{tuple(k):v.bad_values for k,v in data_failed.items()}"
     ],
     "language": "python",
     "metadata": {},
     "outputs": [
      {
       "metadata": {},
       "output_type": "pyout",
       "prompt_number": 22,
       "text": [
        "{('categories', 'maxNutrition'): (u'GRB.INFINITY',),\n",
        " ('nutritionQuantities', 'qty'): ('',)}"
       ]
      }
     ],
     "prompt_number": 22
    },
    {
     "cell_type": "code",
     "collapsed": false,
     "input": [
      "{tuple(k):len(v.pks) for k,v in data_failed.items()}"
     ],
     "language": "python",
     "metadata": {},
     "outputs": [
      {
       "metadata": {},
       "output_type": "pyout",
       "prompt_number": 23,
       "text": [
        "{('categories', 'maxNutrition'): 1, ('nutritionQuantities', 'qty'): 1}"
       ]
      }
     ],
     "prompt_number": 23
    },
    {
     "cell_type": "markdown",
     "metadata": {},
     "source": [
      "There are two types of data field problems. The first is the `'GRB.INFINITY'` string in the `maxNutrition` field of the `categories` table. (This isn't a weird `ticdat.xls` bug. `ticdat` can recognize Excel INFINITY. The QA engineer who built the `moreFood.xls` file put a string based on a `gurobipy` constant in there hoping to trip me up.) \n",
      "\n",
      "The second data problem is the blank string in the `qty` field of the `nutritionQuantities` table. Both of these problems are both showing up for only one record apiece, so I feel pretty confident they are just typos of some sort. The sensible thing to do here is replace the `'GRB.INFINITY'` string with positive infinity, and also to replace the blank string with the number zero. That is equivalent to replacing bad data values with the appropriate default values. (Remember, the default default is zero for all data fields, and we overrode this for the `maxNutrition` field earlier). \n",
      "\n",
      "Lucky for us, there is a `ticdat` function just for this purpose."
     ]
    },
    {
     "cell_type": "code",
     "collapsed": false,
     "input": [
      "dataFactory.replace_data_type_failures(dat)"
     ],
     "language": "python",
     "metadata": {},
     "outputs": [
      {
       "metadata": {},
       "output_type": "pyout",
       "prompt_number": 24,
       "text": [
        "td:('nutritionQuantities', 'foods', 'categories')"
       ]
      }
     ],
     "prompt_number": 24
    },
    {
     "cell_type": "code",
     "collapsed": false,
     "input": [
      "assert not dataFactory.find_data_type_failures(dat)"
     ],
     "language": "python",
     "metadata": {},
     "outputs": [],
     "prompt_number": 25
    },
    {
     "cell_type": "markdown",
     "metadata": {},
     "source": [
      "Might as well specifically inspect the replacement values populated by `find_data_type_failures`."
     ]
    },
    {
     "cell_type": "code",
     "collapsed": false,
     "input": [
      "{dat.categories[f]['maxNutrition'] for f in data_failed['categories', 'maxNutrition'].pks}"
     ],
     "language": "python",
     "metadata": {},
     "outputs": [
      {
       "metadata": {},
       "output_type": "pyout",
       "prompt_number": 26,
       "text": [
        "{inf}"
       ]
      }
     ],
     "prompt_number": 26
    },
    {
     "cell_type": "code",
     "collapsed": false,
     "input": [
      "{dat.nutritionQuantities[f,c]['qty'] for f,c in \n",
      "                                     data_failed['nutritionQuantities', 'qty'].pks}"
     ],
     "language": "python",
     "metadata": {},
     "outputs": [
      {
       "metadata": {},
       "output_type": "pyout",
       "prompt_number": 27,
       "text": [
        "{0}"
       ]
      }
     ],
     "prompt_number": 27
    },
    {
     "cell_type": "markdown",
     "metadata": {},
     "source": [
      "Now that the data is all cleaned up, we can solve it with a MIP. We happen to have the `dietmodel.py` file handy right here. As a well modularized solve engine, this file publishes both its input and output schema along with a `solve` function. However, we know our `dat` object is consistent with the `dietmodel` input schema, so we can go straight to `solve`."
     ]
    },
    {
     "cell_type": "code",
     "collapsed": false,
     "input": [
      "from dietmodel import solve"
     ],
     "language": "python",
     "metadata": {},
     "outputs": [],
     "prompt_number": 28
    },
    {
     "cell_type": "markdown",
     "metadata": {},
     "source": [
      "Now, I'm going to be a little fancy here, and freeze my `dat` object before passing it to `solve`. I don't want `solve` to even try to edit the input data. All `solve` should do is read from `dat`. After I freeze `dat`, any attempt to write to `dat` (deliberate or accidental) will throw an exception. If `solve` runs without an exception throw I'll know there weren't any such attempts to edit the input data."
     ]
    },
    {
     "cell_type": "code",
     "collapsed": false,
     "input": [
      "soln = solve(dataFactory.freeze_me(dat))"
     ],
     "language": "python",
     "metadata": {},
     "outputs": [
      {
       "output_type": "stream",
       "stream": "stdout",
       "text": [
        "Optimize a model with 4 rows, 41 columns and 151 nonzeros\n"
       ]
      },
      {
       "output_type": "stream",
       "stream": "stdout",
       "text": [
        "Presolve removed 0 rows and 3 columns\n"
       ]
      },
      {
       "output_type": "stream",
       "stream": "stdout",
       "text": [
        "Presolve time: 0.00s\n"
       ]
      },
      {
       "output_type": "stream",
       "stream": "stdout",
       "text": [
        "Presolved: 4 rows, 38 columns, 148 nonzeros\n"
       ]
      },
      {
       "output_type": "stream",
       "stream": "stdout",
       "text": [
        "\n"
       ]
      },
      {
       "output_type": "stream",
       "stream": "stdout",
       "text": [
        "Iteration    Objective       Primal Inf.    Dual Inf.      Time\n"
       ]
      },
      {
       "output_type": "stream",
       "stream": "stdout",
       "text": [
        "       0    0.0000000e+00   3.179688e+00   0.000000e+00      0s\n"
       ]
      },
      {
       "output_type": "stream",
       "stream": "stdout",
       "text": [
        "       4    6.8838775e+00   0.000000e+00   0.000000e+00      0s\n"
       ]
      },
      {
       "output_type": "stream",
       "stream": "stdout",
       "text": [
        "\n"
       ]
      },
      {
       "output_type": "stream",
       "stream": "stdout",
       "text": [
        "Solved in 4 iterations and 0.00 seconds\n"
       ]
      },
      {
       "output_type": "stream",
       "stream": "stdout",
       "text": [
        "Optimal objective  6.883877480e+00\n"
       ]
      }
     ],
     "prompt_number": 29
    },
    {
     "cell_type": "markdown",
     "metadata": {},
     "source": [
      "Good, no exception throw, even when running on frozen input. We've got some nice diagnostic output from `gurobipy`, which is also reassuring. Let's see what solution was created."
     ]
    },
    {
     "cell_type": "code",
     "collapsed": false,
     "input": [
      "soln.buyFood"
     ],
     "language": "python",
     "metadata": {},
     "outputs": [
      {
       "metadata": {},
       "output_type": "pyout",
       "prompt_number": 30,
       "text": [
        "{u'bacon': _td:{'qty': 1.0210393585062434},\n",
        " u'boiled egg': _td:{'qty': 2.757684125701712},\n",
        " u'hot dog': _td:{'qty': 2.1451544549453345}}"
       ]
      }
     ],
     "prompt_number": 30
    },
    {
     "cell_type": "markdown",
     "metadata": {},
     "source": [
      "Ok, bacon, eggs, and hot dogs. It's an Atkins paradise. Say no more, optimizer, this is a diet I can live with!"
     ]
    }
   ],
   "metadata": {}
  }
 ]
}